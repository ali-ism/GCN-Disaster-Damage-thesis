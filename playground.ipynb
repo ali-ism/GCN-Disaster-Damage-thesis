{
 "cells": [
  {
   "source": [
    "# Data Visualization"
   ],
   "cell_type": "markdown",
   "metadata": {}
  },
  {
   "cell_type": "code",
   "execution_count": null,
   "metadata": {},
   "outputs": [],
   "source": [
    "import pandas as pd\n",
    "from pathlib import Path\n",
    "\n",
    "xbd_path = 'datasets/xbd'\n",
    "subsets = ('/train_bldgs/', '/hold_bldgs/', '/test_bldgs/', '/tier3_bldgs/')\n",
    "disaster_folders = os.listdir(xbd_path + subsets[0])\n",
    "\n",
    "i_subset = 0\n",
    "i_disaster = 5\n",
    "\n",
    "print(list(Path(xbd_path + subsets[i_subset] + disaster_folders[i_disaster]).glob('*.csv*'))[0])\n",
    "labels = pd.read_csv(list(Path(xbd_path + subsets[i_subset] + disaster_folders[i_disaster]).glob('*.csv*'))[0])\n",
    "labels.columns = ['name', 'xcoords', 'ycoords', 'long', 'lat', 'class']\n",
    "zone = lambda row: '_'.join(row['name'].split('_', 2)[:2])\n",
    "labels['zone'] = labels.apply(zone, axis=1)\n",
    "labels['zone'].value_counts()\n",
    "#labels['zone'].value_counts()[labels['zone'].value_counts()==1].index.tolist()"
   ]
  },
  {
   "cell_type": "code",
   "execution_count": null,
   "metadata": {},
   "outputs": [],
   "source": [
    "from visualization import plot_on_image\n",
    "\n",
    "plot_on_image(labels, subsets[i_subset], 'mexico-earthquake_00000192')"
   ]
  },
  {
   "cell_type": "code",
   "execution_count": null,
   "metadata": {},
   "outputs": [],
   "source": [
    "from visualization import plot_on_map\n",
    "\n",
    "plot_on_map(labels, mapbox=False)"
   ]
  },
  {
   "cell_type": "code",
   "execution_count": null,
   "metadata": {},
   "outputs": [],
   "source": [
    "import matplotlib\n",
    "import matplotlib.pyplot as plt\n",
    "import numpy as np\n",
    "from visualization import CmapString\n",
    "\n",
    "cmap = CmapString(palette='viridis', domain=labels['zone'].values)\n",
    "\n",
    "plt.figure(figsize=(12,8))\n",
    "for _, row in labels.iterrows():\n",
    "    plt.scatter(row['xcoords'], row['ycoords'], label=row['zone'], color=cmap.color(row['zone']))\n",
    "plt.axis('off')\n",
    "plt.show()"
   ]
  },
  {
   "cell_type": "markdown",
   "metadata": {},
   "source": [
    "---\n",
    "\n",
    "# Graph Generation"
   ]
  },
  {
   "cell_type": "code",
   "execution_count": null,
   "metadata": {},
   "outputs": [],
   "source": [
    "import os\n",
    "from pathlib import Path\n",
    "import json\n",
    "import pandas as pd"
   ]
  },
  {
   "cell_type": "code",
   "execution_count": null,
   "metadata": {},
   "outputs": [],
   "source": [
    "path = 'datasets/xbd/hold_bldgs/'\n",
    "disaster_folders = os.listdir(path)\n",
    "disaster = 'mexico-earthquake'\n",
    "\n",
    "labels = pd.read_csv(list(Path(path + disaster).glob('*.csv*'))[0], index_col=0)\n",
    "labels.drop(columns=['long','lat'], inplace=True)\n",
    "zone = lambda row: '_'.join(row.name.split('_', 2)[:2])\n",
    "labels['zone'] = labels.apply(zone, axis=1)\n",
    "\n",
    "processed_files = []\n",
    "zones = labels['zone'].value_counts()[labels['zone'].value_counts()>1].index.tolist()\n",
    "for zone in zones:\n",
    "     if not ((labels[labels['zone'] == zone]['class'] == 'un-classified').all() or \\\n",
    "            (labels[labels['zone'] == zone]['class'] != 'un-classified').sum() == 1):\n",
    "        processed_files.append(f'{zone}.pt')\n",
    "\n",
    "len(processed_files)"
   ]
  },
  {
   "cell_type": "markdown",
   "metadata": {},
   "source": [
    "---\n",
    "\n",
    "# Training"
   ]
  },
  {
   "cell_type": "code",
   "execution_count": null,
   "metadata": {},
   "outputs": [],
   "source": [
    "import json\n",
    "import numpy as np\n",
    "import matplotlib.pyplot as plt\n",
    "import torch\n",
    "import torch.nn.functional as F\n",
    "from torch.optim.lr_scheduler import ReduceLROnPlateau\n",
    "from torch_geometric.data import GraphSAINTNodeSampler\n",
    "from tqdm import tqdm\n",
    "from dataset import xBD\n",
    "from model import DeeperGCN\n",
    "from metrics import xview2_f1_score\n",
    "\n",
    "with open('exp_settings.json', 'r') as JSON:\n",
    "    settings_dict = json.load(JSON)\n",
    "\n",
    "seed = settings_dict['seed']\n",
    "batch_size = settings_dict['data']['batch_size']\n",
    "num_steps = settings_dict['data']['saint_num_steps']\n",
    "name = settings_dict['model']['name']\n",
    "\n",
    "train_roots = [\"C:/thesis/datasets/xbd/mexico_train\"]\n",
    "test_roots = [\"C:/thesis/datasets/xbd/mexico_test\"]\n",
    "\n",
    "mexico_hold = [\"C:/thesis/datasets/xbd/mexico_hold\"]\n",
    "\n",
    "hidden_units = settings_dict['model']['hidden_units']\n",
    "num_layers = settings_dict['model']['num_layers']\n",
    "dropout_rate = settings_dict['model']['dropout_rate']\n",
    "lr = settings_dict['model']['lr']\n",
    "n_epochs = settings_dict['epochs']\n",
    "starting_epoch = settings_dict['starting_epoch']\n",
    "path = settings_dict['model']['path']\n",
    "save_best_only = settings_dict['save_best_only']\n",
    "\n",
    "device = torch.device(\"cuda:0\" if torch.cuda.is_available() else \"cpu\")\n",
    "torch.manual_seed(seed)\n",
    "torch.backends.cudnn.deterministic = True\n",
    "torch.backends.cudnn.benchmark = False"
   ]
  },
  {
   "cell_type": "code",
   "execution_count": null,
   "metadata": {},
   "outputs": [],
   "source": [
    "train_data_list = [xBD(train_roots[0], 'mexico-earthquake', 'train')]\n",
    "#test_data_list = [xBD(test_roots[0], 'mexico-earthquake', 'test')]\n",
    "#hold_data_list = [xBD(mexico_hold[0], 'mexico-earthquake', 'hold')]"
   ]
  },
  {
   "cell_type": "code",
   "execution_count": null,
   "metadata": {},
   "outputs": [],
   "source": [
    "y_all = []\n",
    "for dataset in train_data_list:\n",
    "    y_all.extend([data.y for data in dataset])\n",
    "y_all = torch.cat(y_all)"
   ]
  },
  {
   "cell_type": "code",
   "execution_count": null,
   "metadata": {},
   "outputs": [],
   "source": [
    "from metrics import parse_ordinal_output\n",
    "y_allp = parse_ordinal_output(y_all)"
   ]
  },
  {
   "cell_type": "code",
   "execution_count": null,
   "metadata": {},
   "outputs": [],
   "source": [
    "from sklearn.utils.class_weight import compute_class_weight\n",
    "class_weights = compute_class_weight(class_weight='balanced', classes=np.unique(y_allp), y=y_allp)"
   ]
  },
  {
   "cell_type": "code",
   "execution_count": null,
   "metadata": {},
   "outputs": [],
   "source": [
    "dataset = train_data_list[0]\n",
    "model = DeeperGCN(dataset.num_node_features, dataset.num_edge_features, hidden_units, dataset.num_classes,num_layers, dropout_rate)"
   ]
  },
  {
   "cell_type": "code",
   "execution_count": null,
   "metadata": {},
   "outputs": [],
   "source": [
    "model.train()\n",
    "data = dataset[0]\n",
    "sampler = GraphSAINTNodeSampler(data, batch_size=batch_size, num_steps=num_steps, num_workers=2)"
   ]
  },
  {
   "cell_type": "code",
   "execution_count": null,
   "metadata": {},
   "outputs": [],
   "source": [
    "for subdata in sampler:\n",
    "    subdata = subdata.to(device)\n",
    "    out = model(subdata.x, subdata.edge_index, subdata.edge_attr)\n",
    "    loss = F.binary_cross_entropy(input=out, target=subdata.y.float(), weight=torch.Tensor(class_weights))\n",
    "    print(loss)\n",
    "    break"
   ]
  }
 ],
 "metadata": {
  "interpreter": {
   "hash": "95d70da30fd22c72e34c5b2686d9425669d156b01d561237a148d8f19599268b"
  },
  "kernelspec": {
   "name": "python3",
   "display_name": "Python 3.8.10 64-bit ('geo-ai': conda)"
  },
  "language_info": {
   "codemirror_mode": {
    "name": "ipython",
    "version": 3
   },
   "file_extension": ".py",
   "mimetype": "text/x-python",
   "name": "python",
   "nbconvert_exporter": "python",
   "pygments_lexer": "ipython3",
   "version": "3.8.10"
  }
 },
 "nbformat": 4,
 "nbformat_minor": 4
}