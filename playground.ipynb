{
 "metadata": {
  "language_info": {
   "codemirror_mode": {
    "name": "ipython",
    "version": 3
   },
   "file_extension": ".py",
   "mimetype": "text/x-python",
   "name": "python",
   "nbconvert_exporter": "python",
   "pygments_lexer": "ipython3",
   "version": "3.7.10-final"
  },
  "orig_nbformat": 2,
  "kernelspec": {
   "name": "python3",
   "display_name": "Python 3.7.10 64-bit ('ai': conda)",
   "metadata": {
    "interpreter": {
     "hash": "5031f79d2a0762a93fe093d47ca4666becb7c86b29dce5af1939a06639a94482"
    }
   }
  }
 },
 "nbformat": 4,
 "nbformat_minor": 2,
 "cells": [
  {
   "cell_type": "code",
   "execution_count": null,
   "metadata": {},
   "outputs": [],
   "source": [
    "import torch\n",
    "from torch.utils.tensorboard import SummaryWriter\n",
    "from feature_extractor import loadFeatureExtractor\n",
    "#from torchsummary import summary\n",
    "%load_ext tensorboard"
   ]
  },
  {
   "cell_type": "code",
   "execution_count": null,
   "metadata": {},
   "outputs": [],
   "source": [
    "model = loadFeatureExtractor()\n",
    "x = torch.randn((6, 256, 256)).unsqueeze(0)\n",
    "y = model(x)"
   ]
  },
  {
   "cell_type": "code",
   "execution_count": null,
   "metadata": {
    "tags": []
   },
   "outputs": [],
   "source": [
    "#summary(model, (6,256,256))"
   ]
  },
  {
   "cell_type": "code",
   "execution_count": null,
   "metadata": {},
   "outputs": [],
   "source": [
    "y.shape"
   ]
  },
  {
   "cell_type": "code",
   "execution_count": null,
   "metadata": {},
   "outputs": [],
   "source": [
    "y.flatten().shape"
   ]
  },
  {
   "cell_type": "code",
   "execution_count": null,
   "metadata": {},
   "outputs": [],
   "source": [
    "writer = SummaryWriter()\n",
    "writer.add_graph(model, x)\n",
    "writer.close()"
   ]
  },
  {
   "cell_type": "code",
   "execution_count": null,
   "metadata": {},
   "outputs": [],
   "source": [
    "logs_base_dir = \"./logs\"\n",
    "os.makedirs(logs_base_dir, exist_ok=True)\n",
    "%tensorboard --logdir {logs_base_dir}"
   ]
  },
  {
   "source": [
    "---"
   ],
   "cell_type": "markdown",
   "metadata": {}
  },
  {
   "cell_type": "code",
   "execution_count": 4,
   "metadata": {},
   "outputs": [],
   "source": [
    "from pathlib import Path\n",
    "\n",
    "folders = list(Path(\"C:/xBD/test_bldgs/\").glob('*'))"
   ]
  },
  {
   "cell_type": "code",
   "execution_count": 10,
   "metadata": {},
   "outputs": [
    {
     "output_type": "execute_result",
     "data": {
      "text/plain": [
       "                                                                                  coords  \\\n",
       "guatemala-volcano_00000003_post_disaster_0.png  (465.94617850181066, 109.62942748980328)   \n",
       "guatemala-volcano_00000003_post_disaster_1.png   (240.50073856928046, 314.8236608385315)   \n",
       "guatemala-volcano_00000003_post_disaster_2.png   (591.9558061636591, 266.25772937220216)   \n",
       "guatemala-volcano_00000005_post_disaster_0.png      (814.0503282467604, 958.26675138958)   \n",
       "guatemala-volcano_00000009_post_disaster_0.png    (319.7156849146396, 745.2364736911228)   \n",
       "\n",
       "                                                        class  \n",
       "guatemala-volcano_00000003_post_disaster_0.png   minor-damage  \n",
       "guatemala-volcano_00000003_post_disaster_1.png      destroyed  \n",
       "guatemala-volcano_00000003_post_disaster_2.png   minor-damage  \n",
       "guatemala-volcano_00000005_post_disaster_0.png  un-classified  \n",
       "guatemala-volcano_00000009_post_disaster_0.png  un-classified  "
      ],
      "text/html": "<div>\n<style scoped>\n    .dataframe tbody tr th:only-of-type {\n        vertical-align: middle;\n    }\n\n    .dataframe tbody tr th {\n        vertical-align: top;\n    }\n\n    .dataframe thead th {\n        text-align: right;\n    }\n</style>\n<table border=\"1\" class=\"dataframe\">\n  <thead>\n    <tr style=\"text-align: right;\">\n      <th></th>\n      <th>coords</th>\n      <th>class</th>\n    </tr>\n  </thead>\n  <tbody>\n    <tr>\n      <th>guatemala-volcano_00000003_post_disaster_0.png</th>\n      <td>(465.94617850181066, 109.62942748980328)</td>\n      <td>minor-damage</td>\n    </tr>\n    <tr>\n      <th>guatemala-volcano_00000003_post_disaster_1.png</th>\n      <td>(240.50073856928046, 314.8236608385315)</td>\n      <td>destroyed</td>\n    </tr>\n    <tr>\n      <th>guatemala-volcano_00000003_post_disaster_2.png</th>\n      <td>(591.9558061636591, 266.25772937220216)</td>\n      <td>minor-damage</td>\n    </tr>\n    <tr>\n      <th>guatemala-volcano_00000005_post_disaster_0.png</th>\n      <td>(814.0503282467604, 958.26675138958)</td>\n      <td>un-classified</td>\n    </tr>\n    <tr>\n      <th>guatemala-volcano_00000009_post_disaster_0.png</th>\n      <td>(319.7156849146396, 745.2364736911228)</td>\n      <td>un-classified</td>\n    </tr>\n  </tbody>\n</table>\n</div>"
     },
     "metadata": {},
     "execution_count": 10
    }
   ],
   "source": [
    "import pandas as pd\n",
    "df = pd.read_csv(list(folders[0].glob('*.csv'))[0], index_col=0)\n",
    "df.head()"
   ]
  },
  {
   "cell_type": "code",
   "execution_count": 11,
   "metadata": {},
   "outputs": [],
   "source": [
    "pre = list(folders[0].glob('*pre_disaster*'))"
   ]
  },
  {
   "cell_type": "code",
   "execution_count": 12,
   "metadata": {},
   "outputs": [],
   "source": [
    "post = list(folders[0].glob('*post_disaster*'))"
   ]
  },
  {
   "cell_type": "code",
   "execution_count": 21,
   "metadata": {},
   "outputs": [
    {
     "output_type": "execute_result",
     "data": {
      "text/plain": [
       "WindowsPath('C:/xBD/test_bldgs/guatemala-volcano/guatemala-volcano_00000009_pre_disaster_0.png')"
      ]
     },
     "metadata": {},
     "execution_count": 21
    }
   ],
   "source": [
    "pre[4]"
   ]
  },
  {
   "cell_type": "code",
   "execution_count": 22,
   "metadata": {},
   "outputs": [
    {
     "output_type": "execute_result",
     "data": {
      "text/plain": [
       "WindowsPath('C:/xBD/test_bldgs/guatemala-volcano/guatemala-volcano_00000009_post_disaster_0.png')"
      ]
     },
     "metadata": {},
     "execution_count": 22
    }
   ],
   "source": [
    "post[4]"
   ]
  },
  {
   "cell_type": "code",
   "execution_count": null,
   "metadata": {},
   "outputs": [],
   "source": []
  }
 ]
}