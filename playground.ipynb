{
 "cells": [
  {
   "cell_type": "code",
   "execution_count": 1,
   "metadata": {},
   "outputs": [],
   "source": [
    "import torch\n",
    "from feature_extractor import load_feature_extractor"
   ]
  },
  {
   "cell_type": "code",
   "execution_count": 2,
   "metadata": {},
   "outputs": [],
   "source": [
    "model = load_feature_extractor(weight_path='./weights/twostream-resnet50_all_plain.pt')"
   ]
  },
  {
   "cell_type": "code",
   "execution_count": 3,
   "metadata": {},
   "outputs": [
    {
     "output_type": "execute_result",
     "data": {
      "text/plain": [
       "torch.Size([131072])"
      ]
     },
     "metadata": {},
     "execution_count": 3
    }
   ],
   "source": [
    "x = torch.randn((6, 256, 256)).unsqueeze(0)\n",
    "y = model(x)\n",
    "y.shape"
   ]
  },
  {
   "cell_type": "markdown",
   "metadata": {},
   "source": [
    "---"
   ]
  },
  {
   "cell_type": "code",
   "execution_count": 2,
   "metadata": {},
   "outputs": [],
   "source": [
    "from pathlib import Path\n",
    "\n",
    "folders = list(Path(\"C:/xBD/test_bldgs/\").glob('*'))"
   ]
  },
  {
   "cell_type": "code",
   "execution_count": 3,
   "metadata": {},
   "outputs": [
    {
     "output_type": "execute_result",
     "data": {
      "text/plain": [
       "                                                                                  coords  \\\n",
       "guatemala-volcano_00000003_post_disaster_0.png  (465.94617850181066, 109.62942748980328)   \n",
       "guatemala-volcano_00000003_post_disaster_1.png   (240.50073856928046, 314.8236608385315)   \n",
       "guatemala-volcano_00000003_post_disaster_2.png   (591.9558061636591, 266.25772937220216)   \n",
       "guatemala-volcano_00000005_post_disaster_0.png      (814.0503282467604, 958.26675138958)   \n",
       "guatemala-volcano_00000009_post_disaster_0.png    (319.7156849146396, 745.2364736911228)   \n",
       "\n",
       "                                                        class  \n",
       "guatemala-volcano_00000003_post_disaster_0.png   minor-damage  \n",
       "guatemala-volcano_00000003_post_disaster_1.png      destroyed  \n",
       "guatemala-volcano_00000003_post_disaster_2.png   minor-damage  \n",
       "guatemala-volcano_00000005_post_disaster_0.png  un-classified  \n",
       "guatemala-volcano_00000009_post_disaster_0.png  un-classified  "
      ],
      "text/html": "<div>\n<style scoped>\n    .dataframe tbody tr th:only-of-type {\n        vertical-align: middle;\n    }\n\n    .dataframe tbody tr th {\n        vertical-align: top;\n    }\n\n    .dataframe thead th {\n        text-align: right;\n    }\n</style>\n<table border=\"1\" class=\"dataframe\">\n  <thead>\n    <tr style=\"text-align: right;\">\n      <th></th>\n      <th>coords</th>\n      <th>class</th>\n    </tr>\n  </thead>\n  <tbody>\n    <tr>\n      <th>guatemala-volcano_00000003_post_disaster_0.png</th>\n      <td>(465.94617850181066, 109.62942748980328)</td>\n      <td>minor-damage</td>\n    </tr>\n    <tr>\n      <th>guatemala-volcano_00000003_post_disaster_1.png</th>\n      <td>(240.50073856928046, 314.8236608385315)</td>\n      <td>destroyed</td>\n    </tr>\n    <tr>\n      <th>guatemala-volcano_00000003_post_disaster_2.png</th>\n      <td>(591.9558061636591, 266.25772937220216)</td>\n      <td>minor-damage</td>\n    </tr>\n    <tr>\n      <th>guatemala-volcano_00000005_post_disaster_0.png</th>\n      <td>(814.0503282467604, 958.26675138958)</td>\n      <td>un-classified</td>\n    </tr>\n    <tr>\n      <th>guatemala-volcano_00000009_post_disaster_0.png</th>\n      <td>(319.7156849146396, 745.2364736911228)</td>\n      <td>un-classified</td>\n    </tr>\n  </tbody>\n</table>\n</div>"
     },
     "metadata": {},
     "execution_count": 3
    }
   ],
   "source": [
    "import pandas as pd\n",
    "df = pd.read_csv(list(folders[0].glob('*.csv'))[0], index_col=0)\n",
    "df.head()"
   ]
  },
  {
   "cell_type": "code",
   "execution_count": 14,
   "metadata": {},
   "outputs": [
    {
     "output_type": "execute_result",
     "data": {
      "text/plain": [
       "['465.94617850181066', ' 109.62942748980328']"
      ]
     },
     "metadata": {},
     "execution_count": 14
    }
   ],
   "source": [
    "df.iloc[0,0].replace('(','').replace(')','').split(',')"
   ]
  },
  {
   "cell_type": "code",
   "execution_count": 3,
   "metadata": {},
   "outputs": [],
   "source": [
    "pre = list(folders[0].glob('*pre_disaster*'))"
   ]
  },
  {
   "cell_type": "code",
   "execution_count": 4,
   "metadata": {},
   "outputs": [],
   "source": [
    "post = list(folders[0].glob('*post_disaster*'))"
   ]
  },
  {
   "cell_type": "code",
   "execution_count": 5,
   "metadata": {},
   "outputs": [
    {
     "data": {
      "text/plain": [
       "WindowsPath('C:/xBD/test_bldgs/guatemala-volcano/guatemala-volcano_00000009_pre_disaster_0.png')"
      ]
     },
     "execution_count": 5,
     "metadata": {},
     "output_type": "execute_result"
    }
   ],
   "source": [
    "pre[4]"
   ]
  },
  {
   "cell_type": "code",
   "execution_count": 6,
   "metadata": {},
   "outputs": [
    {
     "data": {
      "text/plain": [
       "WindowsPath('C:/xBD/test_bldgs/guatemala-volcano/guatemala-volcano_00000009_post_disaster_0.png')"
      ]
     },
     "execution_count": 6,
     "metadata": {},
     "output_type": "execute_result"
    }
   ],
   "source": [
    "post[4]"
   ]
  },
  {
   "cell_type": "markdown",
   "metadata": {},
   "source": [
    "---"
   ]
  },
  {
   "cell_type": "code",
   "execution_count": 3,
   "metadata": {},
   "outputs": [],
   "source": [
    "import os\n",
    "from pathlib import Path\n",
    "from collections import defaultdict\n",
    "\n",
    "disaster_dict = defaultdict(list)\n",
    "xbd_path = 'C:/xBD'\n",
    "subsets = ('/train_bldgs/', '/hold_bldgs/', '/test_bldgs/', '/tier3_bldgs/')\n",
    "\n",
    "disaster_folders = os.listdir(xbd_path + subsets[0]) + os.listdir(xbd_path + subsets[-1])\n",
    "\n",
    "for subset in subsets:\n",
    "    for disaster in disaster_folders:\n",
    "        disaster_dict[disaster + '_pre'].extend(map(str, Path(xbd_path + subset + disaster).glob('*pre_disaster*')))\n",
    "        disaster_dict[disaster + '_post'].extend(map(str, Path(xbd_path + subset + disaster).glob('*post_disaster*')))\n",
    "        disaster_dict[disaster + '_labels'].extend(map(str, Path(xbd_path + subset + disaster).glob('*.csv')))"
   ]
  },
  {
   "cell_type": "code",
   "execution_count": 4,
   "metadata": {},
   "outputs": [
    {
     "data": {
      "text/plain": [
       "dict_keys(['guatemala-volcano_pre', 'guatemala-volcano_post', 'guatemala-volcano_labels', 'hurricane-florence_pre', 'hurricane-florence_post', 'hurricane-florence_labels', 'hurricane-harvey_pre', 'hurricane-harvey_post', 'hurricane-harvey_labels', 'hurricane-matthew_pre', 'hurricane-matthew_post', 'hurricane-matthew_labels', 'hurricane-michael_pre', 'hurricane-michael_post', 'hurricane-michael_labels', 'mexico-earthquake_pre', 'mexico-earthquake_post', 'mexico-earthquake_labels', 'midwest-flooding_pre', 'midwest-flooding_post', 'midwest-flooding_labels', 'palu-tsunami_pre', 'palu-tsunami_post', 'palu-tsunami_labels', 'santa-rosa-wildfire_pre', 'santa-rosa-wildfire_post', 'santa-rosa-wildfire_labels', 'socal-fire_pre', 'socal-fire_post', 'socal-fire_labels', 'joplin-tornado_pre', 'joplin-tornado_post', 'joplin-tornado_labels', 'lower-puna-volcano_pre', 'lower-puna-volcano_post', 'lower-puna-volcano_labels', 'moore-tornado_pre', 'moore-tornado_post', 'moore-tornado_labels', 'nepal-flooding_pre', 'nepal-flooding_post', 'nepal-flooding_labels', 'pinery-bushfire_pre', 'pinery-bushfire_post', 'pinery-bushfire_labels', 'portugal-wildfire_pre', 'portugal-wildfire_post', 'portugal-wildfire_labels', 'sunda-tsunami_pre', 'sunda-tsunami_post', 'sunda-tsunami_labels', 'tuscaloosa-tornado_pre', 'tuscaloosa-tornado_post', 'tuscaloosa-tornado_labels', 'woolsey-fire_pre', 'woolsey-fire_post', 'woolsey-fire_labels'])"
      ]
     },
     "execution_count": 4,
     "metadata": {},
     "output_type": "execute_result"
    }
   ],
   "source": [
    "disaster_dict.keys()"
   ]
  },
  {
   "cell_type": "code",
   "execution_count": 6,
   "metadata": {},
   "outputs": [
    {
     "data": {
      "text/plain": [
       "['C:\\\\xBD\\\\train_bldgs\\\\hurricane-florence\\\\hurricane-florence_00000000_pre_disaster_0.png',\n",
       " 'C:\\\\xBD\\\\train_bldgs\\\\hurricane-florence\\\\hurricane-florence_00000000_pre_disaster_1.png',\n",
       " 'C:\\\\xBD\\\\train_bldgs\\\\hurricane-florence\\\\hurricane-florence_00000000_pre_disaster_10.png',\n",
       " 'C:\\\\xBD\\\\train_bldgs\\\\hurricane-florence\\\\hurricane-florence_00000000_pre_disaster_100.png',\n",
       " 'C:\\\\xBD\\\\train_bldgs\\\\hurricane-florence\\\\hurricane-florence_00000000_pre_disaster_101.png']"
      ]
     },
     "execution_count": 6,
     "metadata": {},
     "output_type": "execute_result"
    }
   ],
   "source": [
    "disaster_dict['hurricane-florence_pre'][:5]"
   ]
  },
  {
   "cell_type": "code",
   "execution_count": 7,
   "metadata": {},
   "outputs": [
    {
     "data": {
      "text/plain": [
       "['C:\\\\xBD\\\\train_bldgs\\\\hurricane-florence\\\\hurricane-florence_00000000_post_disaster_0.png',\n",
       " 'C:\\\\xBD\\\\train_bldgs\\\\hurricane-florence\\\\hurricane-florence_00000000_post_disaster_1.png',\n",
       " 'C:\\\\xBD\\\\train_bldgs\\\\hurricane-florence\\\\hurricane-florence_00000000_post_disaster_10.png',\n",
       " 'C:\\\\xBD\\\\train_bldgs\\\\hurricane-florence\\\\hurricane-florence_00000000_post_disaster_100.png',\n",
       " 'C:\\\\xBD\\\\train_bldgs\\\\hurricane-florence\\\\hurricane-florence_00000000_post_disaster_101.png']"
      ]
     },
     "execution_count": 7,
     "metadata": {},
     "output_type": "execute_result"
    }
   ],
   "source": [
    "disaster_dict['hurricane-florence_post'][:5]"
   ]
  },
  {
   "cell_type": "markdown",
   "metadata": {},
   "source": [
    "---"
   ]
  },
  {
   "cell_type": "code",
   "execution_count": 1,
   "metadata": {},
   "outputs": [],
   "source": [
    "import json\n",
    "\n",
    "with open('disaster_dirs.json', 'r') as JSON:\n",
    "    disasters_dict = json.load(JSON)"
   ]
  },
  {
   "cell_type": "code",
   "execution_count": 3,
   "metadata": {},
   "outputs": [
    {
     "name": "stdout",
     "output_type": "stream",
     "text": [
      "guatemala-volcano_pre\n"
     ]
    }
   ],
   "source": [
    "for disaster in disasters_dict:\n",
    "    print(disaster)\n",
    "    break"
   ]
  },
  {
   "cell_type": "code",
   "execution_count": 4,
   "metadata": {},
   "outputs": [
    {
     "data": {
      "text/plain": [
       "['C:\\\\xBD\\\\train_bldgs\\\\guatemala-volcano\\\\guatemala-volcano_train_labels.csv',\n",
       " 'C:\\\\xBD\\\\hold_bldgs\\\\guatemala-volcano\\\\guatemala-volcano_hold_labels.csv',\n",
       " 'C:\\\\xBD\\\\test_bldgs\\\\guatemala-volcano\\\\guatemala-volcano_test_labels.csv']"
      ]
     },
     "execution_count": 4,
     "metadata": {},
     "output_type": "execute_result"
    }
   ],
   "source": [
    "disasters_dict['guatemala-volcano_labels']"
   ]
  },
  {
   "cell_type": "code",
   "execution_count": 5,
   "metadata": {},
   "outputs": [
    {
     "data": {
      "text/plain": [
       "['C:\\\\xBD\\\\train_bldgs\\\\hurricane-florence\\\\hurricane-florence_train_labels.csv',\n",
       " 'C:\\\\xBD\\\\hold_bldgs\\\\hurricane-florence\\\\hurricane-florence_hold_labels.csv',\n",
       " 'C:\\\\xBD\\\\test_bldgs\\\\hurricane-florence\\\\hurricane-florence_test_labels.csv']"
      ]
     },
     "execution_count": 5,
     "metadata": {},
     "output_type": "execute_result"
    }
   ],
   "source": [
    "disasters_dict['hurricane-florence_labels']"
   ]
  },
  {
   "cell_type": "markdown",
   "metadata": {},
   "source": [
    "---"
   ]
  },
  {
   "cell_type": "code",
   "execution_count": 2,
   "metadata": {},
   "outputs": [],
   "source": [
    "import pandas as pd\n",
    "disaster = 'guatemala-volcano'\n",
    "annotation_train = pd.read_csv(disasters_dict[disaster + '_labels'][0], index_col=0)\n",
    "annotation_train['split'] = ['train'] * annotation_train.shape[0]\n",
    "annotation_hold = pd.read_csv(disasters_dict[disaster + '_labels'][1], index_col=0)\n",
    "annotation_hold['split'] = ['hold'] * annotation_hold.shape[0]\n",
    "annotation_test = pd.read_csv(disasters_dict[disaster + '_labels'][2], index_col=0)\n",
    "annotation_test['split'] = ['test'] * annotation_test.shape[0]\n",
    "annotation = pd.concat((annotation_train, annotation_hold, annotation_test))"
   ]
  },
  {
   "cell_type": "code",
   "execution_count": 3,
   "metadata": {},
   "outputs": [
    {
     "data": {
      "text/html": [
       "<div>\n",
       "<style scoped>\n",
       "    .dataframe tbody tr th:only-of-type {\n",
       "        vertical-align: middle;\n",
       "    }\n",
       "\n",
       "    .dataframe tbody tr th {\n",
       "        vertical-align: top;\n",
       "    }\n",
       "\n",
       "    .dataframe thead th {\n",
       "        text-align: right;\n",
       "    }\n",
       "</style>\n",
       "<table border=\"1\" class=\"dataframe\">\n",
       "  <thead>\n",
       "    <tr style=\"text-align: right;\">\n",
       "      <th></th>\n",
       "      <th>coords</th>\n",
       "      <th>class</th>\n",
       "      <th>split</th>\n",
       "    </tr>\n",
       "  </thead>\n",
       "  <tbody>\n",
       "    <tr>\n",
       "      <th>guatemala-volcano_00000000_post_disaster_0.png</th>\n",
       "      <td>(485.9121456599377, 215.77570850325483)</td>\n",
       "      <td>no-damage</td>\n",
       "      <td>train</td>\n",
       "    </tr>\n",
       "    <tr>\n",
       "      <th>guatemala-volcano_00000000_post_disaster_1.png</th>\n",
       "      <td>(825.060485390974, 755.5210197985012)</td>\n",
       "      <td>no-damage</td>\n",
       "      <td>train</td>\n",
       "    </tr>\n",
       "    <tr>\n",
       "      <th>guatemala-volcano_00000000_post_disaster_2.png</th>\n",
       "      <td>(1001.8022656179191, 840.8830078407719)</td>\n",
       "      <td>no-damage</td>\n",
       "      <td>train</td>\n",
       "    </tr>\n",
       "    <tr>\n",
       "      <th>guatemala-volcano_00000000_post_disaster_3.png</th>\n",
       "      <td>(1015.6418526761435, 916.5294599748164)</td>\n",
       "      <td>no-damage</td>\n",
       "      <td>train</td>\n",
       "    </tr>\n",
       "    <tr>\n",
       "      <th>guatemala-volcano_00000000_post_disaster_4.png</th>\n",
       "      <td>(995.5231309776162, 946.7686919466036)</td>\n",
       "      <td>no-damage</td>\n",
       "      <td>train</td>\n",
       "    </tr>\n",
       "  </tbody>\n",
       "</table>\n",
       "</div>"
      ],
      "text/plain": [
       "                                                                                 coords  \\\n",
       "guatemala-volcano_00000000_post_disaster_0.png  (485.9121456599377, 215.77570850325483)   \n",
       "guatemala-volcano_00000000_post_disaster_1.png    (825.060485390974, 755.5210197985012)   \n",
       "guatemala-volcano_00000000_post_disaster_2.png  (1001.8022656179191, 840.8830078407719)   \n",
       "guatemala-volcano_00000000_post_disaster_3.png  (1015.6418526761435, 916.5294599748164)   \n",
       "guatemala-volcano_00000000_post_disaster_4.png   (995.5231309776162, 946.7686919466036)   \n",
       "\n",
       "                                                    class  split  \n",
       "guatemala-volcano_00000000_post_disaster_0.png  no-damage  train  \n",
       "guatemala-volcano_00000000_post_disaster_1.png  no-damage  train  \n",
       "guatemala-volcano_00000000_post_disaster_2.png  no-damage  train  \n",
       "guatemala-volcano_00000000_post_disaster_3.png  no-damage  train  \n",
       "guatemala-volcano_00000000_post_disaster_4.png  no-damage  train  "
      ]
     },
     "execution_count": 3,
     "metadata": {},
     "output_type": "execute_result"
    }
   ],
   "source": [
    "annotation.head()"
   ]
  },
  {
   "cell_type": "code",
   "execution_count": 29,
   "metadata": {},
   "outputs": [
    {
     "data": {
      "text/html": [
       "<div>\n",
       "<style scoped>\n",
       "    .dataframe tbody tr th:only-of-type {\n",
       "        vertical-align: middle;\n",
       "    }\n",
       "\n",
       "    .dataframe tbody tr th {\n",
       "        vertical-align: top;\n",
       "    }\n",
       "\n",
       "    .dataframe thead th {\n",
       "        text-align: right;\n",
       "    }\n",
       "</style>\n",
       "<table border=\"1\" class=\"dataframe\">\n",
       "  <thead>\n",
       "    <tr style=\"text-align: right;\">\n",
       "      <th></th>\n",
       "      <th>coords</th>\n",
       "      <th>class</th>\n",
       "    </tr>\n",
       "  </thead>\n",
       "  <tbody>\n",
       "    <tr>\n",
       "      <th>guatemala-volcano_00000000_post_disaster_0.png</th>\n",
       "      <td>(485.9121456599377, 215.77570850325483)</td>\n",
       "      <td>no-damage</td>\n",
       "    </tr>\n",
       "    <tr>\n",
       "      <th>guatemala-volcano_00000000_post_disaster_1.png</th>\n",
       "      <td>(825.060485390974, 755.5210197985012)</td>\n",
       "      <td>no-damage</td>\n",
       "    </tr>\n",
       "  </tbody>\n",
       "</table>\n",
       "</div>"
      ],
      "text/plain": [
       "                                                                                 coords  \\\n",
       "guatemala-volcano_00000000_post_disaster_0.png  (485.9121456599377, 215.77570850325483)   \n",
       "guatemala-volcano_00000000_post_disaster_1.png    (825.060485390974, 755.5210197985012)   \n",
       "\n",
       "                                                    class  \n",
       "guatemala-volcano_00000000_post_disaster_0.png  no-damage  \n",
       "guatemala-volcano_00000000_post_disaster_1.png  no-damage  "
      ]
     },
     "execution_count": 29,
     "metadata": {},
     "output_type": "execute_result"
    }
   ],
   "source": [
    "annotation.loc[['guatemala-volcano_00000000_post_disaster_0.png','guatemala-volcano_00000000_post_disaster_1.png'],:]"
   ]
  },
  {
   "cell_type": "code",
   "execution_count": 6,
   "metadata": {},
   "outputs": [],
   "source": [
    "list_post_images = disasters_dict[disaster + '_post']"
   ]
  },
  {
   "cell_type": "code",
   "execution_count": 14,
   "metadata": {},
   "outputs": [
    {
     "data": {
      "text/plain": [
       "'guatemala-volcano_00000000_post_disaster_0.png'"
      ]
     },
     "execution_count": 14,
     "metadata": {},
     "output_type": "execute_result"
    }
   ],
   "source": [
    "import os\n",
    "os.path.split(list_post_images[0])[1]"
   ]
  },
  {
   "cell_type": "code",
   "execution_count": 15,
   "metadata": {},
   "outputs": [
    {
     "data": {
      "text/plain": [
       "'no-damage'"
      ]
     },
     "execution_count": 15,
     "metadata": {},
     "output_type": "execute_result"
    }
   ],
   "source": [
    "annotation[os.path.split(list_post_images[0])[1]]"
   ]
  },
  {
   "cell_type": "code",
   "execution_count": 16,
   "metadata": {},
   "outputs": [
    {
     "data": {
      "text/plain": [
       "no-damage        731\n",
       "un-classified    178\n",
       "destroyed         33\n",
       "minor-damage      26\n",
       "major-damage      23\n",
       "Name: class, dtype: int64"
      ]
     },
     "execution_count": 16,
     "metadata": {},
     "output_type": "execute_result"
    }
   ],
   "source": [
    "annotation.value_counts()"
   ]
  },
  {
   "cell_type": "code",
   "execution_count": 20,
   "metadata": {},
   "outputs": [],
   "source": [
    "label_en = {'no-damage': 0, 'minor-damage': 1, 'major-damage': 2, 'destroyed': 3}"
   ]
  },
  {
   "cell_type": "code",
   "execution_count": 30,
   "metadata": {},
   "outputs": [],
   "source": [
    "l = list(annotation)\n",
    "s = pd.Series(l).replace(label_en).values"
   ]
  },
  {
   "cell_type": "markdown",
   "metadata": {},
   "source": [
    "---"
   ]
  },
  {
   "cell_type": "code",
   "execution_count": 9,
   "metadata": {},
   "outputs": [
    {
     "data": {
      "text/plain": [
       "0.10956364870071411"
      ]
     },
     "execution_count": 9,
     "metadata": {},
     "output_type": "execute_result"
    }
   ],
   "source": [
    "import torch\n",
    "\n",
    "def get_edge_weight(node1: torch.Tensor, node2: torch.Tensor):\n",
    "    D = node1.shape[0]\n",
    "    s = (torch.abs(node1 - node2)) / (torch.abs(node1) + torch.abs(node2))\n",
    "    edge_weight = 1 - torch.sum(s)/D\n",
    "    return edge_weight\n",
    "\n",
    "get_edge_weight(torch.randn(5), torch.randn(5)).item()"
   ]
  },
  {
   "cell_type": "markdown",
   "metadata": {},
   "source": [
    "---"
   ]
  },
  {
   "cell_type": "code",
   "execution_count": 1,
   "metadata": {},
   "outputs": [
    {
     "output_type": "stream",
     "name": "stdout",
     "text": [
      "Processing...\n"
     ]
    },
    {
     "output_type": "error",
     "ename": "TypeError",
     "evalue": "unsupported operand type(s) for -: 'str' and 'str'",
     "traceback": [
      "\u001b[1;31m---------------------------------------------------------------------------\u001b[0m",
      "\u001b[1;31mTypeError\u001b[0m                                 Traceback (most recent call last)",
      "\u001b[1;32m<ipython-input-1-6c586449c2bc>\u001b[0m in \u001b[0;36m<module>\u001b[1;34m\u001b[0m\n\u001b[0;32m      4\u001b[0m \u001b[1;31m#xbd_path = 'D:/Datasets/xBD'\u001b[0m\u001b[1;33m\u001b[0m\u001b[1;33m\u001b[0m\u001b[1;33m\u001b[0m\u001b[0m\n\u001b[0;32m      5\u001b[0m \u001b[0mroot\u001b[0m \u001b[1;33m=\u001b[0m \u001b[1;34m'iidxbd_root'\u001b[0m\u001b[1;33m\u001b[0m\u001b[1;33m\u001b[0m\u001b[0m\n\u001b[1;32m----> 6\u001b[1;33m \u001b[0mdata\u001b[0m \u001b[1;33m=\u001b[0m \u001b[0mIIDxBD\u001b[0m\u001b[1;33m(\u001b[0m\u001b[0mxbd_path\u001b[0m\u001b[1;33m=\u001b[0m\u001b[0mxbd_path\u001b[0m\u001b[1;33m,\u001b[0m \u001b[0mroot\u001b[0m\u001b[1;33m=\u001b[0m\u001b[0mroot\u001b[0m\u001b[1;33m)\u001b[0m\u001b[1;33m\u001b[0m\u001b[1;33m\u001b[0m\u001b[0m\n\u001b[0m",
      "\u001b[1;32mc:\\thesis\\dataset.py\u001b[0m in \u001b[0;36m__init__\u001b[1;34m(self, xbd_path, root, resnet_pretrained, resnet_shared, resnet_diff, transform, pre_transform)\u001b[0m\n\u001b[0;32m    101\u001b[0m         \u001b[0mself\u001b[0m\u001b[1;33m.\u001b[0m\u001b[0mdisaster_folders\u001b[0m \u001b[1;33m=\u001b[0m \u001b[0mos\u001b[0m\u001b[1;33m.\u001b[0m\u001b[0mlistdir\u001b[0m\u001b[1;33m(\u001b[0m\u001b[0mxbd_path\u001b[0m \u001b[1;33m+\u001b[0m \u001b[1;34m'/train_bldgs/'\u001b[0m\u001b[1;33m)\u001b[0m\u001b[1;33m\u001b[0m\u001b[1;33m\u001b[0m\u001b[0m\n\u001b[0;32m    102\u001b[0m \u001b[1;33m\u001b[0m\u001b[0m\n\u001b[1;32m--> 103\u001b[1;33m         \u001b[0msuper\u001b[0m\u001b[1;33m(\u001b[0m\u001b[0mIIDxBD\u001b[0m\u001b[1;33m,\u001b[0m \u001b[0mself\u001b[0m\u001b[1;33m)\u001b[0m\u001b[1;33m.\u001b[0m\u001b[0m__init__\u001b[0m\u001b[1;33m(\u001b[0m\u001b[0mroot\u001b[0m\u001b[1;33m,\u001b[0m \u001b[0mtransform\u001b[0m\u001b[1;33m,\u001b[0m \u001b[0mpre_transform\u001b[0m\u001b[1;33m)\u001b[0m\u001b[1;33m\u001b[0m\u001b[1;33m\u001b[0m\u001b[0m\n\u001b[0m\u001b[0;32m    104\u001b[0m \u001b[1;33m\u001b[0m\u001b[0m\n\u001b[0;32m    105\u001b[0m         \u001b[0mself\u001b[0m\u001b[1;33m.\u001b[0m\u001b[0mdata\u001b[0m\u001b[1;33m,\u001b[0m \u001b[0mself\u001b[0m\u001b[1;33m.\u001b[0m\u001b[0mslices\u001b[0m \u001b[1;33m=\u001b[0m \u001b[0mtorch\u001b[0m\u001b[1;33m.\u001b[0m\u001b[0mload\u001b[0m\u001b[1;33m(\u001b[0m\u001b[0mself\u001b[0m\u001b[1;33m.\u001b[0m\u001b[0mprocessed_paths\u001b[0m\u001b[1;33m[\u001b[0m\u001b[1;36m0\u001b[0m\u001b[1;33m]\u001b[0m\u001b[1;33m)\u001b[0m\u001b[1;33m\u001b[0m\u001b[1;33m\u001b[0m\u001b[0m\n",
      "\u001b[1;32m~\\miniconda3\\envs\\ai\\lib\\site-packages\\torch_geometric\\data\\in_memory_dataset.py\u001b[0m in \u001b[0;36m__init__\u001b[1;34m(self, root, transform, pre_transform, pre_filter)\u001b[0m\n\u001b[0;32m     51\u001b[0m     def __init__(self, root=None, transform=None, pre_transform=None,\n\u001b[0;32m     52\u001b[0m                  pre_filter=None):\n\u001b[1;32m---> 53\u001b[1;33m         super(InMemoryDataset, self).__init__(root, transform, pre_transform,\n\u001b[0m\u001b[0;32m     54\u001b[0m                                               pre_filter)\n\u001b[0;32m     55\u001b[0m         \u001b[0mself\u001b[0m\u001b[1;33m.\u001b[0m\u001b[0mdata\u001b[0m\u001b[1;33m,\u001b[0m \u001b[0mself\u001b[0m\u001b[1;33m.\u001b[0m\u001b[0mslices\u001b[0m \u001b[1;33m=\u001b[0m \u001b[1;32mNone\u001b[0m\u001b[1;33m,\u001b[0m \u001b[1;32mNone\u001b[0m\u001b[1;33m\u001b[0m\u001b[1;33m\u001b[0m\u001b[0m\n",
      "\u001b[1;32m~\\miniconda3\\envs\\ai\\lib\\site-packages\\torch_geometric\\data\\dataset.py\u001b[0m in \u001b[0;36m__init__\u001b[1;34m(self, root, transform, pre_transform, pre_filter)\u001b[0m\n\u001b[0;32m     90\u001b[0m \u001b[1;33m\u001b[0m\u001b[0m\n\u001b[0;32m     91\u001b[0m         \u001b[1;32mif\u001b[0m \u001b[1;34m'process'\u001b[0m \u001b[1;32min\u001b[0m \u001b[0mself\u001b[0m\u001b[1;33m.\u001b[0m\u001b[0m__class__\u001b[0m\u001b[1;33m.\u001b[0m\u001b[0m__dict__\u001b[0m\u001b[1;33m.\u001b[0m\u001b[0mkeys\u001b[0m\u001b[1;33m(\u001b[0m\u001b[1;33m)\u001b[0m\u001b[1;33m:\u001b[0m\u001b[1;33m\u001b[0m\u001b[1;33m\u001b[0m\u001b[0m\n\u001b[1;32m---> 92\u001b[1;33m             \u001b[0mself\u001b[0m\u001b[1;33m.\u001b[0m\u001b[0m_process\u001b[0m\u001b[1;33m(\u001b[0m\u001b[1;33m)\u001b[0m\u001b[1;33m\u001b[0m\u001b[1;33m\u001b[0m\u001b[0m\n\u001b[0m\u001b[0;32m     93\u001b[0m \u001b[1;33m\u001b[0m\u001b[0m\n\u001b[0;32m     94\u001b[0m     \u001b[1;32mdef\u001b[0m \u001b[0mindices\u001b[0m\u001b[1;33m(\u001b[0m\u001b[0mself\u001b[0m\u001b[1;33m)\u001b[0m\u001b[1;33m:\u001b[0m\u001b[1;33m\u001b[0m\u001b[1;33m\u001b[0m\u001b[0m\n",
      "\u001b[1;32m~\\miniconda3\\envs\\ai\\lib\\site-packages\\torch_geometric\\data\\dataset.py\u001b[0m in \u001b[0;36m_process\u001b[1;34m(self)\u001b[0m\n\u001b[0;32m    163\u001b[0m \u001b[1;33m\u001b[0m\u001b[0m\n\u001b[0;32m    164\u001b[0m         \u001b[0mmakedirs\u001b[0m\u001b[1;33m(\u001b[0m\u001b[0mself\u001b[0m\u001b[1;33m.\u001b[0m\u001b[0mprocessed_dir\u001b[0m\u001b[1;33m)\u001b[0m\u001b[1;33m\u001b[0m\u001b[1;33m\u001b[0m\u001b[0m\n\u001b[1;32m--> 165\u001b[1;33m         \u001b[0mself\u001b[0m\u001b[1;33m.\u001b[0m\u001b[0mprocess\u001b[0m\u001b[1;33m(\u001b[0m\u001b[1;33m)\u001b[0m\u001b[1;33m\u001b[0m\u001b[1;33m\u001b[0m\u001b[0m\n\u001b[0m\u001b[0;32m    166\u001b[0m \u001b[1;33m\u001b[0m\u001b[0m\n\u001b[0;32m    167\u001b[0m         \u001b[0mpath\u001b[0m \u001b[1;33m=\u001b[0m \u001b[0mosp\u001b[0m\u001b[1;33m.\u001b[0m\u001b[0mjoin\u001b[0m\u001b[1;33m(\u001b[0m\u001b[0mself\u001b[0m\u001b[1;33m.\u001b[0m\u001b[0mprocessed_dir\u001b[0m\u001b[1;33m,\u001b[0m \u001b[1;34m'pre_transform.pt'\u001b[0m\u001b[1;33m)\u001b[0m\u001b[1;33m\u001b[0m\u001b[1;33m\u001b[0m\u001b[0m\n",
      "\u001b[1;32mc:\\thesis\\dataset.py\u001b[0m in \u001b[0;36mprocess\u001b[1;34m(self)\u001b[0m\n\u001b[0;32m    185\u001b[0m                 \u001b[0mcoords1\u001b[0m \u001b[1;33m=\u001b[0m \u001b[0mcoords\u001b[0m\u001b[1;33m[\u001b[0m\u001b[0medge_index\u001b[0m\u001b[1;33m[\u001b[0m\u001b[1;36m0\u001b[0m\u001b[1;33m,\u001b[0m\u001b[0mi\u001b[0m\u001b[1;33m]\u001b[0m\u001b[1;33m]\u001b[0m\u001b[1;33m\u001b[0m\u001b[1;33m\u001b[0m\u001b[0m\n\u001b[0;32m    186\u001b[0m                 \u001b[0mcoords2\u001b[0m \u001b[1;33m=\u001b[0m \u001b[0mcoords\u001b[0m\u001b[1;33m[\u001b[0m\u001b[0medge_index\u001b[0m\u001b[1;33m[\u001b[0m\u001b[1;36m1\u001b[0m\u001b[1;33m,\u001b[0m\u001b[0mi\u001b[0m\u001b[1;33m]\u001b[0m\u001b[1;33m]\u001b[0m\u001b[1;33m\u001b[0m\u001b[1;33m\u001b[0m\u001b[0m\n\u001b[1;32m--> 187\u001b[1;33m                 \u001b[0mattr\u001b[0m \u001b[1;33m=\u001b[0m \u001b[0mget_edge_weight\u001b[0m\u001b[1;33m(\u001b[0m\u001b[0mnode1\u001b[0m\u001b[1;33m,\u001b[0m \u001b[0mnode2\u001b[0m\u001b[1;33m,\u001b[0m \u001b[0mcoords1\u001b[0m\u001b[1;33m,\u001b[0m \u001b[0mcoords2\u001b[0m\u001b[1;33m)\u001b[0m\u001b[1;33m\u001b[0m\u001b[1;33m\u001b[0m\u001b[0m\n\u001b[0m\u001b[0;32m    188\u001b[0m                 \u001b[0medge_attr\u001b[0m\u001b[1;33m[\u001b[0m\u001b[0mi\u001b[0m\u001b[1;33m,\u001b[0m\u001b[1;36m0\u001b[0m\u001b[1;33m]\u001b[0m \u001b[1;33m=\u001b[0m \u001b[0mattr\u001b[0m\u001b[1;33m[\u001b[0m\u001b[1;36m0\u001b[0m\u001b[1;33m]\u001b[0m\u001b[1;33m\u001b[0m\u001b[1;33m\u001b[0m\u001b[0m\n\u001b[0;32m    189\u001b[0m                 \u001b[0medge_attr\u001b[0m\u001b[1;33m[\u001b[0m\u001b[0mi\u001b[0m\u001b[1;33m,\u001b[0m\u001b[1;36m1\u001b[0m\u001b[1;33m]\u001b[0m \u001b[1;33m=\u001b[0m \u001b[0mattr\u001b[0m\u001b[1;33m[\u001b[0m\u001b[1;36m1\u001b[0m\u001b[1;33m]\u001b[0m\u001b[1;33m\u001b[0m\u001b[1;33m\u001b[0m\u001b[0m\n",
      "\u001b[1;32mc:\\thesis\\dataset.py\u001b[0m in \u001b[0;36mget_edge_weight\u001b[1;34m(node1, node2, coords1, coords2)\u001b[0m\n\u001b[0;32m     82\u001b[0m     \u001b[0mx2\u001b[0m \u001b[1;33m=\u001b[0m \u001b[0mcoords2\u001b[0m\u001b[1;33m[\u001b[0m\u001b[1;36m0\u001b[0m\u001b[1;33m]\u001b[0m\u001b[1;33m\u001b[0m\u001b[1;33m\u001b[0m\u001b[0m\n\u001b[0;32m     83\u001b[0m     \u001b[0my2\u001b[0m \u001b[1;33m=\u001b[0m \u001b[0mcoords2\u001b[0m\u001b[1;33m[\u001b[0m\u001b[1;36m1\u001b[0m\u001b[1;33m]\u001b[0m\u001b[1;33m\u001b[0m\u001b[1;33m\u001b[0m\u001b[0m\n\u001b[1;32m---> 84\u001b[1;33m     \u001b[0meuc_dist\u001b[0m \u001b[1;33m=\u001b[0m \u001b[0msqrt\u001b[0m\u001b[1;33m(\u001b[0m\u001b[1;33m(\u001b[0m\u001b[0mx1\u001b[0m\u001b[1;33m-\u001b[0m\u001b[0mx2\u001b[0m\u001b[1;33m)\u001b[0m\u001b[1;33m**\u001b[0m\u001b[1;36m2\u001b[0m \u001b[1;33m+\u001b[0m \u001b[1;33m(\u001b[0m\u001b[0my1\u001b[0m\u001b[1;33m-\u001b[0m\u001b[0my2\u001b[0m\u001b[1;33m)\u001b[0m\u001b[1;33m**\u001b[0m\u001b[1;36m2\u001b[0m\u001b[1;33m)\u001b[0m\u001b[1;33m\u001b[0m\u001b[1;33m\u001b[0m\u001b[0m\n\u001b[0m\u001b[0;32m     85\u001b[0m     \u001b[0meuc_sim\u001b[0m \u001b[1;33m=\u001b[0m \u001b[1;36m1\u001b[0m \u001b[1;33m/\u001b[0m \u001b[1;33m(\u001b[0m\u001b[1;36m1\u001b[0m \u001b[1;33m+\u001b[0m \u001b[0meuc_dist\u001b[0m\u001b[1;33m)\u001b[0m\u001b[1;33m\u001b[0m\u001b[1;33m\u001b[0m\u001b[0m\n\u001b[0;32m     86\u001b[0m \u001b[1;33m\u001b[0m\u001b[0m\n",
      "\u001b[1;31mTypeError\u001b[0m: unsupported operand type(s) for -: 'str' and 'str'"
     ]
    }
   ],
   "source": [
    "from dataset import IIDxBD\n",
    "\n",
    "xbd_path = \"C:/xBD\"\n",
    "#xbd_path = 'D:/Datasets/xBD'\n",
    "root = 'iidxbd_root'\n",
    "data = IIDxBD(xbd_path=xbd_path, root=root)"
   ]
  }
 ],
 "metadata": {
  "kernelspec": {
   "name": "python388jvsc74a57bd05031f79d2a0762a93fe093d47ca4666becb7c86b29dce5af1939a06639a94482",
   "display_name": "Python 3.8.8 64-bit"
  },
  "language_info": {
   "codemirror_mode": {
    "name": "ipython",
    "version": 3
   },
   "file_extension": ".py",
   "mimetype": "text/x-python",
   "name": "python",
   "nbconvert_exporter": "python",
   "pygments_lexer": "ipython3",
   "version": "3.8.8"
  }
 },
 "nbformat": 4,
 "nbformat_minor": 2
}