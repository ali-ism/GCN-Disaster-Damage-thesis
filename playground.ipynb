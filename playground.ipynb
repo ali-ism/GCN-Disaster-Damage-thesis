{
 "cells": [
  {
   "cell_type": "markdown",
   "metadata": {},
   "source": [
    "# Data Visualization"
   ]
  },
  {
   "cell_type": "code",
   "execution_count": null,
   "metadata": {},
   "outputs": [],
   "source": [
    "import pandas as pd\r\n",
    "from pathlib import Path\r\n",
    "\r\n",
    "xbd_path = 'datasets/xbd'\r\n",
    "subsets = ('/train_bldgs/', '/hold_bldgs/', '/test_bldgs/', '/tier3_bldgs/')\r\n",
    "disaster_folders = os.listdir(xbd_path + subsets[0])\r\n",
    "\r\n",
    "i_subset = 0\r\n",
    "i_disaster = 5\r\n",
    "\r\n",
    "print(list(Path(xbd_path + subsets[i_subset] + disaster_folders[i_disaster]).glob('*.csv*'))[0])\r\n",
    "labels = pd.read_csv(list(Path(xbd_path + subsets[i_subset] + disaster_folders[i_disaster]).glob('*.csv*'))[0])\r\n",
    "labels.columns = ['name', 'xcoords', 'ycoords', 'long', 'lat', 'class']\r\n",
    "zone = lambda row: '_'.join(row['name'].split('_', 2)[:2])\r\n",
    "labels['zone'] = labels.apply(zone, axis=1)\r\n",
    "labels['zone'].value_counts()\r\n",
    "#labels['zone'].value_counts()[labels['zone'].value_counts()==1].index.tolist()"
   ]
  },
  {
   "cell_type": "code",
   "execution_count": null,
   "metadata": {},
   "outputs": [],
   "source": [
    "from visualization import plot_on_image\r\n",
    "\r\n",
    "plot_on_image(labels, subsets[i_subset], 'mexico-earthquake_00000192')"
   ]
  },
  {
   "cell_type": "code",
   "execution_count": null,
   "metadata": {},
   "outputs": [],
   "source": [
    "from visualization import plot_on_map\r\n",
    "\r\n",
    "plot_on_map(labels, mapbox=False)"
   ]
  },
  {
   "cell_type": "code",
   "execution_count": null,
   "metadata": {},
   "outputs": [],
   "source": [
    "import matplotlib\r\n",
    "import matplotlib.pyplot as plt\r\n",
    "import numpy as np\r\n",
    "from visualization import CmapString\r\n",
    "\r\n",
    "cmap = CmapString(palette='viridis', domain=labels['zone'].values)\r\n",
    "\r\n",
    "plt.figure(figsize=(12,8))\r\n",
    "for _, row in labels.iterrows():\r\n",
    "    plt.scatter(row['xcoords'], row['ycoords'], label=row['zone'], color=cmap.color(row['zone']))\r\n",
    "plt.axis('off')\r\n",
    "plt.show()"
   ]
  },
  {
   "cell_type": "markdown",
   "metadata": {},
   "source": [
    "---\n",
    "\n",
    "# Graph Generation"
   ]
  },
  {
   "cell_type": "code",
   "execution_count": null,
   "metadata": {},
   "outputs": [],
   "source": [
    "import os\r\n",
    "from pathlib import Path\r\n",
    "import json\r\n",
    "import pandas as pd"
   ]
  },
  {
   "cell_type": "code",
   "execution_count": null,
   "metadata": {},
   "outputs": [],
   "source": [
    "path = 'datasets/xbd/hold_bldgs/'\r\n",
    "disaster_folders = os.listdir(path)\r\n",
    "disaster = 'mexico-earthquake'\r\n",
    "\r\n",
    "labels = pd.read_csv(list(Path(path + disaster).glob('*.csv*'))[0], index_col=0)\r\n",
    "labels.drop(columns=['long','lat'], inplace=True)\r\n",
    "zone = lambda row: '_'.join(row.name.split('_', 2)[:2])\r\n",
    "labels['zone'] = labels.apply(zone, axis=1)\r\n",
    "\r\n",
    "processed_files = []\r\n",
    "zones = labels['zone'].value_counts()[labels['zone'].value_counts()>1].index.tolist()\r\n",
    "for zone in zones:\r\n",
    "     if not ((labels[labels['zone'] == zone]['class'] == 'un-classified').all() or \\\r\n",
    "            (labels[labels['zone'] == zone]['class'] != 'un-classified').sum() == 1):\r\n",
    "        processed_files.append(f'{zone}.pt')\r\n",
    "\r\n",
    "len(processed_files)"
   ]
  },
  {
   "cell_type": "markdown",
   "metadata": {},
   "source": [
    "---\n",
    "\n",
    "# Training"
   ]
  },
  {
   "cell_type": "code",
   "execution_count": 15,
   "metadata": {},
   "outputs": [],
   "source": [
    "import json\n",
    "import numpy as np\n",
    "import matplotlib.pyplot as plt\n",
    "import torch\n",
    "import torch.nn.functional as F\n",
    "from torch.optim.lr_scheduler import ReduceLROnPlateau\n",
    "from torch_geometric.data import RandomNodeSampler, GraphSAINTNodeSampler\n",
    "from tqdm import tqdm\n",
    "from dataset import xBD\n",
    "from model import DeeperGCN\n",
    "from metrics import score\n",
    "from utils import get_class_weights\n",
    "\n",
    "with open('exp_settings.json', 'r') as JSON:\n",
    "    settings_dict = json.load(JSON)\n",
    "\n",
    "seed = 42\n",
    "batch_size = settings_dict['data']['batch_size']\n",
    "num_steps = settings_dict['data']['saint_num_steps']\n",
    "name = settings_dict['model']['name']\n",
    "train_set = settings_dict['train_set']\n",
    "if len(train_set) == 1:\n",
    "    if train_set[0] == 'socal-fire':\n",
    "        train_root = \"/home/ami31/scratch/datasets/pixel/socal_train\"\n",
    "    else:\n",
    "        train_root = \"/home/ami31/scratch/datasets/pixel/sunda\"\n",
    "else:\n",
    "    train_root = \"/home/ami31/scratch/datasets/pixel/sunda_tucaloosa_puna\"\n",
    "test_root = \"/home/ami31/scratch/datasets/pixel/socal_test\"\n",
    "hold_root = \"/home/ami31/scratch/datasets/pixel/socal_hold\"\n",
    "hidden_units = settings_dict['model']['hidden_units']\n",
    "num_layers = settings_dict['model']['num_layers']\n",
    "dropout_rate = settings_dict['model']['dropout_rate']\n",
    "lr = settings_dict['model']['lr']\n",
    "n_epochs = settings_dict['epochs']\n",
    "starting_epoch = settings_dict['starting_epoch']\n",
    "path = settings_dict['model']['path']\n",
    "save_best_only = settings_dict['save_best_only']\n",
    "\n",
    "device = torch.device(\"cuda:0\" if torch.cuda.is_available() else \"cpu\")\n",
    "torch.manual_seed(seed)\n",
    "torch.backends.cudnn.deterministic = True\n",
    "torch.backends.cudnn.benchmark = False"
   ]
  },
  {
   "cell_type": "code",
   "execution_count": 3,
   "metadata": {},
   "outputs": [],
   "source": [
    "train_dataset = xBD(train_root, 'train', train_set).shuffle()\n",
    "test_dataset = xBD(test_root, 'test', train_set)\n",
    "hold_dataset = xBD(hold_root, 'hold', ['socal-fire'])"
   ]
  },
  {
   "cell_type": "code",
   "execution_count": 10,
   "metadata": {},
   "outputs": [
    {
     "data": {
      "text/plain": [
       "(tensor([0, 1, 2, 3]), tensor([8616,   82,   51, 1317]))"
      ]
     },
     "execution_count": 10,
     "metadata": {},
     "output_type": "execute_result"
    }
   ],
   "source": [
    "y_all = [data.y for data in train_dataset]\n",
    "y_all = torch.cat(y_all)\n",
    "torch.unique(y_all, return_counts=True)"
   ]
  },
  {
   "cell_type": "code",
   "execution_count": 11,
   "metadata": {},
   "outputs": [
    {
     "data": {
      "text/plain": [
       "(tensor([0, 1, 2, 3]), tensor([3577,   27,   35,  452]))"
      ]
     },
     "execution_count": 11,
     "metadata": {},
     "output_type": "execute_result"
    }
   ],
   "source": [
    "y_all = [data.y for data in test_dataset]\n",
    "y_all = torch.cat(y_all)\n",
    "torch.unique(y_all, return_counts=True)"
   ]
  },
  {
   "cell_type": "code",
   "execution_count": 12,
   "metadata": {},
   "outputs": [
    {
     "data": {
      "text/plain": [
       "(tensor([0, 1, 2, 3]), tensor([3469,   24,   24,  544]))"
      ]
     },
     "execution_count": 12,
     "metadata": {},
     "output_type": "execute_result"
    }
   ],
   "source": [
    "y_all = [data.y for data in hold_dataset]\n",
    "y_all = torch.cat(y_all)\n",
    "torch.unique(y_all, return_counts=True)"
   ]
  },
  {
   "cell_type": "code",
   "execution_count": 17,
   "metadata": {},
   "outputs": [],
   "source": [
    "model = DeeperGCN(hold_dataset.num_node_features,\n",
    "                  hold_dataset.num_edge_features,\n",
    "                  hidden_units,\n",
    "                  hold_dataset.num_classes,\n",
    "                  num_layers,\n",
    "                  dropout_rate)\n",
    "#model_path = path + '/' + name + '_best.pt'\n",
    "#model.load_state_dict(torch.load(model_path))\n",
    "model = model.to(device)"
   ]
  },
  {
   "cell_type": "code",
   "execution_count": 21,
   "metadata": {},
   "outputs": [
    {
     "name": "stderr",
     "output_type": "stream",
     "text": [
      "  1%|▏         | 5/346 [00:06<07:11,  1.27s/it]"
     ]
    },
    {
     "name": "stdout",
     "output_type": "stream",
     "text": [
      "0.019240706351537237\n"
     ]
    },
    {
     "name": "stderr",
     "output_type": "stream",
     "text": [
      "\n"
     ]
    }
   ],
   "source": [
    "model.train()\n",
    "class_weights = get_class_weights(train_set, train_dataset)\n",
    "optimizer = torch.optim.Adam(model.parameters(), lr=lr)\n",
    "pbar = tqdm(total=len(train_dataset))\n",
    "total_loss = 0\n",
    "for data in train_dataset[:5]:\n",
    "    if data.num_nodes > batch_size:\n",
    "        sampler = GraphSAINTNodeSampler(data, batch_size=batch_size, num_steps=num_steps, num_workers=2)\n",
    "        data_loss = 0\n",
    "        total_examples = 0\n",
    "        for subdata in sampler:\n",
    "            subdata = subdata.to(device)\n",
    "            optimizer.zero_grad()\n",
    "            out = model(subdata.x, subdata.edge_index, subdata.edge_attr)\n",
    "            loss = F.nll_loss(input=out, target=subdata.y, weight=class_weights.to(device))\n",
    "            loss.backward()\n",
    "            optimizer.step()\n",
    "            data_loss += loss.item() * subdata.num_nodes\n",
    "            total_examples += subdata.num_nodes\n",
    "        total_loss += data_loss / total_examples\n",
    "    else:\n",
    "        data = data.to(device)\n",
    "        optimizer.zero_grad()\n",
    "        out = model(data.x, data.edge_index, data.edge_attr)\n",
    "        loss = F.nll_loss(input=out, target=data.y, weight=class_weights.to(device))\n",
    "        loss.backward()\n",
    "        optimizer.step()\n",
    "        total_loss += loss.item()\n",
    "    pbar.update()\n",
    "pbar.close()\n",
    "print(total_loss / len(train_dataset))"
   ]
  },
  {
   "cell_type": "markdown",
   "metadata": {},
   "source": [
    "---"
   ]
  }
 ],
 "metadata": {
  "interpreter": {
   "hash": "95d70da30fd22c72e34c5b2686d9425669d156b01d561237a148d8f19599268b"
  },
  "kernelspec": {
   "display_name": "Python 3",
   "language": "python",
   "name": "python3"
  },
  "language_info": {
   "codemirror_mode": {
    "name": "ipython",
    "version": 3
   },
   "file_extension": ".py",
   "mimetype": "text/x-python",
   "name": "python",
   "nbconvert_exporter": "python",
   "pygments_lexer": "ipython3",
   "version": "3.8.2"
  }
 },
 "nbformat": 4,
 "nbformat_minor": 4
}
