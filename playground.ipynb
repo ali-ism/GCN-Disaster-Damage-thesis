{
 "cells": [
  {
   "cell_type": "markdown",
   "metadata": {},
   "source": [
    "# Data Visualization"
   ]
  },
  {
   "cell_type": "code",
   "execution_count": null,
   "metadata": {},
   "outputs": [],
   "source": [
    "import pandas as pd\n",
    "from visualization import plot_on_map\n",
    "\n",
    "labels = pd.read_csv(\"datasets/xbd/tier3_bldgs/joplin-tornado/joplin-tornado_tier3_labels.csv\", index_col=0)\n",
    "plot_on_map(labels, color='class')"
   ]
  },
  {
   "cell_type": "code",
   "execution_count": null,
   "metadata": {},
   "outputs": [],
   "source": [
    "labels = pd.read_csv(\"datasets/xbd/tier3_bldgs/nepal-flooding/nepal-flooding_tier3_labels.csv\", index_col=0)\n",
    "plot_on_map(labels)"
   ]
  },
  {
   "cell_type": "code",
   "execution_count": null,
   "metadata": {},
   "outputs": [],
   "source": [
    "labels = pd.read_csv(\"datasets/xbd/tier3_bldgs/lower-puna-volcano/lower-puna-volcano_tier3_labels.csv\", index_col=0)\n",
    "plot_on_map(labels)"
   ]
  },
  {
   "cell_type": "markdown",
   "metadata": {},
   "source": [
    "## Polygon Visualization"
   ]
  },
  {
   "cell_type": "code",
   "execution_count": null,
   "metadata": {},
   "outputs": [],
   "source": [
    "from visualization import plot_image\n",
    "\n",
    "plot_image(\"datasets/xbd/tier3/labels/joplin-tornado_00000002_post_disaster.json\")"
   ]
  },
  {
   "cell_type": "markdown",
   "metadata": {},
   "source": [
    "## Graph Visualization"
   ]
  },
  {
   "cell_type": "code",
   "execution_count": null,
   "metadata": {},
   "outputs": [],
   "source": [
    "from visualization import plot_graph\n",
    "\n",
    "plot_graph('datasets/joplin-tornado_00000002.pt', 'datasets/joplin-tornado_00000002_post_disaster.png')"
   ]
  },
  {
   "cell_type": "markdown",
   "metadata": {},
   "source": [
    "---"
   ]
  },
  {
   "cell_type": "code",
   "execution_count": null,
   "metadata": {},
   "outputs": [],
   "source": [
    "import numpy as np\n",
    "from train_autoencoder import _make_cost_m\n",
    "from scipy.optimize import linear_sum_assignment\n",
    "\n",
    "cm = np.array([[46,26,475,26,11],[5,445,31,108,9],[4,506,32,54,1],[164,31,43,158,197],[408,12,6,15,123]])\n",
    "cm"
   ]
  },
  {
   "cell_type": "code",
   "execution_count": null,
   "metadata": {},
   "outputs": [],
   "source": [
    "indexes = linear_sum_assignment(_make_cost_m(cm))\n",
    "indexes"
   ]
  },
  {
   "cell_type": "code",
   "execution_count": null,
   "metadata": {},
   "outputs": [],
   "source": [
    "cm2 = cm[:, indexes[1]]\n",
    "cm2"
   ]
  },
  {
   "cell_type": "code",
   "execution_count": null,
   "metadata": {},
   "outputs": [],
   "source": [
    "#FP\n",
    "cm2.sum(axis=0) - np.diag(cm2)"
   ]
  },
  {
   "cell_type": "code",
   "execution_count": null,
   "metadata": {},
   "outputs": [],
   "source": [
    "#FN\n",
    "cm2.sum(axis=1) - np.diag(cm2)"
   ]
  }
 ],
 "metadata": {
  "interpreter": {
   "hash": "74cf116ea1e63dd6a3edb90b75799d82a2f782fbf42bf6e53914daa55fad93a1"
  },
  "kernelspec": {
   "display_name": "Python 3.8.12 64-bit ('torch-geo': conda)",
   "name": "python3"
  },
  "language_info": {
   "codemirror_mode": {
    "name": "ipython",
    "version": 3
   },
   "file_extension": ".py",
   "mimetype": "text/x-python",
   "name": "python",
   "nbconvert_exporter": "python",
   "pygments_lexer": "ipython3",
   "version": "3.8.12"
  }
 },
 "nbformat": 4,
 "nbformat_minor": 4
}
