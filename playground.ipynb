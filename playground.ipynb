{
 "cells": [
  {
   "cell_type": "code",
   "execution_count": 1,
   "metadata": {},
   "outputs": [],
   "source": [
    "import torch\n",
    "from feature_extractor import load_feature_extractor"
   ]
  },
  {
   "cell_type": "code",
   "execution_count": 2,
   "metadata": {},
   "outputs": [
    {
     "output_type": "stream",
     "name": "stdout",
     "text": [
      "File exists already!\n"
     ]
    }
   ],
   "source": [
    "model = load_feature_extractor()"
   ]
  },
  {
   "source": [
    "---"
   ],
   "cell_type": "markdown",
   "metadata": {}
  },
  {
   "cell_type": "code",
   "execution_count": 3,
   "metadata": {},
   "outputs": [],
   "source": [
    "x0 = torch.zeros((3,256,256))\n",
    "x1 = torch.ones((3,256,256))\n",
    "x2 = 2*torch.ones((3,256,256))\n",
    "x3 = 3*torch.ones((3,256,256))\n",
    "x01 = torch.cat((x0, x1),0)\n",
    "x23 = torch.cat((x2, x3),0)\n",
    "y01 = model(x01.unsqueeze(0))\n",
    "y23 = model(x23.unsqueeze(0))"
   ]
  },
  {
   "cell_type": "code",
   "execution_count": 13,
   "metadata": {},
   "outputs": [
    {
     "output_type": "execute_result",
     "data": {
      "text/plain": [
       "torch.Size([1, 131072])"
      ]
     },
     "metadata": {},
     "execution_count": 13
    }
   ],
   "source": [
    "y01.shape"
   ]
  },
  {
   "cell_type": "code",
   "execution_count": 11,
   "metadata": {},
   "outputs": [
    {
     "output_type": "execute_result",
     "data": {
      "text/plain": [
       "torch.Size([393216])"
      ]
     },
     "metadata": {},
     "execution_count": 11
    }
   ],
   "source": [
    "x01.flatten().shape"
   ]
  },
  {
   "cell_type": "code",
   "execution_count": 5,
   "metadata": {},
   "outputs": [
    {
     "output_type": "execute_result",
     "data": {
      "text/plain": [
       "torch.Size([2, 6, 256, 256])"
      ]
     },
     "metadata": {},
     "execution_count": 5
    }
   ],
   "source": [
    "x = torch.stack([x01,x23])\n",
    "x.shape"
   ]
  },
  {
   "cell_type": "code",
   "execution_count": 6,
   "metadata": {},
   "outputs": [
    {
     "output_type": "execute_result",
     "data": {
      "text/plain": [
       "torch.Size([2, 131072])"
      ]
     },
     "metadata": {},
     "execution_count": 6
    }
   ],
   "source": [
    "y = model(x)\n",
    "y.shape"
   ]
  },
  {
   "cell_type": "code",
   "execution_count": 9,
   "metadata": {},
   "outputs": [
    {
     "output_type": "execute_result",
     "data": {
      "text/plain": [
       "tensor(True)"
      ]
     },
     "metadata": {},
     "execution_count": 9
    }
   ],
   "source": [
    "torch.all(y[0] == y01)"
   ]
  },
  {
   "cell_type": "code",
   "execution_count": 10,
   "metadata": {},
   "outputs": [
    {
     "output_type": "execute_result",
     "data": {
      "text/plain": [
       "tensor(True)"
      ]
     },
     "metadata": {},
     "execution_count": 10
    }
   ],
   "source": [
    "torch.all(y[1] == y23)"
   ]
  },
  {
   "source": [
    "---"
   ],
   "cell_type": "markdown",
   "metadata": {}
  },
  {
   "cell_type": "code",
   "execution_count": 6,
   "metadata": {},
   "outputs": [],
   "source": [
    "x0 = torch.zeros((3,256,256))\n",
    "x1 = torch.ones((3,256,256))\n",
    "x01 = torch.cat((x0, x1),0)\n",
    "y01 = model(x01.unsqueeze(0))\n",
    "\n",
    "def tensor_mem(x):\n",
    "    return x.element_size() * x.nelement() * 1e-9"
   ]
  },
  {
   "cell_type": "code",
   "execution_count": 10,
   "metadata": {},
   "outputs": [],
   "source": [
    "sizet = tensor_mem(y01)"
   ]
  },
  {
   "cell_type": "code",
   "execution_count": 32,
   "metadata": {},
   "outputs": [
    {
     "output_type": "execute_result",
     "data": {
      "text/plain": [
       "0.000524288"
      ]
     },
     "metadata": {},
     "execution_count": 32
    }
   ],
   "source": [
    "sizet"
   ]
  },
  {
   "cell_type": "code",
   "execution_count": 29,
   "metadata": {},
   "outputs": [
    {
     "output_type": "execute_result",
     "data": {
      "text/plain": [
       "5.019009024000001"
      ]
     },
     "metadata": {},
     "execution_count": 29
    }
   ],
   "source": [
    "sizet * 9573"
   ]
  },
  {
   "cell_type": "code",
   "execution_count": 28,
   "metadata": {},
   "outputs": [
    {
     "output_type": "execute_result",
     "data": {
      "text/plain": [
       "8.846835712"
      ]
     },
     "metadata": {},
     "execution_count": 28
    }
   ],
   "source": [
    "sizet * 16874"
   ]
  },
  {
   "cell_type": "code",
   "execution_count": 31,
   "metadata": {},
   "outputs": [
    {
     "output_type": "execute_result",
     "data": {
      "text/plain": [
       "4.00031744"
      ]
     },
     "metadata": {},
     "execution_count": 31
    }
   ],
   "source": [
    "sizet * 7630"
   ]
  },
  {
   "cell_type": "code",
   "execution_count": 27,
   "metadata": {},
   "outputs": [
    {
     "output_type": "display_data",
     "data": {
      "text/plain": "<Figure size 720x576 with 1 Axes>",
      "image/svg+xml": "<?xml version=\"1.0\" encoding=\"utf-8\" standalone=\"no\"?>\r\n<!DOCTYPE svg PUBLIC \"-//W3C//DTD SVG 1.1//EN\"\r\n  \"http://www.w3.org/Graphics/SVG/1.1/DTD/svg11.dtd\">\r\n<!-- Created with matplotlib (https://matplotlib.org/) -->\r\n<svg height=\"538.2175pt\" version=\"1.1\" viewBox=\"0 0 611.2125 538.2175\" width=\"611.2125pt\" xmlns=\"http://www.w3.org/2000/svg\" xmlns:xlink=\"http://www.w3.org/1999/xlink\">\r\n <metadata>\r\n  <rdf:RDF xmlns:cc=\"http://creativecommons.org/ns#\" xmlns:dc=\"http://purl.org/dc/elements/1.1/\" xmlns:rdf=\"http://www.w3.org/1999/02/22-rdf-syntax-ns#\">\r\n   <cc:Work>\r\n    <dc:type rdf:resource=\"http://purl.org/dc/dcmitype/StillImage\"/>\r\n    <dc:date>2021-05-31T11:39:27.190975</dc:date>\r\n    <dc:format>image/svg+xml</dc:format>\r\n    <dc:creator>\r\n     <cc:Agent>\r\n      <dc:title>Matplotlib v3.3.4, https://matplotlib.org/</dc:title>\r\n     </cc:Agent>\r\n    </dc:creator>\r\n   </cc:Work>\r\n  </rdf:RDF>\r\n </metadata>\r\n <defs>\r\n  <style type=\"text/css\">*{stroke-linecap:butt;stroke-linejoin:round;}</style>\r\n </defs>\r\n <g id=\"figure_1\">\r\n  <g id=\"patch_1\">\r\n   <path d=\"M 0 538.2175 \r\nL 611.2125 538.2175 \r\nL 611.2125 0 \r\nL 0 0 \r\nz\r\n\" style=\"fill:none;\"/>\r\n  </g>\r\n  <g id=\"axes_1\">\r\n   <g id=\"patch_2\">\r\n    <path d=\"M 46.0125 442.08 \r\nL 604.0125 442.08 \r\nL 604.0125 7.2 \r\nL 46.0125 7.2 \r\nz\r\n\" style=\"fill:#ffffff;\"/>\r\n   </g>\r\n   <g id=\"patch_3\">\r\n    <path clip-path=\"url(#p3bf1d55cd9)\" d=\"M 71.376136 442.08 \r\nL 84.994196 442.08 \r\nL 84.994196 431.261571 \r\nL 71.376136 431.261571 \r\nz\r\n\" style=\"fill:#1f77b4;\"/>\r\n   </g>\r\n   <g id=\"patch_4\">\r\n    <path clip-path=\"url(#p3bf1d55cd9)\" d=\"M 88.398711 442.08 \r\nL 102.016771 442.08 \r\nL 102.016771 441.675573 \r\nL 88.398711 441.675573 \r\nz\r\n\" style=\"fill:#1f77b4;\"/>\r\n   </g>\r\n   <g id=\"patch_5\">\r\n    <path clip-path=\"url(#p3bf1d55cd9)\" d=\"M 105.421286 442.08 \r\nL 119.039346 442.08 \r\nL 119.039346 440.77825 \r\nL 105.421286 440.77825 \r\nz\r\n\" style=\"fill:#1f77b4;\"/>\r\n   </g>\r\n   <g id=\"patch_6\">\r\n    <path clip-path=\"url(#p3bf1d55cd9)\" d=\"M 122.443861 442.08 \r\nL 136.06192 442.08 \r\nL 136.06192 360.613184 \r\nL 122.443861 360.613184 \r\nz\r\n\" style=\"fill:#1f77b4;\"/>\r\n   </g>\r\n   <g id=\"patch_7\">\r\n    <path clip-path=\"url(#p3bf1d55cd9)\" d=\"M 139.466435 442.08 \r\nL 153.084495 442.08 \r\nL 153.084495 413.416218 \r\nL 139.466435 413.416218 \r\nz\r\n\" style=\"fill:#1f77b4;\"/>\r\n   </g>\r\n   <g id=\"patch_8\">\r\n    <path clip-path=\"url(#p3bf1d55cd9)\" d=\"M 156.48901 442.08 \r\nL 170.10707 442.08 \r\nL 170.10707 406.262911 \r\nL 156.48901 406.262911 \r\nz\r\n\" style=\"fill:#1f77b4;\"/>\r\n   </g>\r\n   <g id=\"patch_9\">\r\n    <path clip-path=\"url(#p3bf1d55cd9)\" d=\"M 173.511585 442.08 \r\nL 187.129645 442.08 \r\nL 187.129645 151.22097 \r\nL 173.511585 151.22097 \r\nz\r\n\" style=\"fill:#1f77b4;\"/>\r\n   </g>\r\n   <g id=\"patch_10\">\r\n    <path clip-path=\"url(#p3bf1d55cd9)\" d=\"M 190.53416 442.08 \r\nL 204.152219 442.08 \r\nL 204.152219 344.575115 \r\nL 190.53416 344.575115 \r\nz\r\n\" style=\"fill:#1f77b4;\"/>\r\n   </g>\r\n   <g id=\"patch_11\">\r\n    <path clip-path=\"url(#p3bf1d55cd9)\" d=\"M 207.556734 442.08 \r\nL 221.174794 442.08 \r\nL 221.174794 350.75527 \r\nL 207.556734 350.75527 \r\nz\r\n\" style=\"fill:#1f77b4;\"/>\r\n   </g>\r\n   <g id=\"patch_12\">\r\n    <path clip-path=\"url(#p3bf1d55cd9)\" d=\"M 224.579309 442.08 \r\nL 238.197369 442.08 \r\nL 238.197369 265.914014 \r\nL 224.579309 265.914014 \r\nz\r\n\" style=\"fill:#1f77b4;\"/>\r\n   </g>\r\n   <g id=\"patch_13\">\r\n    <path clip-path=\"url(#p3bf1d55cd9)\" d=\"M 241.601884 442.08 \r\nL 255.219944 442.08 \r\nL 255.219944 389.137944 \r\nL 241.601884 389.137944 \r\nz\r\n\" style=\"fill:#1f77b4;\"/>\r\n   </g>\r\n   <g id=\"patch_14\">\r\n    <path clip-path=\"url(#p3bf1d55cd9)\" d=\"M 258.624459 442.08 \r\nL 272.242518 442.08 \r\nL 272.242518 368.322579 \r\nL 258.624459 368.322579 \r\nz\r\n\" style=\"fill:#1f77b4;\"/>\r\n   </g>\r\n   <g id=\"patch_15\">\r\n    <path clip-path=\"url(#p3bf1d55cd9)\" d=\"M 275.647033 442.08 \r\nL 289.265093 442.08 \r\nL 289.265093 155.36635 \r\nL 275.647033 155.36635 \r\nz\r\n\" style=\"fill:#1f77b4;\"/>\r\n   </g>\r\n   <g id=\"patch_16\">\r\n    <path clip-path=\"url(#p3bf1d55cd9)\" d=\"M 292.669608 442.08 \r\nL 306.287668 442.08 \r\nL 306.287668 370.584844 \r\nL 292.669608 370.584844 \r\nz\r\n\" style=\"fill:#1f77b4;\"/>\r\n   </g>\r\n   <g id=\"patch_17\">\r\n    <path clip-path=\"url(#p3bf1d55cd9)\" d=\"M 309.692183 442.08 \r\nL 323.310243 442.08 \r\nL 323.310243 351.614677 \r\nL 309.692183 351.614677 \r\nz\r\n\" style=\"fill:#1f77b4;\"/>\r\n   </g>\r\n   <g id=\"patch_18\">\r\n    <path clip-path=\"url(#p3bf1d55cd9)\" d=\"M 326.714757 442.08 \r\nL 340.332817 442.08 \r\nL 340.332817 27.908571 \r\nL 326.714757 27.908571 \r\nz\r\n\" style=\"fill:#1f77b4;\"/>\r\n   </g>\r\n   <g id=\"patch_19\">\r\n    <path clip-path=\"url(#p3bf1d55cd9)\" d=\"M 343.737332 442.08 \r\nL 357.355392 442.08 \r\nL 357.355392 297.863767 \r\nL 343.737332 297.863767 \r\nz\r\n\" style=\"fill:#1f77b4;\"/>\r\n   </g>\r\n   <g id=\"patch_20\">\r\n    <path clip-path=\"url(#p3bf1d55cd9)\" d=\"M 360.759907 442.08 \r\nL 374.377967 442.08 \r\nL 374.377967 343.614601 \r\nL 360.759907 343.614601 \r\nz\r\n\" style=\"fill:#1f77b4;\"/>\r\n   </g>\r\n   <g id=\"patch_21\">\r\n    <path clip-path=\"url(#p3bf1d55cd9)\" d=\"M 377.782482 442.08 \r\nL 391.400541 442.08 \r\nL 391.400541 331.418591 \r\nL 377.782482 331.418591 \r\nz\r\n\" style=\"fill:#1f77b4;\"/>\r\n   </g>\r\n   <g id=\"patch_22\">\r\n    <path clip-path=\"url(#p3bf1d55cd9)\" d=\"M 394.805056 442.08 \r\nL 408.423116 442.08 \r\nL 408.423116 410.079693 \r\nL 394.805056 410.079693 \r\nz\r\n\" style=\"fill:#1f77b4;\"/>\r\n   </g>\r\n   <g id=\"patch_23\">\r\n    <path clip-path=\"url(#p3bf1d55cd9)\" d=\"M 411.827631 442.08 \r\nL 425.445691 442.08 \r\nL 425.445691 409.119178 \r\nL 411.827631 409.119178 \r\nz\r\n\" style=\"fill:#1f77b4;\"/>\r\n   </g>\r\n   <g id=\"patch_24\">\r\n    <path clip-path=\"url(#p3bf1d55cd9)\" d=\"M 428.850206 442.08 \r\nL 442.468266 442.08 \r\nL 442.468266 45.311582 \r\nL 428.850206 45.311582 \r\nz\r\n\" style=\"fill:#1f77b4;\"/>\r\n   </g>\r\n   <g id=\"patch_25\">\r\n    <path clip-path=\"url(#p3bf1d55cd9)\" d=\"M 445.872781 442.08 \r\nL 459.49084 442.08 \r\nL 459.49084 283.342301 \r\nL 445.872781 283.342301 \r\nz\r\n\" style=\"fill:#1f77b4;\"/>\r\n   </g>\r\n   <g id=\"patch_26\">\r\n    <path clip-path=\"url(#p3bf1d55cd9)\" d=\"M 462.895355 442.08 \r\nL 476.513415 442.08 \r\nL 476.513415 292.505106 \r\nL 462.895355 292.505106 \r\nz\r\n\" style=\"fill:#1f77b4;\"/>\r\n   </g>\r\n   <g id=\"patch_27\">\r\n    <path clip-path=\"url(#p3bf1d55cd9)\" d=\"M 479.91793 442.08 \r\nL 493.53599 442.08 \r\nL 493.53599 278.413344 \r\nL 479.91793 278.413344 \r\nz\r\n\" style=\"fill:#1f77b4;\"/>\r\n   </g>\r\n   <g id=\"patch_28\">\r\n    <path clip-path=\"url(#p3bf1d55cd9)\" d=\"M 496.940505 442.08 \r\nL 510.558565 442.08 \r\nL 510.558565 388.670325 \r\nL 496.940505 388.670325 \r\nz\r\n\" style=\"fill:#1f77b4;\"/>\r\n   </g>\r\n   <g id=\"patch_29\">\r\n    <path clip-path=\"url(#p3bf1d55cd9)\" d=\"M 513.96308 442.08 \r\nL 527.581139 442.08 \r\nL 527.581139 381.681316 \r\nL 513.96308 381.681316 \r\nz\r\n\" style=\"fill:#1f77b4;\"/>\r\n   </g>\r\n   <g id=\"patch_30\">\r\n    <path clip-path=\"url(#p3bf1d55cd9)\" d=\"M 530.985654 442.08 \r\nL 544.603714 442.08 \r\nL 544.603714 309.693264 \r\nL 530.985654 309.693264 \r\nz\r\n\" style=\"fill:#1f77b4;\"/>\r\n   </g>\r\n   <g id=\"patch_31\">\r\n    <path clip-path=\"url(#p3bf1d55cd9)\" d=\"M 548.008229 442.08 \r\nL 561.626289 442.08 \r\nL 561.626289 388.088961 \r\nL 548.008229 388.088961 \r\nz\r\n\" style=\"fill:#1f77b4;\"/>\r\n   </g>\r\n   <g id=\"patch_32\">\r\n    <path clip-path=\"url(#p3bf1d55cd9)\" d=\"M 565.030804 442.08 \r\nL 578.648864 442.08 \r\nL 578.648864 388.720878 \r\nL 565.030804 388.720878 \r\nz\r\n\" style=\"fill:#1f77b4;\"/>\r\n   </g>\r\n   <g id=\"matplotlib.axis_1\">\r\n    <g id=\"xtick_1\">\r\n     <g id=\"line2d_1\">\r\n      <defs>\r\n       <path d=\"M 0 0 \r\nL 0 3.5 \r\n\" id=\"me5d4ae791d\" style=\"stroke:#000000;stroke-width:0.8;\"/>\r\n      </defs>\r\n      <g>\r\n       <use style=\"stroke:#000000;stroke-width:0.8;\" x=\"78.185166\" xlink:href=\"#me5d4ae791d\" y=\"442.08\"/>\r\n      </g>\r\n     </g>\r\n     <g id=\"text_1\">\r\n      <!-- guatemala_train -->\r\n      <g transform=\"translate(80.805479 531.0175)rotate(-90)scale(0.1 -0.1)\">\r\n       <defs>\r\n        <path d=\"M 45.40625 27.984375 \r\nQ 45.40625 37.75 41.375 43.109375 \r\nQ 37.359375 48.484375 30.078125 48.484375 \r\nQ 22.859375 48.484375 18.828125 43.109375 \r\nQ 14.796875 37.75 14.796875 27.984375 \r\nQ 14.796875 18.265625 18.828125 12.890625 \r\nQ 22.859375 7.515625 30.078125 7.515625 \r\nQ 37.359375 7.515625 41.375 12.890625 \r\nQ 45.40625 18.265625 45.40625 27.984375 \r\nz\r\nM 54.390625 6.78125 \r\nQ 54.390625 -7.171875 48.1875 -13.984375 \r\nQ 42 -20.796875 29.203125 -20.796875 \r\nQ 24.46875 -20.796875 20.265625 -20.09375 \r\nQ 16.0625 -19.390625 12.109375 -17.921875 \r\nL 12.109375 -9.1875 \r\nQ 16.0625 -11.328125 19.921875 -12.34375 \r\nQ 23.78125 -13.375 27.78125 -13.375 \r\nQ 36.625 -13.375 41.015625 -8.765625 \r\nQ 45.40625 -4.15625 45.40625 5.171875 \r\nL 45.40625 9.625 \r\nQ 42.625 4.78125 38.28125 2.390625 \r\nQ 33.9375 0 27.875 0 \r\nQ 17.828125 0 11.671875 7.65625 \r\nQ 5.515625 15.328125 5.515625 27.984375 \r\nQ 5.515625 40.671875 11.671875 48.328125 \r\nQ 17.828125 56 27.875 56 \r\nQ 33.9375 56 38.28125 53.609375 \r\nQ 42.625 51.21875 45.40625 46.390625 \r\nL 45.40625 54.6875 \r\nL 54.390625 54.6875 \r\nz\r\n\" id=\"DejaVuSans-103\"/>\r\n        <path d=\"M 8.5 21.578125 \r\nL 8.5 54.6875 \r\nL 17.484375 54.6875 \r\nL 17.484375 21.921875 \r\nQ 17.484375 14.15625 20.5 10.265625 \r\nQ 23.53125 6.390625 29.59375 6.390625 \r\nQ 36.859375 6.390625 41.078125 11.03125 \r\nQ 45.3125 15.671875 45.3125 23.6875 \r\nL 45.3125 54.6875 \r\nL 54.296875 54.6875 \r\nL 54.296875 0 \r\nL 45.3125 0 \r\nL 45.3125 8.40625 \r\nQ 42.046875 3.421875 37.71875 1 \r\nQ 33.40625 -1.421875 27.6875 -1.421875 \r\nQ 18.265625 -1.421875 13.375 4.4375 \r\nQ 8.5 10.296875 8.5 21.578125 \r\nz\r\nM 31.109375 56 \r\nz\r\n\" id=\"DejaVuSans-117\"/>\r\n        <path d=\"M 34.28125 27.484375 \r\nQ 23.390625 27.484375 19.1875 25 \r\nQ 14.984375 22.515625 14.984375 16.5 \r\nQ 14.984375 11.71875 18.140625 8.90625 \r\nQ 21.296875 6.109375 26.703125 6.109375 \r\nQ 34.1875 6.109375 38.703125 11.40625 \r\nQ 43.21875 16.703125 43.21875 25.484375 \r\nL 43.21875 27.484375 \r\nz\r\nM 52.203125 31.203125 \r\nL 52.203125 0 \r\nL 43.21875 0 \r\nL 43.21875 8.296875 \r\nQ 40.140625 3.328125 35.546875 0.953125 \r\nQ 30.953125 -1.421875 24.3125 -1.421875 \r\nQ 15.921875 -1.421875 10.953125 3.296875 \r\nQ 6 8.015625 6 15.921875 \r\nQ 6 25.140625 12.171875 29.828125 \r\nQ 18.359375 34.515625 30.609375 34.515625 \r\nL 43.21875 34.515625 \r\nL 43.21875 35.40625 \r\nQ 43.21875 41.609375 39.140625 45 \r\nQ 35.0625 48.390625 27.6875 48.390625 \r\nQ 23 48.390625 18.546875 47.265625 \r\nQ 14.109375 46.140625 10.015625 43.890625 \r\nL 10.015625 52.203125 \r\nQ 14.9375 54.109375 19.578125 55.046875 \r\nQ 24.21875 56 28.609375 56 \r\nQ 40.484375 56 46.34375 49.84375 \r\nQ 52.203125 43.703125 52.203125 31.203125 \r\nz\r\n\" id=\"DejaVuSans-97\"/>\r\n        <path d=\"M 18.3125 70.21875 \r\nL 18.3125 54.6875 \r\nL 36.8125 54.6875 \r\nL 36.8125 47.703125 \r\nL 18.3125 47.703125 \r\nL 18.3125 18.015625 \r\nQ 18.3125 11.328125 20.140625 9.421875 \r\nQ 21.96875 7.515625 27.59375 7.515625 \r\nL 36.8125 7.515625 \r\nL 36.8125 0 \r\nL 27.59375 0 \r\nQ 17.1875 0 13.234375 3.875 \r\nQ 9.28125 7.765625 9.28125 18.015625 \r\nL 9.28125 47.703125 \r\nL 2.6875 47.703125 \r\nL 2.6875 54.6875 \r\nL 9.28125 54.6875 \r\nL 9.28125 70.21875 \r\nz\r\n\" id=\"DejaVuSans-116\"/>\r\n        <path d=\"M 56.203125 29.59375 \r\nL 56.203125 25.203125 \r\nL 14.890625 25.203125 \r\nQ 15.484375 15.921875 20.484375 11.0625 \r\nQ 25.484375 6.203125 34.421875 6.203125 \r\nQ 39.59375 6.203125 44.453125 7.46875 \r\nQ 49.3125 8.734375 54.109375 11.28125 \r\nL 54.109375 2.78125 \r\nQ 49.265625 0.734375 44.1875 -0.34375 \r\nQ 39.109375 -1.421875 33.890625 -1.421875 \r\nQ 20.796875 -1.421875 13.15625 6.1875 \r\nQ 5.515625 13.8125 5.515625 26.8125 \r\nQ 5.515625 40.234375 12.765625 48.109375 \r\nQ 20.015625 56 32.328125 56 \r\nQ 43.359375 56 49.78125 48.890625 \r\nQ 56.203125 41.796875 56.203125 29.59375 \r\nz\r\nM 47.21875 32.234375 \r\nQ 47.125 39.59375 43.09375 43.984375 \r\nQ 39.0625 48.390625 32.421875 48.390625 \r\nQ 24.90625 48.390625 20.390625 44.140625 \r\nQ 15.875 39.890625 15.1875 32.171875 \r\nz\r\n\" id=\"DejaVuSans-101\"/>\r\n        <path d=\"M 52 44.1875 \r\nQ 55.375 50.25 60.0625 53.125 \r\nQ 64.75 56 71.09375 56 \r\nQ 79.640625 56 84.28125 50.015625 \r\nQ 88.921875 44.046875 88.921875 33.015625 \r\nL 88.921875 0 \r\nL 79.890625 0 \r\nL 79.890625 32.71875 \r\nQ 79.890625 40.578125 77.09375 44.375 \r\nQ 74.3125 48.1875 68.609375 48.1875 \r\nQ 61.625 48.1875 57.5625 43.546875 \r\nQ 53.515625 38.921875 53.515625 30.90625 \r\nL 53.515625 0 \r\nL 44.484375 0 \r\nL 44.484375 32.71875 \r\nQ 44.484375 40.625 41.703125 44.40625 \r\nQ 38.921875 48.1875 33.109375 48.1875 \r\nQ 26.21875 48.1875 22.15625 43.53125 \r\nQ 18.109375 38.875 18.109375 30.90625 \r\nL 18.109375 0 \r\nL 9.078125 0 \r\nL 9.078125 54.6875 \r\nL 18.109375 54.6875 \r\nL 18.109375 46.1875 \r\nQ 21.1875 51.21875 25.484375 53.609375 \r\nQ 29.78125 56 35.6875 56 \r\nQ 41.65625 56 45.828125 52.96875 \r\nQ 50 49.953125 52 44.1875 \r\nz\r\n\" id=\"DejaVuSans-109\"/>\r\n        <path d=\"M 9.421875 75.984375 \r\nL 18.40625 75.984375 \r\nL 18.40625 0 \r\nL 9.421875 0 \r\nz\r\n\" id=\"DejaVuSans-108\"/>\r\n        <path d=\"M 50.984375 -16.609375 \r\nL 50.984375 -23.578125 \r\nL -0.984375 -23.578125 \r\nL -0.984375 -16.609375 \r\nz\r\n\" id=\"DejaVuSans-95\"/>\r\n        <path d=\"M 41.109375 46.296875 \r\nQ 39.59375 47.171875 37.8125 47.578125 \r\nQ 36.03125 48 33.890625 48 \r\nQ 26.265625 48 22.1875 43.046875 \r\nQ 18.109375 38.09375 18.109375 28.8125 \r\nL 18.109375 0 \r\nL 9.078125 0 \r\nL 9.078125 54.6875 \r\nL 18.109375 54.6875 \r\nL 18.109375 46.1875 \r\nQ 20.953125 51.171875 25.484375 53.578125 \r\nQ 30.03125 56 36.53125 56 \r\nQ 37.453125 56 38.578125 55.875 \r\nQ 39.703125 55.765625 41.0625 55.515625 \r\nz\r\n\" id=\"DejaVuSans-114\"/>\r\n        <path d=\"M 9.421875 54.6875 \r\nL 18.40625 54.6875 \r\nL 18.40625 0 \r\nL 9.421875 0 \r\nz\r\nM 9.421875 75.984375 \r\nL 18.40625 75.984375 \r\nL 18.40625 64.59375 \r\nL 9.421875 64.59375 \r\nz\r\n\" id=\"DejaVuSans-105\"/>\r\n        <path d=\"M 54.890625 33.015625 \r\nL 54.890625 0 \r\nL 45.90625 0 \r\nL 45.90625 32.71875 \r\nQ 45.90625 40.484375 42.875 44.328125 \r\nQ 39.84375 48.1875 33.796875 48.1875 \r\nQ 26.515625 48.1875 22.3125 43.546875 \r\nQ 18.109375 38.921875 18.109375 30.90625 \r\nL 18.109375 0 \r\nL 9.078125 0 \r\nL 9.078125 54.6875 \r\nL 18.109375 54.6875 \r\nL 18.109375 46.1875 \r\nQ 21.34375 51.125 25.703125 53.5625 \r\nQ 30.078125 56 35.796875 56 \r\nQ 45.21875 56 50.046875 50.171875 \r\nQ 54.890625 44.34375 54.890625 33.015625 \r\nz\r\n\" id=\"DejaVuSans-110\"/>\r\n       </defs>\r\n       <use xlink:href=\"#DejaVuSans-103\"/>\r\n       <use x=\"63.476562\" xlink:href=\"#DejaVuSans-117\"/>\r\n       <use x=\"126.855469\" xlink:href=\"#DejaVuSans-97\"/>\r\n       <use x=\"188.134766\" xlink:href=\"#DejaVuSans-116\"/>\r\n       <use x=\"227.34375\" xlink:href=\"#DejaVuSans-101\"/>\r\n       <use x=\"288.867188\" xlink:href=\"#DejaVuSans-109\"/>\r\n       <use x=\"386.279297\" xlink:href=\"#DejaVuSans-97\"/>\r\n       <use x=\"447.558594\" xlink:href=\"#DejaVuSans-108\"/>\r\n       <use x=\"475.341797\" xlink:href=\"#DejaVuSans-97\"/>\r\n       <use x=\"536.621094\" xlink:href=\"#DejaVuSans-95\"/>\r\n       <use x=\"586.621094\" xlink:href=\"#DejaVuSans-116\"/>\r\n       <use x=\"625.830078\" xlink:href=\"#DejaVuSans-114\"/>\r\n       <use x=\"666.943359\" xlink:href=\"#DejaVuSans-97\"/>\r\n       <use x=\"728.222656\" xlink:href=\"#DejaVuSans-105\"/>\r\n       <use x=\"756.005859\" xlink:href=\"#DejaVuSans-110\"/>\r\n      </g>\r\n     </g>\r\n    </g>\r\n    <g id=\"xtick_2\">\r\n     <g id=\"line2d_2\">\r\n      <g>\r\n       <use style=\"stroke:#000000;stroke-width:0.8;\" x=\"95.207741\" xlink:href=\"#me5d4ae791d\" y=\"442.08\"/>\r\n      </g>\r\n     </g>\r\n     <g id=\"text_2\">\r\n      <!-- guatemala_test -->\r\n      <g transform=\"translate(97.828054 526.945625)rotate(-90)scale(0.1 -0.1)\">\r\n       <defs>\r\n        <path d=\"M 44.28125 53.078125 \r\nL 44.28125 44.578125 \r\nQ 40.484375 46.53125 36.375 47.5 \r\nQ 32.28125 48.484375 27.875 48.484375 \r\nQ 21.1875 48.484375 17.84375 46.4375 \r\nQ 14.5 44.390625 14.5 40.28125 \r\nQ 14.5 37.15625 16.890625 35.375 \r\nQ 19.28125 33.59375 26.515625 31.984375 \r\nL 29.59375 31.296875 \r\nQ 39.15625 29.25 43.1875 25.515625 \r\nQ 47.21875 21.78125 47.21875 15.09375 \r\nQ 47.21875 7.46875 41.1875 3.015625 \r\nQ 35.15625 -1.421875 24.609375 -1.421875 \r\nQ 20.21875 -1.421875 15.453125 -0.5625 \r\nQ 10.6875 0.296875 5.421875 2 \r\nL 5.421875 11.28125 \r\nQ 10.40625 8.6875 15.234375 7.390625 \r\nQ 20.0625 6.109375 24.8125 6.109375 \r\nQ 31.15625 6.109375 34.5625 8.28125 \r\nQ 37.984375 10.453125 37.984375 14.40625 \r\nQ 37.984375 18.0625 35.515625 20.015625 \r\nQ 33.0625 21.96875 24.703125 23.78125 \r\nL 21.578125 24.515625 \r\nQ 13.234375 26.265625 9.515625 29.90625 \r\nQ 5.8125 33.546875 5.8125 39.890625 \r\nQ 5.8125 47.609375 11.28125 51.796875 \r\nQ 16.75 56 26.8125 56 \r\nQ 31.78125 56 36.171875 55.265625 \r\nQ 40.578125 54.546875 44.28125 53.078125 \r\nz\r\n\" id=\"DejaVuSans-115\"/>\r\n       </defs>\r\n       <use xlink:href=\"#DejaVuSans-103\"/>\r\n       <use x=\"63.476562\" xlink:href=\"#DejaVuSans-117\"/>\r\n       <use x=\"126.855469\" xlink:href=\"#DejaVuSans-97\"/>\r\n       <use x=\"188.134766\" xlink:href=\"#DejaVuSans-116\"/>\r\n       <use x=\"227.34375\" xlink:href=\"#DejaVuSans-101\"/>\r\n       <use x=\"288.867188\" xlink:href=\"#DejaVuSans-109\"/>\r\n       <use x=\"386.279297\" xlink:href=\"#DejaVuSans-97\"/>\r\n       <use x=\"447.558594\" xlink:href=\"#DejaVuSans-108\"/>\r\n       <use x=\"475.341797\" xlink:href=\"#DejaVuSans-97\"/>\r\n       <use x=\"536.621094\" xlink:href=\"#DejaVuSans-95\"/>\r\n       <use x=\"586.621094\" xlink:href=\"#DejaVuSans-116\"/>\r\n       <use x=\"625.830078\" xlink:href=\"#DejaVuSans-101\"/>\r\n       <use x=\"687.353516\" xlink:href=\"#DejaVuSans-115\"/>\r\n       <use x=\"739.453125\" xlink:href=\"#DejaVuSans-116\"/>\r\n      </g>\r\n     </g>\r\n    </g>\r\n    <g id=\"xtick_3\">\r\n     <g id=\"line2d_3\">\r\n      <g>\r\n       <use style=\"stroke:#000000;stroke-width:0.8;\" x=\"112.230316\" xlink:href=\"#me5d4ae791d\" y=\"442.08\"/>\r\n      </g>\r\n     </g>\r\n     <g id=\"text_3\">\r\n      <!-- guatemala_hold -->\r\n      <g transform=\"translate(114.850628 529.325312)rotate(-90)scale(0.1 -0.1)\">\r\n       <defs>\r\n        <path d=\"M 54.890625 33.015625 \r\nL 54.890625 0 \r\nL 45.90625 0 \r\nL 45.90625 32.71875 \r\nQ 45.90625 40.484375 42.875 44.328125 \r\nQ 39.84375 48.1875 33.796875 48.1875 \r\nQ 26.515625 48.1875 22.3125 43.546875 \r\nQ 18.109375 38.921875 18.109375 30.90625 \r\nL 18.109375 0 \r\nL 9.078125 0 \r\nL 9.078125 75.984375 \r\nL 18.109375 75.984375 \r\nL 18.109375 46.1875 \r\nQ 21.34375 51.125 25.703125 53.5625 \r\nQ 30.078125 56 35.796875 56 \r\nQ 45.21875 56 50.046875 50.171875 \r\nQ 54.890625 44.34375 54.890625 33.015625 \r\nz\r\n\" id=\"DejaVuSans-104\"/>\r\n        <path d=\"M 30.609375 48.390625 \r\nQ 23.390625 48.390625 19.1875 42.75 \r\nQ 14.984375 37.109375 14.984375 27.296875 \r\nQ 14.984375 17.484375 19.15625 11.84375 \r\nQ 23.34375 6.203125 30.609375 6.203125 \r\nQ 37.796875 6.203125 41.984375 11.859375 \r\nQ 46.1875 17.53125 46.1875 27.296875 \r\nQ 46.1875 37.015625 41.984375 42.703125 \r\nQ 37.796875 48.390625 30.609375 48.390625 \r\nz\r\nM 30.609375 56 \r\nQ 42.328125 56 49.015625 48.375 \r\nQ 55.71875 40.765625 55.71875 27.296875 \r\nQ 55.71875 13.875 49.015625 6.21875 \r\nQ 42.328125 -1.421875 30.609375 -1.421875 \r\nQ 18.84375 -1.421875 12.171875 6.21875 \r\nQ 5.515625 13.875 5.515625 27.296875 \r\nQ 5.515625 40.765625 12.171875 48.375 \r\nQ 18.84375 56 30.609375 56 \r\nz\r\n\" id=\"DejaVuSans-111\"/>\r\n        <path d=\"M 45.40625 46.390625 \r\nL 45.40625 75.984375 \r\nL 54.390625 75.984375 \r\nL 54.390625 0 \r\nL 45.40625 0 \r\nL 45.40625 8.203125 \r\nQ 42.578125 3.328125 38.25 0.953125 \r\nQ 33.9375 -1.421875 27.875 -1.421875 \r\nQ 17.96875 -1.421875 11.734375 6.484375 \r\nQ 5.515625 14.40625 5.515625 27.296875 \r\nQ 5.515625 40.1875 11.734375 48.09375 \r\nQ 17.96875 56 27.875 56 \r\nQ 33.9375 56 38.25 53.625 \r\nQ 42.578125 51.265625 45.40625 46.390625 \r\nz\r\nM 14.796875 27.296875 \r\nQ 14.796875 17.390625 18.875 11.75 \r\nQ 22.953125 6.109375 30.078125 6.109375 \r\nQ 37.203125 6.109375 41.296875 11.75 \r\nQ 45.40625 17.390625 45.40625 27.296875 \r\nQ 45.40625 37.203125 41.296875 42.84375 \r\nQ 37.203125 48.484375 30.078125 48.484375 \r\nQ 22.953125 48.484375 18.875 42.84375 \r\nQ 14.796875 37.203125 14.796875 27.296875 \r\nz\r\n\" id=\"DejaVuSans-100\"/>\r\n       </defs>\r\n       <use xlink:href=\"#DejaVuSans-103\"/>\r\n       <use x=\"63.476562\" xlink:href=\"#DejaVuSans-117\"/>\r\n       <use x=\"126.855469\" xlink:href=\"#DejaVuSans-97\"/>\r\n       <use x=\"188.134766\" xlink:href=\"#DejaVuSans-116\"/>\r\n       <use x=\"227.34375\" xlink:href=\"#DejaVuSans-101\"/>\r\n       <use x=\"288.867188\" xlink:href=\"#DejaVuSans-109\"/>\r\n       <use x=\"386.279297\" xlink:href=\"#DejaVuSans-97\"/>\r\n       <use x=\"447.558594\" xlink:href=\"#DejaVuSans-108\"/>\r\n       <use x=\"475.341797\" xlink:href=\"#DejaVuSans-97\"/>\r\n       <use x=\"536.621094\" xlink:href=\"#DejaVuSans-95\"/>\r\n       <use x=\"586.621094\" xlink:href=\"#DejaVuSans-104\"/>\r\n       <use x=\"650\" xlink:href=\"#DejaVuSans-111\"/>\r\n       <use x=\"711.181641\" xlink:href=\"#DejaVuSans-108\"/>\r\n       <use x=\"738.964844\" xlink:href=\"#DejaVuSans-100\"/>\r\n      </g>\r\n     </g>\r\n    </g>\r\n    <g id=\"xtick_4\">\r\n     <g id=\"line2d_4\">\r\n      <g>\r\n       <use style=\"stroke:#000000;stroke-width:0.8;\" x=\"129.25289\" xlink:href=\"#me5d4ae791d\" y=\"442.08\"/>\r\n      </g>\r\n     </g>\r\n     <g id=\"text_4\">\r\n      <!-- florence_train -->\r\n      <g transform=\"translate(131.873203 517.800313)rotate(-90)scale(0.1 -0.1)\">\r\n       <defs>\r\n        <path d=\"M 37.109375 75.984375 \r\nL 37.109375 68.5 \r\nL 28.515625 68.5 \r\nQ 23.6875 68.5 21.796875 66.546875 \r\nQ 19.921875 64.59375 19.921875 59.515625 \r\nL 19.921875 54.6875 \r\nL 34.71875 54.6875 \r\nL 34.71875 47.703125 \r\nL 19.921875 47.703125 \r\nL 19.921875 0 \r\nL 10.890625 0 \r\nL 10.890625 47.703125 \r\nL 2.296875 47.703125 \r\nL 2.296875 54.6875 \r\nL 10.890625 54.6875 \r\nL 10.890625 58.5 \r\nQ 10.890625 67.625 15.140625 71.796875 \r\nQ 19.390625 75.984375 28.609375 75.984375 \r\nz\r\n\" id=\"DejaVuSans-102\"/>\r\n        <path d=\"M 48.78125 52.59375 \r\nL 48.78125 44.1875 \r\nQ 44.96875 46.296875 41.140625 47.34375 \r\nQ 37.3125 48.390625 33.40625 48.390625 \r\nQ 24.65625 48.390625 19.8125 42.84375 \r\nQ 14.984375 37.3125 14.984375 27.296875 \r\nQ 14.984375 17.28125 19.8125 11.734375 \r\nQ 24.65625 6.203125 33.40625 6.203125 \r\nQ 37.3125 6.203125 41.140625 7.25 \r\nQ 44.96875 8.296875 48.78125 10.40625 \r\nL 48.78125 2.09375 \r\nQ 45.015625 0.34375 40.984375 -0.53125 \r\nQ 36.96875 -1.421875 32.421875 -1.421875 \r\nQ 20.0625 -1.421875 12.78125 6.34375 \r\nQ 5.515625 14.109375 5.515625 27.296875 \r\nQ 5.515625 40.671875 12.859375 48.328125 \r\nQ 20.21875 56 33.015625 56 \r\nQ 37.15625 56 41.109375 55.140625 \r\nQ 45.0625 54.296875 48.78125 52.59375 \r\nz\r\n\" id=\"DejaVuSans-99\"/>\r\n       </defs>\r\n       <use xlink:href=\"#DejaVuSans-102\"/>\r\n       <use x=\"35.205078\" xlink:href=\"#DejaVuSans-108\"/>\r\n       <use x=\"62.988281\" xlink:href=\"#DejaVuSans-111\"/>\r\n       <use x=\"124.169922\" xlink:href=\"#DejaVuSans-114\"/>\r\n       <use x=\"163.033203\" xlink:href=\"#DejaVuSans-101\"/>\r\n       <use x=\"224.556641\" xlink:href=\"#DejaVuSans-110\"/>\r\n       <use x=\"287.935547\" xlink:href=\"#DejaVuSans-99\"/>\r\n       <use x=\"342.916016\" xlink:href=\"#DejaVuSans-101\"/>\r\n       <use x=\"404.439453\" xlink:href=\"#DejaVuSans-95\"/>\r\n       <use x=\"454.439453\" xlink:href=\"#DejaVuSans-116\"/>\r\n       <use x=\"493.648438\" xlink:href=\"#DejaVuSans-114\"/>\r\n       <use x=\"534.761719\" xlink:href=\"#DejaVuSans-97\"/>\r\n       <use x=\"596.041016\" xlink:href=\"#DejaVuSans-105\"/>\r\n       <use x=\"623.824219\" xlink:href=\"#DejaVuSans-110\"/>\r\n      </g>\r\n     </g>\r\n    </g>\r\n    <g id=\"xtick_5\">\r\n     <g id=\"line2d_5\">\r\n      <g>\r\n       <use style=\"stroke:#000000;stroke-width:0.8;\" x=\"146.275465\" xlink:href=\"#me5d4ae791d\" y=\"442.08\"/>\r\n      </g>\r\n     </g>\r\n     <g id=\"text_5\">\r\n      <!-- florence_test -->\r\n      <g transform=\"translate(148.895778 513.728437)rotate(-90)scale(0.1 -0.1)\">\r\n       <use xlink:href=\"#DejaVuSans-102\"/>\r\n       <use x=\"35.205078\" xlink:href=\"#DejaVuSans-108\"/>\r\n       <use x=\"62.988281\" xlink:href=\"#DejaVuSans-111\"/>\r\n       <use x=\"124.169922\" xlink:href=\"#DejaVuSans-114\"/>\r\n       <use x=\"163.033203\" xlink:href=\"#DejaVuSans-101\"/>\r\n       <use x=\"224.556641\" xlink:href=\"#DejaVuSans-110\"/>\r\n       <use x=\"287.935547\" xlink:href=\"#DejaVuSans-99\"/>\r\n       <use x=\"342.916016\" xlink:href=\"#DejaVuSans-101\"/>\r\n       <use x=\"404.439453\" xlink:href=\"#DejaVuSans-95\"/>\r\n       <use x=\"454.439453\" xlink:href=\"#DejaVuSans-116\"/>\r\n       <use x=\"493.648438\" xlink:href=\"#DejaVuSans-101\"/>\r\n       <use x=\"555.171875\" xlink:href=\"#DejaVuSans-115\"/>\r\n       <use x=\"607.271484\" xlink:href=\"#DejaVuSans-116\"/>\r\n      </g>\r\n     </g>\r\n    </g>\r\n    <g id=\"xtick_6\">\r\n     <g id=\"line2d_6\">\r\n      <g>\r\n       <use style=\"stroke:#000000;stroke-width:0.8;\" x=\"163.29804\" xlink:href=\"#me5d4ae791d\" y=\"442.08\"/>\r\n      </g>\r\n     </g>\r\n     <g id=\"text_6\">\r\n      <!-- florence_hold -->\r\n      <g transform=\"translate(165.918352 516.108125)rotate(-90)scale(0.1 -0.1)\">\r\n       <use xlink:href=\"#DejaVuSans-102\"/>\r\n       <use x=\"35.205078\" xlink:href=\"#DejaVuSans-108\"/>\r\n       <use x=\"62.988281\" xlink:href=\"#DejaVuSans-111\"/>\r\n       <use x=\"124.169922\" xlink:href=\"#DejaVuSans-114\"/>\r\n       <use x=\"163.033203\" xlink:href=\"#DejaVuSans-101\"/>\r\n       <use x=\"224.556641\" xlink:href=\"#DejaVuSans-110\"/>\r\n       <use x=\"287.935547\" xlink:href=\"#DejaVuSans-99\"/>\r\n       <use x=\"342.916016\" xlink:href=\"#DejaVuSans-101\"/>\r\n       <use x=\"404.439453\" xlink:href=\"#DejaVuSans-95\"/>\r\n       <use x=\"454.439453\" xlink:href=\"#DejaVuSans-104\"/>\r\n       <use x=\"517.818359\" xlink:href=\"#DejaVuSans-111\"/>\r\n       <use x=\"579\" xlink:href=\"#DejaVuSans-108\"/>\r\n       <use x=\"606.783203\" xlink:href=\"#DejaVuSans-100\"/>\r\n      </g>\r\n     </g>\r\n    </g>\r\n    <g id=\"xtick_7\">\r\n     <g id=\"line2d_7\">\r\n      <g>\r\n       <use style=\"stroke:#000000;stroke-width:0.8;\" x=\"180.320615\" xlink:href=\"#me5d4ae791d\" y=\"442.08\"/>\r\n      </g>\r\n     </g>\r\n     <g id=\"text_7\">\r\n      <!-- harvey_train -->\r\n      <g transform=\"translate(182.940927 511.922187)rotate(-90)scale(0.1 -0.1)\">\r\n       <defs>\r\n        <path d=\"M 2.984375 54.6875 \r\nL 12.5 54.6875 \r\nL 29.59375 8.796875 \r\nL 46.6875 54.6875 \r\nL 56.203125 54.6875 \r\nL 35.6875 0 \r\nL 23.484375 0 \r\nz\r\n\" id=\"DejaVuSans-118\"/>\r\n        <path d=\"M 32.171875 -5.078125 \r\nQ 28.375 -14.84375 24.75 -17.8125 \r\nQ 21.140625 -20.796875 15.09375 -20.796875 \r\nL 7.90625 -20.796875 \r\nL 7.90625 -13.28125 \r\nL 13.1875 -13.28125 \r\nQ 16.890625 -13.28125 18.9375 -11.515625 \r\nQ 21 -9.765625 23.484375 -3.21875 \r\nL 25.09375 0.875 \r\nL 2.984375 54.6875 \r\nL 12.5 54.6875 \r\nL 29.59375 11.921875 \r\nL 46.6875 54.6875 \r\nL 56.203125 54.6875 \r\nz\r\n\" id=\"DejaVuSans-121\"/>\r\n       </defs>\r\n       <use xlink:href=\"#DejaVuSans-104\"/>\r\n       <use x=\"63.378906\" xlink:href=\"#DejaVuSans-97\"/>\r\n       <use x=\"124.658203\" xlink:href=\"#DejaVuSans-114\"/>\r\n       <use x=\"165.771484\" xlink:href=\"#DejaVuSans-118\"/>\r\n       <use x=\"224.951172\" xlink:href=\"#DejaVuSans-101\"/>\r\n       <use x=\"286.474609\" xlink:href=\"#DejaVuSans-121\"/>\r\n       <use x=\"345.654297\" xlink:href=\"#DejaVuSans-95\"/>\r\n       <use x=\"395.654297\" xlink:href=\"#DejaVuSans-116\"/>\r\n       <use x=\"434.863281\" xlink:href=\"#DejaVuSans-114\"/>\r\n       <use x=\"475.976562\" xlink:href=\"#DejaVuSans-97\"/>\r\n       <use x=\"537.255859\" xlink:href=\"#DejaVuSans-105\"/>\r\n       <use x=\"565.039062\" xlink:href=\"#DejaVuSans-110\"/>\r\n      </g>\r\n     </g>\r\n    </g>\r\n    <g id=\"xtick_8\">\r\n     <g id=\"line2d_8\">\r\n      <g>\r\n       <use style=\"stroke:#000000;stroke-width:0.8;\" x=\"197.343189\" xlink:href=\"#me5d4ae791d\" y=\"442.08\"/>\r\n      </g>\r\n     </g>\r\n     <g id=\"text_8\">\r\n      <!-- harvey_test -->\r\n      <g transform=\"translate(199.963502 507.850312)rotate(-90)scale(0.1 -0.1)\">\r\n       <use xlink:href=\"#DejaVuSans-104\"/>\r\n       <use x=\"63.378906\" xlink:href=\"#DejaVuSans-97\"/>\r\n       <use x=\"124.658203\" xlink:href=\"#DejaVuSans-114\"/>\r\n       <use x=\"165.771484\" xlink:href=\"#DejaVuSans-118\"/>\r\n       <use x=\"224.951172\" xlink:href=\"#DejaVuSans-101\"/>\r\n       <use x=\"286.474609\" xlink:href=\"#DejaVuSans-121\"/>\r\n       <use x=\"345.654297\" xlink:href=\"#DejaVuSans-95\"/>\r\n       <use x=\"395.654297\" xlink:href=\"#DejaVuSans-116\"/>\r\n       <use x=\"434.863281\" xlink:href=\"#DejaVuSans-101\"/>\r\n       <use x=\"496.386719\" xlink:href=\"#DejaVuSans-115\"/>\r\n       <use x=\"548.486328\" xlink:href=\"#DejaVuSans-116\"/>\r\n      </g>\r\n     </g>\r\n    </g>\r\n    <g id=\"xtick_9\">\r\n     <g id=\"line2d_9\">\r\n      <g>\r\n       <use style=\"stroke:#000000;stroke-width:0.8;\" x=\"214.365764\" xlink:href=\"#me5d4ae791d\" y=\"442.08\"/>\r\n      </g>\r\n     </g>\r\n     <g id=\"text_9\">\r\n      <!-- harvey_hold -->\r\n      <g transform=\"translate(216.986077 510.23)rotate(-90)scale(0.1 -0.1)\">\r\n       <use xlink:href=\"#DejaVuSans-104\"/>\r\n       <use x=\"63.378906\" xlink:href=\"#DejaVuSans-97\"/>\r\n       <use x=\"124.658203\" xlink:href=\"#DejaVuSans-114\"/>\r\n       <use x=\"165.771484\" xlink:href=\"#DejaVuSans-118\"/>\r\n       <use x=\"224.951172\" xlink:href=\"#DejaVuSans-101\"/>\r\n       <use x=\"286.474609\" xlink:href=\"#DejaVuSans-121\"/>\r\n       <use x=\"345.654297\" xlink:href=\"#DejaVuSans-95\"/>\r\n       <use x=\"395.654297\" xlink:href=\"#DejaVuSans-104\"/>\r\n       <use x=\"459.033203\" xlink:href=\"#DejaVuSans-111\"/>\r\n       <use x=\"520.214844\" xlink:href=\"#DejaVuSans-108\"/>\r\n       <use x=\"547.998047\" xlink:href=\"#DejaVuSans-100\"/>\r\n      </g>\r\n     </g>\r\n    </g>\r\n    <g id=\"xtick_10\">\r\n     <g id=\"line2d_10\">\r\n      <g>\r\n       <use style=\"stroke:#000000;stroke-width:0.8;\" x=\"231.388339\" xlink:href=\"#me5d4ae791d\" y=\"442.08\"/>\r\n      </g>\r\n     </g>\r\n     <g id=\"text_10\">\r\n      <!-- matthew_train -->\r\n      <g transform=\"translate(234.008651 521.733125)rotate(-90)scale(0.1 -0.1)\">\r\n       <defs>\r\n        <path d=\"M 4.203125 54.6875 \r\nL 13.1875 54.6875 \r\nL 24.421875 12.015625 \r\nL 35.59375 54.6875 \r\nL 46.1875 54.6875 \r\nL 57.421875 12.015625 \r\nL 68.609375 54.6875 \r\nL 77.59375 54.6875 \r\nL 63.28125 0 \r\nL 52.6875 0 \r\nL 40.921875 44.828125 \r\nL 29.109375 0 \r\nL 18.5 0 \r\nz\r\n\" id=\"DejaVuSans-119\"/>\r\n       </defs>\r\n       <use xlink:href=\"#DejaVuSans-109\"/>\r\n       <use x=\"97.412109\" xlink:href=\"#DejaVuSans-97\"/>\r\n       <use x=\"158.691406\" xlink:href=\"#DejaVuSans-116\"/>\r\n       <use x=\"197.900391\" xlink:href=\"#DejaVuSans-116\"/>\r\n       <use x=\"237.109375\" xlink:href=\"#DejaVuSans-104\"/>\r\n       <use x=\"300.488281\" xlink:href=\"#DejaVuSans-101\"/>\r\n       <use x=\"362.011719\" xlink:href=\"#DejaVuSans-119\"/>\r\n       <use x=\"443.798828\" xlink:href=\"#DejaVuSans-95\"/>\r\n       <use x=\"493.798828\" xlink:href=\"#DejaVuSans-116\"/>\r\n       <use x=\"533.007812\" xlink:href=\"#DejaVuSans-114\"/>\r\n       <use x=\"574.121094\" xlink:href=\"#DejaVuSans-97\"/>\r\n       <use x=\"635.400391\" xlink:href=\"#DejaVuSans-105\"/>\r\n       <use x=\"663.183594\" xlink:href=\"#DejaVuSans-110\"/>\r\n      </g>\r\n     </g>\r\n    </g>\r\n    <g id=\"xtick_11\">\r\n     <g id=\"line2d_11\">\r\n      <g>\r\n       <use style=\"stroke:#000000;stroke-width:0.8;\" x=\"248.410914\" xlink:href=\"#me5d4ae791d\" y=\"442.08\"/>\r\n      </g>\r\n     </g>\r\n     <g id=\"text_11\">\r\n      <!-- matthew_test -->\r\n      <g transform=\"translate(251.031226 517.66125)rotate(-90)scale(0.1 -0.1)\">\r\n       <use xlink:href=\"#DejaVuSans-109\"/>\r\n       <use x=\"97.412109\" xlink:href=\"#DejaVuSans-97\"/>\r\n       <use x=\"158.691406\" xlink:href=\"#DejaVuSans-116\"/>\r\n       <use x=\"197.900391\" xlink:href=\"#DejaVuSans-116\"/>\r\n       <use x=\"237.109375\" xlink:href=\"#DejaVuSans-104\"/>\r\n       <use x=\"300.488281\" xlink:href=\"#DejaVuSans-101\"/>\r\n       <use x=\"362.011719\" xlink:href=\"#DejaVuSans-119\"/>\r\n       <use x=\"443.798828\" xlink:href=\"#DejaVuSans-95\"/>\r\n       <use x=\"493.798828\" xlink:href=\"#DejaVuSans-116\"/>\r\n       <use x=\"533.007812\" xlink:href=\"#DejaVuSans-101\"/>\r\n       <use x=\"594.53125\" xlink:href=\"#DejaVuSans-115\"/>\r\n       <use x=\"646.630859\" xlink:href=\"#DejaVuSans-116\"/>\r\n      </g>\r\n     </g>\r\n    </g>\r\n    <g id=\"xtick_12\">\r\n     <g id=\"line2d_12\">\r\n      <g>\r\n       <use style=\"stroke:#000000;stroke-width:0.8;\" x=\"265.433488\" xlink:href=\"#me5d4ae791d\" y=\"442.08\"/>\r\n      </g>\r\n     </g>\r\n     <g id=\"text_12\">\r\n      <!-- matthew_hold -->\r\n      <g transform=\"translate(268.053801 520.040937)rotate(-90)scale(0.1 -0.1)\">\r\n       <use xlink:href=\"#DejaVuSans-109\"/>\r\n       <use x=\"97.412109\" xlink:href=\"#DejaVuSans-97\"/>\r\n       <use x=\"158.691406\" xlink:href=\"#DejaVuSans-116\"/>\r\n       <use x=\"197.900391\" xlink:href=\"#DejaVuSans-116\"/>\r\n       <use x=\"237.109375\" xlink:href=\"#DejaVuSans-104\"/>\r\n       <use x=\"300.488281\" xlink:href=\"#DejaVuSans-101\"/>\r\n       <use x=\"362.011719\" xlink:href=\"#DejaVuSans-119\"/>\r\n       <use x=\"443.798828\" xlink:href=\"#DejaVuSans-95\"/>\r\n       <use x=\"493.798828\" xlink:href=\"#DejaVuSans-104\"/>\r\n       <use x=\"557.177734\" xlink:href=\"#DejaVuSans-111\"/>\r\n       <use x=\"618.359375\" xlink:href=\"#DejaVuSans-108\"/>\r\n       <use x=\"646.142578\" xlink:href=\"#DejaVuSans-100\"/>\r\n      </g>\r\n     </g>\r\n    </g>\r\n    <g id=\"xtick_13\">\r\n     <g id=\"line2d_13\">\r\n      <g>\r\n       <use style=\"stroke:#000000;stroke-width:0.8;\" x=\"282.456063\" xlink:href=\"#me5d4ae791d\" y=\"442.08\"/>\r\n      </g>\r\n     </g>\r\n     <g id=\"text_13\">\r\n      <!-- michael_train -->\r\n      <g transform=\"translate(285.076376 516.769063)rotate(-90)scale(0.1 -0.1)\">\r\n       <use xlink:href=\"#DejaVuSans-109\"/>\r\n       <use x=\"97.412109\" xlink:href=\"#DejaVuSans-105\"/>\r\n       <use x=\"125.195312\" xlink:href=\"#DejaVuSans-99\"/>\r\n       <use x=\"180.175781\" xlink:href=\"#DejaVuSans-104\"/>\r\n       <use x=\"243.554688\" xlink:href=\"#DejaVuSans-97\"/>\r\n       <use x=\"304.833984\" xlink:href=\"#DejaVuSans-101\"/>\r\n       <use x=\"366.357422\" xlink:href=\"#DejaVuSans-108\"/>\r\n       <use x=\"394.140625\" xlink:href=\"#DejaVuSans-95\"/>\r\n       <use x=\"444.140625\" xlink:href=\"#DejaVuSans-116\"/>\r\n       <use x=\"483.349609\" xlink:href=\"#DejaVuSans-114\"/>\r\n       <use x=\"524.462891\" xlink:href=\"#DejaVuSans-97\"/>\r\n       <use x=\"585.742188\" xlink:href=\"#DejaVuSans-105\"/>\r\n       <use x=\"613.525391\" xlink:href=\"#DejaVuSans-110\"/>\r\n      </g>\r\n     </g>\r\n    </g>\r\n    <g id=\"xtick_14\">\r\n     <g id=\"line2d_14\">\r\n      <g>\r\n       <use style=\"stroke:#000000;stroke-width:0.8;\" x=\"299.478638\" xlink:href=\"#me5d4ae791d\" y=\"442.08\"/>\r\n      </g>\r\n     </g>\r\n     <g id=\"text_14\">\r\n      <!-- michael_test -->\r\n      <g transform=\"translate(302.09895 512.697187)rotate(-90)scale(0.1 -0.1)\">\r\n       <use xlink:href=\"#DejaVuSans-109\"/>\r\n       <use x=\"97.412109\" xlink:href=\"#DejaVuSans-105\"/>\r\n       <use x=\"125.195312\" xlink:href=\"#DejaVuSans-99\"/>\r\n       <use x=\"180.175781\" xlink:href=\"#DejaVuSans-104\"/>\r\n       <use x=\"243.554688\" xlink:href=\"#DejaVuSans-97\"/>\r\n       <use x=\"304.833984\" xlink:href=\"#DejaVuSans-101\"/>\r\n       <use x=\"366.357422\" xlink:href=\"#DejaVuSans-108\"/>\r\n       <use x=\"394.140625\" xlink:href=\"#DejaVuSans-95\"/>\r\n       <use x=\"444.140625\" xlink:href=\"#DejaVuSans-116\"/>\r\n       <use x=\"483.349609\" xlink:href=\"#DejaVuSans-101\"/>\r\n       <use x=\"544.873047\" xlink:href=\"#DejaVuSans-115\"/>\r\n       <use x=\"596.972656\" xlink:href=\"#DejaVuSans-116\"/>\r\n      </g>\r\n     </g>\r\n    </g>\r\n    <g id=\"xtick_15\">\r\n     <g id=\"line2d_15\">\r\n      <g>\r\n       <use style=\"stroke:#000000;stroke-width:0.8;\" x=\"316.501213\" xlink:href=\"#me5d4ae791d\" y=\"442.08\"/>\r\n      </g>\r\n     </g>\r\n     <g id=\"text_15\">\r\n      <!-- michael_hold -->\r\n      <g transform=\"translate(319.121525 515.076875)rotate(-90)scale(0.1 -0.1)\">\r\n       <use xlink:href=\"#DejaVuSans-109\"/>\r\n       <use x=\"97.412109\" xlink:href=\"#DejaVuSans-105\"/>\r\n       <use x=\"125.195312\" xlink:href=\"#DejaVuSans-99\"/>\r\n       <use x=\"180.175781\" xlink:href=\"#DejaVuSans-104\"/>\r\n       <use x=\"243.554688\" xlink:href=\"#DejaVuSans-97\"/>\r\n       <use x=\"304.833984\" xlink:href=\"#DejaVuSans-101\"/>\r\n       <use x=\"366.357422\" xlink:href=\"#DejaVuSans-108\"/>\r\n       <use x=\"394.140625\" xlink:href=\"#DejaVuSans-95\"/>\r\n       <use x=\"444.140625\" xlink:href=\"#DejaVuSans-104\"/>\r\n       <use x=\"507.519531\" xlink:href=\"#DejaVuSans-111\"/>\r\n       <use x=\"568.701172\" xlink:href=\"#DejaVuSans-108\"/>\r\n       <use x=\"596.484375\" xlink:href=\"#DejaVuSans-100\"/>\r\n      </g>\r\n     </g>\r\n    </g>\r\n    <g id=\"xtick_16\">\r\n     <g id=\"line2d_16\">\r\n      <g>\r\n       <use style=\"stroke:#000000;stroke-width:0.8;\" x=\"333.523787\" xlink:href=\"#me5d4ae791d\" y=\"442.08\"/>\r\n      </g>\r\n     </g>\r\n     <g id=\"text_16\">\r\n      <!-- mexico_train -->\r\n      <g transform=\"translate(336.1441 513.387812)rotate(-90)scale(0.1 -0.1)\">\r\n       <defs>\r\n        <path d=\"M 54.890625 54.6875 \r\nL 35.109375 28.078125 \r\nL 55.90625 0 \r\nL 45.3125 0 \r\nL 29.390625 21.484375 \r\nL 13.484375 0 \r\nL 2.875 0 \r\nL 24.125 28.609375 \r\nL 4.6875 54.6875 \r\nL 15.28125 54.6875 \r\nL 29.78125 35.203125 \r\nL 44.28125 54.6875 \r\nz\r\n\" id=\"DejaVuSans-120\"/>\r\n       </defs>\r\n       <use xlink:href=\"#DejaVuSans-109\"/>\r\n       <use x=\"97.412109\" xlink:href=\"#DejaVuSans-101\"/>\r\n       <use x=\"157.185547\" xlink:href=\"#DejaVuSans-120\"/>\r\n       <use x=\"216.365234\" xlink:href=\"#DejaVuSans-105\"/>\r\n       <use x=\"244.148438\" xlink:href=\"#DejaVuSans-99\"/>\r\n       <use x=\"299.128906\" xlink:href=\"#DejaVuSans-111\"/>\r\n       <use x=\"360.310547\" xlink:href=\"#DejaVuSans-95\"/>\r\n       <use x=\"410.310547\" xlink:href=\"#DejaVuSans-116\"/>\r\n       <use x=\"449.519531\" xlink:href=\"#DejaVuSans-114\"/>\r\n       <use x=\"490.632812\" xlink:href=\"#DejaVuSans-97\"/>\r\n       <use x=\"551.912109\" xlink:href=\"#DejaVuSans-105\"/>\r\n       <use x=\"579.695312\" xlink:href=\"#DejaVuSans-110\"/>\r\n      </g>\r\n     </g>\r\n    </g>\r\n    <g id=\"xtick_17\">\r\n     <g id=\"line2d_17\">\r\n      <g>\r\n       <use style=\"stroke:#000000;stroke-width:0.8;\" x=\"350.546362\" xlink:href=\"#me5d4ae791d\" y=\"442.08\"/>\r\n      </g>\r\n     </g>\r\n     <g id=\"text_17\">\r\n      <!-- mexico_test -->\r\n      <g transform=\"translate(353.166675 509.315937)rotate(-90)scale(0.1 -0.1)\">\r\n       <use xlink:href=\"#DejaVuSans-109\"/>\r\n       <use x=\"97.412109\" xlink:href=\"#DejaVuSans-101\"/>\r\n       <use x=\"157.185547\" xlink:href=\"#DejaVuSans-120\"/>\r\n       <use x=\"216.365234\" xlink:href=\"#DejaVuSans-105\"/>\r\n       <use x=\"244.148438\" xlink:href=\"#DejaVuSans-99\"/>\r\n       <use x=\"299.128906\" xlink:href=\"#DejaVuSans-111\"/>\r\n       <use x=\"360.310547\" xlink:href=\"#DejaVuSans-95\"/>\r\n       <use x=\"410.310547\" xlink:href=\"#DejaVuSans-116\"/>\r\n       <use x=\"449.519531\" xlink:href=\"#DejaVuSans-101\"/>\r\n       <use x=\"511.042969\" xlink:href=\"#DejaVuSans-115\"/>\r\n       <use x=\"563.142578\" xlink:href=\"#DejaVuSans-116\"/>\r\n      </g>\r\n     </g>\r\n    </g>\r\n    <g id=\"xtick_18\">\r\n     <g id=\"line2d_18\">\r\n      <g>\r\n       <use style=\"stroke:#000000;stroke-width:0.8;\" x=\"367.568937\" xlink:href=\"#me5d4ae791d\" y=\"442.08\"/>\r\n      </g>\r\n     </g>\r\n     <g id=\"text_18\">\r\n      <!-- mexico_hold -->\r\n      <g transform=\"translate(370.189249 511.695625)rotate(-90)scale(0.1 -0.1)\">\r\n       <use xlink:href=\"#DejaVuSans-109\"/>\r\n       <use x=\"97.412109\" xlink:href=\"#DejaVuSans-101\"/>\r\n       <use x=\"157.185547\" xlink:href=\"#DejaVuSans-120\"/>\r\n       <use x=\"216.365234\" xlink:href=\"#DejaVuSans-105\"/>\r\n       <use x=\"244.148438\" xlink:href=\"#DejaVuSans-99\"/>\r\n       <use x=\"299.128906\" xlink:href=\"#DejaVuSans-111\"/>\r\n       <use x=\"360.310547\" xlink:href=\"#DejaVuSans-95\"/>\r\n       <use x=\"410.310547\" xlink:href=\"#DejaVuSans-104\"/>\r\n       <use x=\"473.689453\" xlink:href=\"#DejaVuSans-111\"/>\r\n       <use x=\"534.871094\" xlink:href=\"#DejaVuSans-108\"/>\r\n       <use x=\"562.654297\" xlink:href=\"#DejaVuSans-100\"/>\r\n      </g>\r\n     </g>\r\n    </g>\r\n    <g id=\"xtick_19\">\r\n     <g id=\"line2d_19\">\r\n      <g>\r\n       <use style=\"stroke:#000000;stroke-width:0.8;\" x=\"384.591512\" xlink:href=\"#me5d4ae791d\" y=\"442.08\"/>\r\n      </g>\r\n     </g>\r\n     <g id=\"text_19\">\r\n      <!-- midwest_train -->\r\n      <g transform=\"translate(387.211824 519.683125)rotate(-90)scale(0.1 -0.1)\">\r\n       <use xlink:href=\"#DejaVuSans-109\"/>\r\n       <use x=\"97.412109\" xlink:href=\"#DejaVuSans-105\"/>\r\n       <use x=\"125.195312\" xlink:href=\"#DejaVuSans-100\"/>\r\n       <use x=\"188.671875\" xlink:href=\"#DejaVuSans-119\"/>\r\n       <use x=\"270.458984\" xlink:href=\"#DejaVuSans-101\"/>\r\n       <use x=\"331.982422\" xlink:href=\"#DejaVuSans-115\"/>\r\n       <use x=\"384.082031\" xlink:href=\"#DejaVuSans-116\"/>\r\n       <use x=\"423.291016\" xlink:href=\"#DejaVuSans-95\"/>\r\n       <use x=\"473.291016\" xlink:href=\"#DejaVuSans-116\"/>\r\n       <use x=\"512.5\" xlink:href=\"#DejaVuSans-114\"/>\r\n       <use x=\"553.613281\" xlink:href=\"#DejaVuSans-97\"/>\r\n       <use x=\"614.892578\" xlink:href=\"#DejaVuSans-105\"/>\r\n       <use x=\"642.675781\" xlink:href=\"#DejaVuSans-110\"/>\r\n      </g>\r\n     </g>\r\n    </g>\r\n    <g id=\"xtick_20\">\r\n     <g id=\"line2d_20\">\r\n      <g>\r\n       <use style=\"stroke:#000000;stroke-width:0.8;\" x=\"401.614086\" xlink:href=\"#me5d4ae791d\" y=\"442.08\"/>\r\n      </g>\r\n     </g>\r\n     <g id=\"text_20\">\r\n      <!-- midwest_test -->\r\n      <g transform=\"translate(404.234399 515.61125)rotate(-90)scale(0.1 -0.1)\">\r\n       <use xlink:href=\"#DejaVuSans-109\"/>\r\n       <use x=\"97.412109\" xlink:href=\"#DejaVuSans-105\"/>\r\n       <use x=\"125.195312\" xlink:href=\"#DejaVuSans-100\"/>\r\n       <use x=\"188.671875\" xlink:href=\"#DejaVuSans-119\"/>\r\n       <use x=\"270.458984\" xlink:href=\"#DejaVuSans-101\"/>\r\n       <use x=\"331.982422\" xlink:href=\"#DejaVuSans-115\"/>\r\n       <use x=\"384.082031\" xlink:href=\"#DejaVuSans-116\"/>\r\n       <use x=\"423.291016\" xlink:href=\"#DejaVuSans-95\"/>\r\n       <use x=\"473.291016\" xlink:href=\"#DejaVuSans-116\"/>\r\n       <use x=\"512.5\" xlink:href=\"#DejaVuSans-101\"/>\r\n       <use x=\"574.023438\" xlink:href=\"#DejaVuSans-115\"/>\r\n       <use x=\"626.123047\" xlink:href=\"#DejaVuSans-116\"/>\r\n      </g>\r\n     </g>\r\n    </g>\r\n    <g id=\"xtick_21\">\r\n     <g id=\"line2d_21\">\r\n      <g>\r\n       <use style=\"stroke:#000000;stroke-width:0.8;\" x=\"418.636661\" xlink:href=\"#me5d4ae791d\" y=\"442.08\"/>\r\n      </g>\r\n     </g>\r\n     <g id=\"text_21\">\r\n      <!-- midwest_hold -->\r\n      <g transform=\"translate(421.256974 517.990937)rotate(-90)scale(0.1 -0.1)\">\r\n       <use xlink:href=\"#DejaVuSans-109\"/>\r\n       <use x=\"97.412109\" xlink:href=\"#DejaVuSans-105\"/>\r\n       <use x=\"125.195312\" xlink:href=\"#DejaVuSans-100\"/>\r\n       <use x=\"188.671875\" xlink:href=\"#DejaVuSans-119\"/>\r\n       <use x=\"270.458984\" xlink:href=\"#DejaVuSans-101\"/>\r\n       <use x=\"331.982422\" xlink:href=\"#DejaVuSans-115\"/>\r\n       <use x=\"384.082031\" xlink:href=\"#DejaVuSans-116\"/>\r\n       <use x=\"423.291016\" xlink:href=\"#DejaVuSans-95\"/>\r\n       <use x=\"473.291016\" xlink:href=\"#DejaVuSans-104\"/>\r\n       <use x=\"536.669922\" xlink:href=\"#DejaVuSans-111\"/>\r\n       <use x=\"597.851562\" xlink:href=\"#DejaVuSans-108\"/>\r\n       <use x=\"625.634766\" xlink:href=\"#DejaVuSans-100\"/>\r\n      </g>\r\n     </g>\r\n    </g>\r\n    <g id=\"xtick_22\">\r\n     <g id=\"line2d_22\">\r\n      <g>\r\n       <use style=\"stroke:#000000;stroke-width:0.8;\" x=\"435.659236\" xlink:href=\"#me5d4ae791d\" y=\"442.08\"/>\r\n      </g>\r\n     </g>\r\n     <g id=\"text_22\">\r\n      <!-- palu_train -->\r\n      <g transform=\"translate(438.279548 498.947187)rotate(-90)scale(0.1 -0.1)\">\r\n       <defs>\r\n        <path d=\"M 18.109375 8.203125 \r\nL 18.109375 -20.796875 \r\nL 9.078125 -20.796875 \r\nL 9.078125 54.6875 \r\nL 18.109375 54.6875 \r\nL 18.109375 46.390625 \r\nQ 20.953125 51.265625 25.265625 53.625 \r\nQ 29.59375 56 35.59375 56 \r\nQ 45.5625 56 51.78125 48.09375 \r\nQ 58.015625 40.1875 58.015625 27.296875 \r\nQ 58.015625 14.40625 51.78125 6.484375 \r\nQ 45.5625 -1.421875 35.59375 -1.421875 \r\nQ 29.59375 -1.421875 25.265625 0.953125 \r\nQ 20.953125 3.328125 18.109375 8.203125 \r\nz\r\nM 48.6875 27.296875 \r\nQ 48.6875 37.203125 44.609375 42.84375 \r\nQ 40.53125 48.484375 33.40625 48.484375 \r\nQ 26.265625 48.484375 22.1875 42.84375 \r\nQ 18.109375 37.203125 18.109375 27.296875 \r\nQ 18.109375 17.390625 22.1875 11.75 \r\nQ 26.265625 6.109375 33.40625 6.109375 \r\nQ 40.53125 6.109375 44.609375 11.75 \r\nQ 48.6875 17.390625 48.6875 27.296875 \r\nz\r\n\" id=\"DejaVuSans-112\"/>\r\n       </defs>\r\n       <use xlink:href=\"#DejaVuSans-112\"/>\r\n       <use x=\"63.476562\" xlink:href=\"#DejaVuSans-97\"/>\r\n       <use x=\"124.755859\" xlink:href=\"#DejaVuSans-108\"/>\r\n       <use x=\"152.539062\" xlink:href=\"#DejaVuSans-117\"/>\r\n       <use x=\"215.917969\" xlink:href=\"#DejaVuSans-95\"/>\r\n       <use x=\"265.917969\" xlink:href=\"#DejaVuSans-116\"/>\r\n       <use x=\"305.126953\" xlink:href=\"#DejaVuSans-114\"/>\r\n       <use x=\"346.240234\" xlink:href=\"#DejaVuSans-97\"/>\r\n       <use x=\"407.519531\" xlink:href=\"#DejaVuSans-105\"/>\r\n       <use x=\"435.302734\" xlink:href=\"#DejaVuSans-110\"/>\r\n      </g>\r\n     </g>\r\n    </g>\r\n    <g id=\"xtick_23\">\r\n     <g id=\"line2d_23\">\r\n      <g>\r\n       <use style=\"stroke:#000000;stroke-width:0.8;\" x=\"452.681811\" xlink:href=\"#me5d4ae791d\" y=\"442.08\"/>\r\n      </g>\r\n     </g>\r\n     <g id=\"text_23\">\r\n      <!-- palu_test -->\r\n      <g transform=\"translate(455.302123 494.875312)rotate(-90)scale(0.1 -0.1)\">\r\n       <use xlink:href=\"#DejaVuSans-112\"/>\r\n       <use x=\"63.476562\" xlink:href=\"#DejaVuSans-97\"/>\r\n       <use x=\"124.755859\" xlink:href=\"#DejaVuSans-108\"/>\r\n       <use x=\"152.539062\" xlink:href=\"#DejaVuSans-117\"/>\r\n       <use x=\"215.917969\" xlink:href=\"#DejaVuSans-95\"/>\r\n       <use x=\"265.917969\" xlink:href=\"#DejaVuSans-116\"/>\r\n       <use x=\"305.126953\" xlink:href=\"#DejaVuSans-101\"/>\r\n       <use x=\"366.650391\" xlink:href=\"#DejaVuSans-115\"/>\r\n       <use x=\"418.75\" xlink:href=\"#DejaVuSans-116\"/>\r\n      </g>\r\n     </g>\r\n    </g>\r\n    <g id=\"xtick_24\">\r\n     <g id=\"line2d_24\">\r\n      <g>\r\n       <use style=\"stroke:#000000;stroke-width:0.8;\" x=\"469.704385\" xlink:href=\"#me5d4ae791d\" y=\"442.08\"/>\r\n      </g>\r\n     </g>\r\n     <g id=\"text_24\">\r\n      <!-- palu_hold -->\r\n      <g transform=\"translate(472.324698 497.255)rotate(-90)scale(0.1 -0.1)\">\r\n       <use xlink:href=\"#DejaVuSans-112\"/>\r\n       <use x=\"63.476562\" xlink:href=\"#DejaVuSans-97\"/>\r\n       <use x=\"124.755859\" xlink:href=\"#DejaVuSans-108\"/>\r\n       <use x=\"152.539062\" xlink:href=\"#DejaVuSans-117\"/>\r\n       <use x=\"215.917969\" xlink:href=\"#DejaVuSans-95\"/>\r\n       <use x=\"265.917969\" xlink:href=\"#DejaVuSans-104\"/>\r\n       <use x=\"329.296875\" xlink:href=\"#DejaVuSans-111\"/>\r\n       <use x=\"390.478516\" xlink:href=\"#DejaVuSans-108\"/>\r\n       <use x=\"418.261719\" xlink:href=\"#DejaVuSans-100\"/>\r\n      </g>\r\n     </g>\r\n    </g>\r\n    <g id=\"xtick_25\">\r\n     <g id=\"line2d_25\">\r\n      <g>\r\n       <use style=\"stroke:#000000;stroke-width:0.8;\" x=\"486.72696\" xlink:href=\"#me5d4ae791d\" y=\"442.08\"/>\r\n      </g>\r\n     </g>\r\n     <g id=\"text_25\">\r\n      <!-- santa_train -->\r\n      <g transform=\"translate(489.347273 505.078437)rotate(-90)scale(0.1 -0.1)\">\r\n       <use xlink:href=\"#DejaVuSans-115\"/>\r\n       <use x=\"52.099609\" xlink:href=\"#DejaVuSans-97\"/>\r\n       <use x=\"113.378906\" xlink:href=\"#DejaVuSans-110\"/>\r\n       <use x=\"176.757812\" xlink:href=\"#DejaVuSans-116\"/>\r\n       <use x=\"215.966797\" xlink:href=\"#DejaVuSans-97\"/>\r\n       <use x=\"277.246094\" xlink:href=\"#DejaVuSans-95\"/>\r\n       <use x=\"327.246094\" xlink:href=\"#DejaVuSans-116\"/>\r\n       <use x=\"366.455078\" xlink:href=\"#DejaVuSans-114\"/>\r\n       <use x=\"407.568359\" xlink:href=\"#DejaVuSans-97\"/>\r\n       <use x=\"468.847656\" xlink:href=\"#DejaVuSans-105\"/>\r\n       <use x=\"496.630859\" xlink:href=\"#DejaVuSans-110\"/>\r\n      </g>\r\n     </g>\r\n    </g>\r\n    <g id=\"xtick_26\">\r\n     <g id=\"line2d_26\">\r\n      <g>\r\n       <use style=\"stroke:#000000;stroke-width:0.8;\" x=\"503.749535\" xlink:href=\"#me5d4ae791d\" y=\"442.08\"/>\r\n      </g>\r\n     </g>\r\n     <g id=\"text_26\">\r\n      <!-- santa_test -->\r\n      <g transform=\"translate(506.230785 501.006562)rotate(-90)scale(0.1 -0.1)\">\r\n       <use xlink:href=\"#DejaVuSans-115\"/>\r\n       <use x=\"52.099609\" xlink:href=\"#DejaVuSans-97\"/>\r\n       <use x=\"113.378906\" xlink:href=\"#DejaVuSans-110\"/>\r\n       <use x=\"176.757812\" xlink:href=\"#DejaVuSans-116\"/>\r\n       <use x=\"215.966797\" xlink:href=\"#DejaVuSans-97\"/>\r\n       <use x=\"277.246094\" xlink:href=\"#DejaVuSans-95\"/>\r\n       <use x=\"327.246094\" xlink:href=\"#DejaVuSans-116\"/>\r\n       <use x=\"366.455078\" xlink:href=\"#DejaVuSans-101\"/>\r\n       <use x=\"427.978516\" xlink:href=\"#DejaVuSans-115\"/>\r\n       <use x=\"480.078125\" xlink:href=\"#DejaVuSans-116\"/>\r\n      </g>\r\n     </g>\r\n    </g>\r\n    <g id=\"xtick_27\">\r\n     <g id=\"line2d_27\">\r\n      <g>\r\n       <use style=\"stroke:#000000;stroke-width:0.8;\" x=\"520.77211\" xlink:href=\"#me5d4ae791d\" y=\"442.08\"/>\r\n      </g>\r\n     </g>\r\n     <g id=\"text_27\">\r\n      <!-- santa_hold -->\r\n      <g transform=\"translate(523.392422 503.38625)rotate(-90)scale(0.1 -0.1)\">\r\n       <use xlink:href=\"#DejaVuSans-115\"/>\r\n       <use x=\"52.099609\" xlink:href=\"#DejaVuSans-97\"/>\r\n       <use x=\"113.378906\" xlink:href=\"#DejaVuSans-110\"/>\r\n       <use x=\"176.757812\" xlink:href=\"#DejaVuSans-116\"/>\r\n       <use x=\"215.966797\" xlink:href=\"#DejaVuSans-97\"/>\r\n       <use x=\"277.246094\" xlink:href=\"#DejaVuSans-95\"/>\r\n       <use x=\"327.246094\" xlink:href=\"#DejaVuSans-104\"/>\r\n       <use x=\"390.625\" xlink:href=\"#DejaVuSans-111\"/>\r\n       <use x=\"451.806641\" xlink:href=\"#DejaVuSans-108\"/>\r\n       <use x=\"479.589844\" xlink:href=\"#DejaVuSans-100\"/>\r\n      </g>\r\n     </g>\r\n    </g>\r\n    <g id=\"xtick_28\">\r\n     <g id=\"line2d_28\">\r\n      <g>\r\n       <use style=\"stroke:#000000;stroke-width:0.8;\" x=\"537.794684\" xlink:href=\"#me5d4ae791d\" y=\"442.08\"/>\r\n      </g>\r\n     </g>\r\n     <g id=\"text_28\">\r\n      <!-- socal_train -->\r\n      <g transform=\"translate(540.414997 503.087812)rotate(-90)scale(0.1 -0.1)\">\r\n       <use xlink:href=\"#DejaVuSans-115\"/>\r\n       <use x=\"52.099609\" xlink:href=\"#DejaVuSans-111\"/>\r\n       <use x=\"113.28125\" xlink:href=\"#DejaVuSans-99\"/>\r\n       <use x=\"168.261719\" xlink:href=\"#DejaVuSans-97\"/>\r\n       <use x=\"229.541016\" xlink:href=\"#DejaVuSans-108\"/>\r\n       <use x=\"257.324219\" xlink:href=\"#DejaVuSans-95\"/>\r\n       <use x=\"307.324219\" xlink:href=\"#DejaVuSans-116\"/>\r\n       <use x=\"346.533203\" xlink:href=\"#DejaVuSans-114\"/>\r\n       <use x=\"387.646484\" xlink:href=\"#DejaVuSans-97\"/>\r\n       <use x=\"448.925781\" xlink:href=\"#DejaVuSans-105\"/>\r\n       <use x=\"476.708984\" xlink:href=\"#DejaVuSans-110\"/>\r\n      </g>\r\n     </g>\r\n    </g>\r\n    <g id=\"xtick_29\">\r\n     <g id=\"line2d_29\">\r\n      <g>\r\n       <use style=\"stroke:#000000;stroke-width:0.8;\" x=\"554.817259\" xlink:href=\"#me5d4ae791d\" y=\"442.08\"/>\r\n      </g>\r\n     </g>\r\n     <g id=\"text_29\">\r\n      <!-- socal_test -->\r\n      <g transform=\"translate(557.437571 499.015937)rotate(-90)scale(0.1 -0.1)\">\r\n       <use xlink:href=\"#DejaVuSans-115\"/>\r\n       <use x=\"52.099609\" xlink:href=\"#DejaVuSans-111\"/>\r\n       <use x=\"113.28125\" xlink:href=\"#DejaVuSans-99\"/>\r\n       <use x=\"168.261719\" xlink:href=\"#DejaVuSans-97\"/>\r\n       <use x=\"229.541016\" xlink:href=\"#DejaVuSans-108\"/>\r\n       <use x=\"257.324219\" xlink:href=\"#DejaVuSans-95\"/>\r\n       <use x=\"307.324219\" xlink:href=\"#DejaVuSans-116\"/>\r\n       <use x=\"346.533203\" xlink:href=\"#DejaVuSans-101\"/>\r\n       <use x=\"408.056641\" xlink:href=\"#DejaVuSans-115\"/>\r\n       <use x=\"460.15625\" xlink:href=\"#DejaVuSans-116\"/>\r\n      </g>\r\n     </g>\r\n    </g>\r\n    <g id=\"xtick_30\">\r\n     <g id=\"line2d_30\">\r\n      <g>\r\n       <use style=\"stroke:#000000;stroke-width:0.8;\" x=\"571.839834\" xlink:href=\"#me5d4ae791d\" y=\"442.08\"/>\r\n      </g>\r\n     </g>\r\n     <g id=\"text_30\">\r\n      <!-- socal_hold -->\r\n      <g transform=\"translate(574.460146 501.395625)rotate(-90)scale(0.1 -0.1)\">\r\n       <use xlink:href=\"#DejaVuSans-115\"/>\r\n       <use x=\"52.099609\" xlink:href=\"#DejaVuSans-111\"/>\r\n       <use x=\"113.28125\" xlink:href=\"#DejaVuSans-99\"/>\r\n       <use x=\"168.261719\" xlink:href=\"#DejaVuSans-97\"/>\r\n       <use x=\"229.541016\" xlink:href=\"#DejaVuSans-108\"/>\r\n       <use x=\"257.324219\" xlink:href=\"#DejaVuSans-95\"/>\r\n       <use x=\"307.324219\" xlink:href=\"#DejaVuSans-104\"/>\r\n       <use x=\"370.703125\" xlink:href=\"#DejaVuSans-111\"/>\r\n       <use x=\"431.884766\" xlink:href=\"#DejaVuSans-108\"/>\r\n       <use x=\"459.667969\" xlink:href=\"#DejaVuSans-100\"/>\r\n      </g>\r\n     </g>\r\n    </g>\r\n   </g>\r\n   <g id=\"matplotlib.axis_2\">\r\n    <g id=\"ytick_1\">\r\n     <g id=\"line2d_31\">\r\n      <defs>\r\n       <path d=\"M 0 0 \r\nL -3.5 0 \r\n\" id=\"ma645d6d800\" style=\"stroke:#000000;stroke-width:0.8;\"/>\r\n      </defs>\r\n      <g>\r\n       <use style=\"stroke:#000000;stroke-width:0.8;\" x=\"46.0125\" xlink:href=\"#ma645d6d800\" y=\"442.08\"/>\r\n      </g>\r\n     </g>\r\n     <g id=\"text_31\">\r\n      <!-- 0 -->\r\n      <g transform=\"translate(32.65 445.879219)scale(0.1 -0.1)\">\r\n       <defs>\r\n        <path d=\"M 31.78125 66.40625 \r\nQ 24.171875 66.40625 20.328125 58.90625 \r\nQ 16.5 51.421875 16.5 36.375 \r\nQ 16.5 21.390625 20.328125 13.890625 \r\nQ 24.171875 6.390625 31.78125 6.390625 \r\nQ 39.453125 6.390625 43.28125 13.890625 \r\nQ 47.125 21.390625 47.125 36.375 \r\nQ 47.125 51.421875 43.28125 58.90625 \r\nQ 39.453125 66.40625 31.78125 66.40625 \r\nz\r\nM 31.78125 74.21875 \r\nQ 44.046875 74.21875 50.515625 64.515625 \r\nQ 56.984375 54.828125 56.984375 36.375 \r\nQ 56.984375 17.96875 50.515625 8.265625 \r\nQ 44.046875 -1.421875 31.78125 -1.421875 \r\nQ 19.53125 -1.421875 13.0625 8.265625 \r\nQ 6.59375 17.96875 6.59375 36.375 \r\nQ 6.59375 54.828125 13.0625 64.515625 \r\nQ 19.53125 74.21875 31.78125 74.21875 \r\nz\r\n\" id=\"DejaVuSans-48\"/>\r\n       </defs>\r\n       <use xlink:href=\"#DejaVuSans-48\"/>\r\n      </g>\r\n     </g>\r\n    </g>\r\n    <g id=\"ytick_2\">\r\n     <g id=\"line2d_32\">\r\n      <g>\r\n       <use style=\"stroke:#000000;stroke-width:0.8;\" x=\"46.0125\" xlink:href=\"#ma645d6d800\" y=\"378.888241\"/>\r\n      </g>\r\n     </g>\r\n     <g id=\"text_32\">\r\n      <!-- 5000 -->\r\n      <g transform=\"translate(13.5625 382.687459)scale(0.1 -0.1)\">\r\n       <defs>\r\n        <path d=\"M 10.796875 72.90625 \r\nL 49.515625 72.90625 \r\nL 49.515625 64.59375 \r\nL 19.828125 64.59375 \r\nL 19.828125 46.734375 \r\nQ 21.96875 47.46875 24.109375 47.828125 \r\nQ 26.265625 48.1875 28.421875 48.1875 \r\nQ 40.625 48.1875 47.75 41.5 \r\nQ 54.890625 34.8125 54.890625 23.390625 \r\nQ 54.890625 11.625 47.5625 5.09375 \r\nQ 40.234375 -1.421875 26.90625 -1.421875 \r\nQ 22.3125 -1.421875 17.546875 -0.640625 \r\nQ 12.796875 0.140625 7.71875 1.703125 \r\nL 7.71875 11.625 \r\nQ 12.109375 9.234375 16.796875 8.0625 \r\nQ 21.484375 6.890625 26.703125 6.890625 \r\nQ 35.15625 6.890625 40.078125 11.328125 \r\nQ 45.015625 15.765625 45.015625 23.390625 \r\nQ 45.015625 31 40.078125 35.4375 \r\nQ 35.15625 39.890625 26.703125 39.890625 \r\nQ 22.75 39.890625 18.8125 39.015625 \r\nQ 14.890625 38.140625 10.796875 36.28125 \r\nz\r\n\" id=\"DejaVuSans-53\"/>\r\n       </defs>\r\n       <use xlink:href=\"#DejaVuSans-53\"/>\r\n       <use x=\"63.623047\" xlink:href=\"#DejaVuSans-48\"/>\r\n       <use x=\"127.246094\" xlink:href=\"#DejaVuSans-48\"/>\r\n       <use x=\"190.869141\" xlink:href=\"#DejaVuSans-48\"/>\r\n      </g>\r\n     </g>\r\n    </g>\r\n    <g id=\"ytick_3\">\r\n     <g id=\"line2d_33\">\r\n      <g>\r\n       <use style=\"stroke:#000000;stroke-width:0.8;\" x=\"46.0125\" xlink:href=\"#ma645d6d800\" y=\"315.696481\"/>\r\n      </g>\r\n     </g>\r\n     <g id=\"text_33\">\r\n      <!-- 10000 -->\r\n      <g transform=\"translate(7.2 319.4957)scale(0.1 -0.1)\">\r\n       <defs>\r\n        <path d=\"M 12.40625 8.296875 \r\nL 28.515625 8.296875 \r\nL 28.515625 63.921875 \r\nL 10.984375 60.40625 \r\nL 10.984375 69.390625 \r\nL 28.421875 72.90625 \r\nL 38.28125 72.90625 \r\nL 38.28125 8.296875 \r\nL 54.390625 8.296875 \r\nL 54.390625 0 \r\nL 12.40625 0 \r\nz\r\n\" id=\"DejaVuSans-49\"/>\r\n       </defs>\r\n       <use xlink:href=\"#DejaVuSans-49\"/>\r\n       <use x=\"63.623047\" xlink:href=\"#DejaVuSans-48\"/>\r\n       <use x=\"127.246094\" xlink:href=\"#DejaVuSans-48\"/>\r\n       <use x=\"190.869141\" xlink:href=\"#DejaVuSans-48\"/>\r\n       <use x=\"254.492188\" xlink:href=\"#DejaVuSans-48\"/>\r\n      </g>\r\n     </g>\r\n    </g>\r\n    <g id=\"ytick_4\">\r\n     <g id=\"line2d_34\">\r\n      <g>\r\n       <use style=\"stroke:#000000;stroke-width:0.8;\" x=\"46.0125\" xlink:href=\"#ma645d6d800\" y=\"252.504722\"/>\r\n      </g>\r\n     </g>\r\n     <g id=\"text_34\">\r\n      <!-- 15000 -->\r\n      <g transform=\"translate(7.2 256.303941)scale(0.1 -0.1)\">\r\n       <use xlink:href=\"#DejaVuSans-49\"/>\r\n       <use x=\"63.623047\" xlink:href=\"#DejaVuSans-53\"/>\r\n       <use x=\"127.246094\" xlink:href=\"#DejaVuSans-48\"/>\r\n       <use x=\"190.869141\" xlink:href=\"#DejaVuSans-48\"/>\r\n       <use x=\"254.492188\" xlink:href=\"#DejaVuSans-48\"/>\r\n      </g>\r\n     </g>\r\n    </g>\r\n    <g id=\"ytick_5\">\r\n     <g id=\"line2d_35\">\r\n      <g>\r\n       <use style=\"stroke:#000000;stroke-width:0.8;\" x=\"46.0125\" xlink:href=\"#ma645d6d800\" y=\"189.312963\"/>\r\n      </g>\r\n     </g>\r\n     <g id=\"text_35\">\r\n      <!-- 20000 -->\r\n      <g transform=\"translate(7.2 193.112182)scale(0.1 -0.1)\">\r\n       <defs>\r\n        <path d=\"M 19.1875 8.296875 \r\nL 53.609375 8.296875 \r\nL 53.609375 0 \r\nL 7.328125 0 \r\nL 7.328125 8.296875 \r\nQ 12.9375 14.109375 22.625 23.890625 \r\nQ 32.328125 33.6875 34.8125 36.53125 \r\nQ 39.546875 41.84375 41.421875 45.53125 \r\nQ 43.3125 49.21875 43.3125 52.78125 \r\nQ 43.3125 58.59375 39.234375 62.25 \r\nQ 35.15625 65.921875 28.609375 65.921875 \r\nQ 23.96875 65.921875 18.8125 64.3125 \r\nQ 13.671875 62.703125 7.8125 59.421875 \r\nL 7.8125 69.390625 \r\nQ 13.765625 71.78125 18.9375 73 \r\nQ 24.125 74.21875 28.421875 74.21875 \r\nQ 39.75 74.21875 46.484375 68.546875 \r\nQ 53.21875 62.890625 53.21875 53.421875 \r\nQ 53.21875 48.921875 51.53125 44.890625 \r\nQ 49.859375 40.875 45.40625 35.40625 \r\nQ 44.1875 33.984375 37.640625 27.21875 \r\nQ 31.109375 20.453125 19.1875 8.296875 \r\nz\r\n\" id=\"DejaVuSans-50\"/>\r\n       </defs>\r\n       <use xlink:href=\"#DejaVuSans-50\"/>\r\n       <use x=\"63.623047\" xlink:href=\"#DejaVuSans-48\"/>\r\n       <use x=\"127.246094\" xlink:href=\"#DejaVuSans-48\"/>\r\n       <use x=\"190.869141\" xlink:href=\"#DejaVuSans-48\"/>\r\n       <use x=\"254.492188\" xlink:href=\"#DejaVuSans-48\"/>\r\n      </g>\r\n     </g>\r\n    </g>\r\n    <g id=\"ytick_6\">\r\n     <g id=\"line2d_36\">\r\n      <g>\r\n       <use style=\"stroke:#000000;stroke-width:0.8;\" x=\"46.0125\" xlink:href=\"#ma645d6d800\" y=\"126.121204\"/>\r\n      </g>\r\n     </g>\r\n     <g id=\"text_36\">\r\n      <!-- 25000 -->\r\n      <g transform=\"translate(7.2 129.920422)scale(0.1 -0.1)\">\r\n       <use xlink:href=\"#DejaVuSans-50\"/>\r\n       <use x=\"63.623047\" xlink:href=\"#DejaVuSans-53\"/>\r\n       <use x=\"127.246094\" xlink:href=\"#DejaVuSans-48\"/>\r\n       <use x=\"190.869141\" xlink:href=\"#DejaVuSans-48\"/>\r\n       <use x=\"254.492188\" xlink:href=\"#DejaVuSans-48\"/>\r\n      </g>\r\n     </g>\r\n    </g>\r\n    <g id=\"ytick_7\">\r\n     <g id=\"line2d_37\">\r\n      <g>\r\n       <use style=\"stroke:#000000;stroke-width:0.8;\" x=\"46.0125\" xlink:href=\"#ma645d6d800\" y=\"62.929444\"/>\r\n      </g>\r\n     </g>\r\n     <g id=\"text_37\">\r\n      <!-- 30000 -->\r\n      <g transform=\"translate(7.2 66.728663)scale(0.1 -0.1)\">\r\n       <defs>\r\n        <path d=\"M 40.578125 39.3125 \r\nQ 47.65625 37.796875 51.625 33 \r\nQ 55.609375 28.21875 55.609375 21.1875 \r\nQ 55.609375 10.40625 48.1875 4.484375 \r\nQ 40.765625 -1.421875 27.09375 -1.421875 \r\nQ 22.515625 -1.421875 17.65625 -0.515625 \r\nQ 12.796875 0.390625 7.625 2.203125 \r\nL 7.625 11.71875 \r\nQ 11.71875 9.328125 16.59375 8.109375 \r\nQ 21.484375 6.890625 26.8125 6.890625 \r\nQ 36.078125 6.890625 40.9375 10.546875 \r\nQ 45.796875 14.203125 45.796875 21.1875 \r\nQ 45.796875 27.640625 41.28125 31.265625 \r\nQ 36.765625 34.90625 28.71875 34.90625 \r\nL 20.21875 34.90625 \r\nL 20.21875 43.015625 \r\nL 29.109375 43.015625 \r\nQ 36.375 43.015625 40.234375 45.921875 \r\nQ 44.09375 48.828125 44.09375 54.296875 \r\nQ 44.09375 59.90625 40.109375 62.90625 \r\nQ 36.140625 65.921875 28.71875 65.921875 \r\nQ 24.65625 65.921875 20.015625 65.03125 \r\nQ 15.375 64.15625 9.8125 62.3125 \r\nL 9.8125 71.09375 \r\nQ 15.4375 72.65625 20.34375 73.4375 \r\nQ 25.25 74.21875 29.59375 74.21875 \r\nQ 40.828125 74.21875 47.359375 69.109375 \r\nQ 53.90625 64.015625 53.90625 55.328125 \r\nQ 53.90625 49.265625 50.4375 45.09375 \r\nQ 46.96875 40.921875 40.578125 39.3125 \r\nz\r\n\" id=\"DejaVuSans-51\"/>\r\n       </defs>\r\n       <use xlink:href=\"#DejaVuSans-51\"/>\r\n       <use x=\"63.623047\" xlink:href=\"#DejaVuSans-48\"/>\r\n       <use x=\"127.246094\" xlink:href=\"#DejaVuSans-48\"/>\r\n       <use x=\"190.869141\" xlink:href=\"#DejaVuSans-48\"/>\r\n       <use x=\"254.492188\" xlink:href=\"#DejaVuSans-48\"/>\r\n      </g>\r\n     </g>\r\n    </g>\r\n   </g>\r\n   <g id=\"patch_33\">\r\n    <path d=\"M 46.0125 442.08 \r\nL 46.0125 7.2 \r\n\" style=\"fill:none;stroke:#000000;stroke-linecap:square;stroke-linejoin:miter;stroke-width:0.8;\"/>\r\n   </g>\r\n   <g id=\"patch_34\">\r\n    <path d=\"M 604.0125 442.08 \r\nL 604.0125 7.2 \r\n\" style=\"fill:none;stroke:#000000;stroke-linecap:square;stroke-linejoin:miter;stroke-width:0.8;\"/>\r\n   </g>\r\n   <g id=\"patch_35\">\r\n    <path d=\"M 46.0125 442.08 \r\nL 604.0125 442.08 \r\n\" style=\"fill:none;stroke:#000000;stroke-linecap:square;stroke-linejoin:miter;stroke-width:0.8;\"/>\r\n   </g>\r\n   <g id=\"patch_36\">\r\n    <path d=\"M 46.0125 7.2 \r\nL 604.0125 7.2 \r\n\" style=\"fill:none;stroke:#000000;stroke-linecap:square;stroke-linejoin:miter;stroke-width:0.8;\"/>\r\n   </g>\r\n  </g>\r\n </g>\r\n <defs>\r\n  <clipPath id=\"p3bf1d55cd9\">\r\n   <rect height=\"434.88\" width=\"558\" x=\"46.0125\" y=\"7.2\"/>\r\n  </clipPath>\r\n </defs>\r\n</svg>\r\n",
      "image/png": "[encoded data removed]"
     },
     "metadata": {
      "needs_background": "light"
     }
    }
   ],
   "source": [
    "D = {\n",
    "    'guatemala_train' : 1712 // 2,\n",
    "    'guatemala_test' : 64 // 2,\n",
    "    'guatemala_hold' : 206 // 2,\n",
    "    'florence_train' : 12892 // 2,\n",
    "    'florence_test' : 4536 // 2,\n",
    "    'florence_hold' : 5668 // 2,\n",
    "    'harvey_train' : 46028 // 2,\n",
    "    'harvey_test' : 15430 // 2,\n",
    "    'harvey_hold' : 14452 // 2,\n",
    "    'matthew_train' : 27878 // 2,\n",
    "    'matthew_test' : 8378 // 2,\n",
    "    'matthew_hold' : 11672 // 2,\n",
    "    'michael_train' : 45372 // 2,\n",
    "    'michael_test' : 11314 // 2,\n",
    "    'michael_hold' : 14316 // 2,\n",
    "    'mexico_train' : 65542 // 2,\n",
    "    'mexico_test' : 22822 // 2,\n",
    "    'mexico_hold' : 15582 // 2,\n",
    "    'midwest_train' : 17512 // 2,\n",
    "    'midwest_test' : 5064 // 2,\n",
    "    'midwest_hold' : 5216 // 2,\n",
    "    'palu_train' : 62788 // 2,\n",
    "    'palu_test' : 25120 // 2,\n",
    "    'palu_hold' : 23670 // 2,\n",
    "    'santa_train' : 25900 // 2,\n",
    "    'santa_test' : 8452 // 2,\n",
    "    'santa_hold' : 9558 // 2,\n",
    "    'socal_train' : 20950 // 2,\n",
    "    'socal_test' : 8544 // 2,\n",
    "    'socal_hold' : 8444 // 2\n",
    "}\n",
    "\n",
    "import matplotlib.pyplot as plt\n",
    "plt.figure(figsize=(10,8))\n",
    "plt.bar(range(len(D)), list(D.values()), align='center');\n",
    "plt.xticks(range(len(D)), list(D.keys()), rotation=90);"
   ]
  },
  {
   "cell_type": "code",
   "execution_count": 20,
   "metadata": {},
   "outputs": [
    {
     "output_type": "execute_result",
     "data": {
      "text/plain": [
       "0.5195694080000001"
      ]
     },
     "metadata": {},
     "execution_count": 20
    }
   ],
   "source": [
    "guatemala = D['guatemala_hold'] + D['guatemala_test'] + D['guatemala_train']\n",
    "sizet * guatemala"
   ]
  },
  {
   "cell_type": "code",
   "execution_count": 21,
   "metadata": {},
   "outputs": [
    {
     "output_type": "execute_result",
     "data": {
      "text/plain": [
       "991"
      ]
     },
     "metadata": {},
     "execution_count": 21
    }
   ],
   "source": [
    "guatemala"
   ]
  },
  {
   "cell_type": "code",
   "execution_count": 23,
   "metadata": {},
   "outputs": [
    {
     "output_type": "execute_result",
     "data": {
      "text/plain": [
       "9.945219072"
      ]
     },
     "metadata": {},
     "execution_count": 23
    }
   ],
   "source": [
    "socal = D['socal_train'] + D['socal_test'] + D['socal_hold']\n",
    "sizet * socal"
   ]
  },
  {
   "cell_type": "code",
   "execution_count": 17,
   "metadata": {},
   "outputs": [
    {
     "output_type": "execute_result",
     "data": {
      "text/plain": [
       "34.363408384"
      ]
     },
     "metadata": {},
     "execution_count": 17
    }
   ],
   "source": [
    "sizet * D['mexico_train']"
   ]
  },
  {
   "cell_type": "markdown",
   "metadata": {},
   "source": [
    "---"
   ]
  },
  {
   "cell_type": "code",
   "execution_count": 14,
   "metadata": {},
   "outputs": [
    {
     "output_type": "execute_result",
     "data": {
      "text/plain": [
       "['465.94617850181066', ' 109.62942748980328']"
      ]
     },
     "metadata": {},
     "execution_count": 14
    }
   ],
   "source": [
    "df.iloc[0,0].replace('(','').replace(')','').split(',')"
   ]
  },
  {
   "cell_type": "markdown",
   "metadata": {},
   "source": [
    "---"
   ]
  },
  {
   "cell_type": "code",
   "execution_count": 2,
   "metadata": {},
   "outputs": [
    {
     "output_type": "stream",
     "name": "stdout",
     "text": [
      "datasets\\xbd\\train_bldgs\\guatemala-volcano\\guatemala-volcano_train_labels.csv\n"
     ]
    }
   ],
   "source": [
    "import pandas as pd\n",
    "from pathlib import Path\n",
    "xbd_path = 'datasets/xbd'\n",
    "subsets = ('/train_bldgs/', '/hold_bldgs/', '/test_bldgs/')\n",
    "\n",
    "disaster_folders = os.listdir(xbd_path + subsets[0])\n",
    "disaster_folders_tier3 = os.listdir(xbd_path + '/tier3_bldgs/')\n",
    "\n",
    "for subset in subsets:\n",
    "    subset_marker = subset[subset.find('/')+len('/'):subset.rfind('_')]\n",
    "    for disaster in disaster_folders:\n",
    "        print(list(Path(xbd_path + subset + disaster).glob('*.csv*'))[0])\n",
    "        labels = pd.read_csv(list(Path(xbd_path + subset + disaster).glob('*.csv*'))[0])\n",
    "        break\n",
    "    break"
   ]
  },
  {
   "cell_type": "code",
   "execution_count": 14,
   "metadata": {},
   "outputs": [
    {
     "output_type": "execute_result",
     "data": {
      "text/plain": [
       "                                             name      xcoords     ycoords  \\\n",
       "0  guatemala-volcano_00000000_post_disaster_0.png   485.912146  215.775709   \n",
       "1  guatemala-volcano_00000000_post_disaster_1.png   825.060485  755.521020   \n",
       "2  guatemala-volcano_00000000_post_disaster_2.png  1001.802266  840.883008   \n",
       "3  guatemala-volcano_00000000_post_disaster_3.png  1015.641853  916.529460   \n",
       "4  guatemala-volcano_00000000_post_disaster_4.png   995.523131  946.768692   \n",
       "\n",
       "       class         norm  \n",
       "0  no-damage   531.666973  \n",
       "1  no-damage  1118.721063  \n",
       "2  no-damage  1307.934254  \n",
       "3  no-damage  1368.047742  \n",
       "4  no-damage  1373.840333  "
      ],
      "text/html": "<div>\n<style scoped>\n    .dataframe tbody tr th:only-of-type {\n        vertical-align: middle;\n    }\n\n    .dataframe tbody tr th {\n        vertical-align: top;\n    }\n\n    .dataframe thead th {\n        text-align: right;\n    }\n</style>\n<table border=\"1\" class=\"dataframe\">\n  <thead>\n    <tr style=\"text-align: right;\">\n      <th></th>\n      <th>name</th>\n      <th>xcoords</th>\n      <th>ycoords</th>\n      <th>class</th>\n      <th>norm</th>\n    </tr>\n  </thead>\n  <tbody>\n    <tr>\n      <th>0</th>\n      <td>guatemala-volcano_00000000_post_disaster_0.png</td>\n      <td>485.912146</td>\n      <td>215.775709</td>\n      <td>no-damage</td>\n      <td>531.666973</td>\n    </tr>\n    <tr>\n      <th>1</th>\n      <td>guatemala-volcano_00000000_post_disaster_1.png</td>\n      <td>825.060485</td>\n      <td>755.521020</td>\n      <td>no-damage</td>\n      <td>1118.721063</td>\n    </tr>\n    <tr>\n      <th>2</th>\n      <td>guatemala-volcano_00000000_post_disaster_2.png</td>\n      <td>1001.802266</td>\n      <td>840.883008</td>\n      <td>no-damage</td>\n      <td>1307.934254</td>\n    </tr>\n    <tr>\n      <th>3</th>\n      <td>guatemala-volcano_00000000_post_disaster_3.png</td>\n      <td>1015.641853</td>\n      <td>916.529460</td>\n      <td>no-damage</td>\n      <td>1368.047742</td>\n    </tr>\n    <tr>\n      <th>4</th>\n      <td>guatemala-volcano_00000000_post_disaster_4.png</td>\n      <td>995.523131</td>\n      <td>946.768692</td>\n      <td>no-damage</td>\n      <td>1373.840333</td>\n    </tr>\n  </tbody>\n</table>\n</div>"
     },
     "metadata": {},
     "execution_count": 14
    }
   ],
   "source": [
    "from math import sqrt\n",
    "labels.columns = ['name', 'xcoords', 'ycoords', 'class']\n",
    "norm = lambda row: sqrt(row[1]**2 + row[2]**2)\n",
    "labels['norm'] = labels.apply(norm, axis=1)\n",
    "labels.head()"
   ]
  },
  {
   "cell_type": "code",
   "execution_count": 16,
   "metadata": {},
   "outputs": [
    {
     "data": {
      "text/plain": [
       "no-damage        731\n",
       "un-classified    178\n",
       "destroyed         33\n",
       "minor-damage      26\n",
       "major-damage      23\n",
       "Name: class, dtype: int64"
      ]
     },
     "execution_count": 16,
     "metadata": {},
     "output_type": "execute_result"
    }
   ],
   "source": [
    "annotation.value_counts()"
   ]
  },
  {
   "cell_type": "markdown",
   "metadata": {},
   "source": [
    "---"
   ]
  },
  {
   "cell_type": "code",
   "execution_count": 29,
   "metadata": {},
   "outputs": [
    {
     "output_type": "execute_result",
     "data": {
      "text/plain": [
       "tensor([[0, 1, 1, 1],\n",
       "        [0, 0, 1, 1],\n",
       "        [0, 0, 0, 0]])"
      ]
     },
     "metadata": {},
     "execution_count": 29
    }
   ],
   "source": [
    "import torch\n",
    "\n",
    "a = torch.tensor([[0.8, 0.1, 0, 0],[0.7,0.6,0.3,0.2],[0.8,0.7,0.9,0.6]])\n",
    "\n",
    "idx = torch.where(a < 0.5, 1, 0)\n",
    "\n",
    "idx"
   ]
  },
  {
   "cell_type": "code",
   "execution_count": 30,
   "metadata": {},
   "outputs": [
    {
     "output_type": "execute_result",
     "data": {
      "text/plain": [
       "tensor([1, 2, 0])"
      ]
     },
     "metadata": {},
     "execution_count": 30
    }
   ],
   "source": [
    "nz = torch.argmax(idx,dim=1)\n",
    "nz"
   ]
  },
  {
   "cell_type": "code",
   "execution_count": 32,
   "metadata": {},
   "outputs": [
    {
     "output_type": "execute_result",
     "data": {
      "text/plain": [
       "tensor([1, 2, 4])"
      ]
     },
     "metadata": {},
     "execution_count": 32
    }
   ],
   "source": [
    "torch.where(nz == 0, 4, nz)"
   ]
  },
  {
   "source": [
    "---"
   ],
   "cell_type": "markdown",
   "metadata": {}
  },
  {
   "cell_type": "code",
   "execution_count": null,
   "metadata": {},
   "outputs": [],
   "source": []
  }
 ],
 "metadata": {
  "kernelspec": {
   "name": "python3710jvsc74a57bd05031f79d2a0762a93fe093d47ca4666becb7c86b29dce5af1939a06639a94482",
   "display_name": "Python 3.7.10 64-bit"
  },
  "language_info": {
   "codemirror_mode": {
    "name": "ipython",
    "version": 3
   },
   "file_extension": ".py",
   "mimetype": "text/x-python",
   "name": "python",
   "nbconvert_exporter": "python",
   "pygments_lexer": "ipython3",
   "version": "3.7.10"
  }
 },
 "nbformat": 4,
 "nbformat_minor": 2
}