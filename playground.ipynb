{
 "cells": [
  {
   "cell_type": "markdown",
   "source": [
    "# Data Visualization"
   ],
   "metadata": {}
  },
  {
   "cell_type": "code",
   "execution_count": null,
   "source": [
    "import pandas as pd\r\n",
    "from pathlib import Path\r\n",
    "\r\n",
    "xbd_path = 'datasets/xbd'\r\n",
    "subsets = ('/train_bldgs/', '/hold_bldgs/', '/test_bldgs/', '/tier3_bldgs/')\r\n",
    "disaster_folders = os.listdir(xbd_path + subsets[0])\r\n",
    "\r\n",
    "i_subset = 0\r\n",
    "i_disaster = 5\r\n",
    "\r\n",
    "print(list(Path(xbd_path + subsets[i_subset] + disaster_folders[i_disaster]).glob('*.csv*'))[0])\r\n",
    "labels = pd.read_csv(list(Path(xbd_path + subsets[i_subset] + disaster_folders[i_disaster]).glob('*.csv*'))[0])\r\n",
    "labels.columns = ['name', 'xcoords', 'ycoords', 'long', 'lat', 'class']\r\n",
    "zone = lambda row: '_'.join(row['name'].split('_', 2)[:2])\r\n",
    "labels['zone'] = labels.apply(zone, axis=1)\r\n",
    "labels['zone'].value_counts()\r\n",
    "#labels['zone'].value_counts()[labels['zone'].value_counts()==1].index.tolist()"
   ],
   "outputs": [],
   "metadata": {}
  },
  {
   "cell_type": "code",
   "execution_count": null,
   "source": [
    "from visualization import plot_on_image\r\n",
    "\r\n",
    "plot_on_image(labels, subsets[i_subset], 'mexico-earthquake_00000192')"
   ],
   "outputs": [],
   "metadata": {}
  },
  {
   "cell_type": "code",
   "execution_count": null,
   "source": [
    "from visualization import plot_on_map\r\n",
    "\r\n",
    "plot_on_map(labels, mapbox=False)"
   ],
   "outputs": [],
   "metadata": {}
  },
  {
   "cell_type": "code",
   "execution_count": null,
   "source": [
    "import matplotlib\r\n",
    "import matplotlib.pyplot as plt\r\n",
    "import numpy as np\r\n",
    "from visualization import CmapString\r\n",
    "\r\n",
    "cmap = CmapString(palette='viridis', domain=labels['zone'].values)\r\n",
    "\r\n",
    "plt.figure(figsize=(12,8))\r\n",
    "for _, row in labels.iterrows():\r\n",
    "    plt.scatter(row['xcoords'], row['ycoords'], label=row['zone'], color=cmap.color(row['zone']))\r\n",
    "plt.axis('off')\r\n",
    "plt.show()"
   ],
   "outputs": [],
   "metadata": {}
  },
  {
   "cell_type": "markdown",
   "source": [
    "---\n",
    "\n",
    "# Graph Generation"
   ],
   "metadata": {}
  },
  {
   "cell_type": "code",
   "execution_count": null,
   "source": [
    "import os\r\n",
    "from pathlib import Path\r\n",
    "import json\r\n",
    "import pandas as pd"
   ],
   "outputs": [],
   "metadata": {}
  },
  {
   "cell_type": "code",
   "execution_count": null,
   "source": [
    "path = 'datasets/xbd/hold_bldgs/'\r\n",
    "disaster_folders = os.listdir(path)\r\n",
    "disaster = 'mexico-earthquake'\r\n",
    "\r\n",
    "labels = pd.read_csv(list(Path(path + disaster).glob('*.csv*'))[0], index_col=0)\r\n",
    "labels.drop(columns=['long','lat'], inplace=True)\r\n",
    "zone = lambda row: '_'.join(row.name.split('_', 2)[:2])\r\n",
    "labels['zone'] = labels.apply(zone, axis=1)\r\n",
    "\r\n",
    "processed_files = []\r\n",
    "zones = labels['zone'].value_counts()[labels['zone'].value_counts()>1].index.tolist()\r\n",
    "for zone in zones:\r\n",
    "     if not ((labels[labels['zone'] == zone]['class'] == 'un-classified').all() or \\\r\n",
    "            (labels[labels['zone'] == zone]['class'] != 'un-classified').sum() == 1):\r\n",
    "        processed_files.append(f'{zone}.pt')\r\n",
    "\r\n",
    "len(processed_files)"
   ],
   "outputs": [],
   "metadata": {}
  },
  {
   "cell_type": "markdown",
   "source": [
    "---\n",
    "\n",
    "# Training"
   ],
   "metadata": {}
  },
  {
   "cell_type": "code",
   "execution_count": 1,
   "source": [
    "import json\r\n",
    "import numpy as np\r\n",
    "import matplotlib.pyplot as plt\r\n",
    "import torch\r\n",
    "import torch.nn.functional as F\r\n",
    "from torch.optim.lr_scheduler import ReduceLROnPlateau\r\n",
    "from torch_geometric.data import GraphSAINTNodeSampler\r\n",
    "from tqdm import tqdm\r\n",
    "from dataset import xBD\r\n",
    "from model import DeeperGCN\r\n",
    "from metrics import xview2_f1_score\r\n",
    "\r\n",
    "with open('exp_settings.json', 'r') as JSON:\r\n",
    "    settings_dict = json.load(JSON)\r\n",
    "\r\n",
    "seed = settings_dict['seed']\r\n",
    "batch_size = settings_dict['data']['batch_size']\r\n",
    "num_steps = settings_dict['data']['saint_num_steps']\r\n",
    "name = settings_dict['model']['name']\r\n",
    "\r\n",
    "train_set = settings_dict['train_set']\r\n",
    "if len(train_set) == 1:\r\n",
    "    if train_set[0] == 'mexico-earthquake':\r\n",
    "        train_root = settings_dict['data']['mexico_train_root']\r\n",
    "        test_root = settings_dict['data']['mexico_test_root']\r\n",
    "    else:\r\n",
    "        train_root = settings_dict['data']['palu_train_root']\r\n",
    "        test_root = settings_dict['data']['palu_test_root']\r\n",
    "else:\r\n",
    "    train_root = settings_dict['data']['palu_matthew_rosa_train_root']\r\n",
    "    test_root = settings_dict['data']['palu_matthew_rosa_test_root']\r\n",
    "hold_root = settings_dict['data']['mexico_hold_root']\r\n",
    "\r\n",
    "hidden_units = settings_dict['model']['hidden_units']\r\n",
    "num_layers = settings_dict['model']['num_layers']\r\n",
    "dropout_rate = settings_dict['model']['dropout_rate']\r\n",
    "lr = settings_dict['model']['lr']\r\n",
    "n_epochs = settings_dict['epochs']\r\n",
    "starting_epoch = settings_dict['starting_epoch']\r\n",
    "path = settings_dict['model']['path']\r\n",
    "save_best_only = settings_dict['save_best_only']\r\n",
    "\r\n",
    "device = torch.device(\"cuda:0\" if torch.cuda.is_available() else \"cpu\")\r\n",
    "torch.manual_seed(seed)\r\n",
    "torch.backends.cudnn.deterministic = True\r\n",
    "torch.backends.cudnn.benchmark = False"
   ],
   "outputs": [],
   "metadata": {}
  },
  {
   "cell_type": "code",
   "execution_count": 2,
   "source": [
    "#train_dataset = xBD(train_root, 'train', train_set)\r\n",
    "#test_dataset = xBD(train_root, 'test', train_set)\r\n",
    "hold_dataset = xBD(hold_root, 'hold', ['mexico-earthquake'])"
   ],
   "outputs": [],
   "metadata": {}
  },
  {
   "cell_type": "code",
   "execution_count": 4,
   "source": [
    "model = DeeperGCN(hold_dataset.num_node_features,\r\n",
    "                  hold_dataset.num_edge_features,\r\n",
    "                  hidden_units,\r\n",
    "                  hold_dataset.num_classes,\r\n",
    "                  num_layers,\r\n",
    "                  dropout_rate)\r\n",
    "model_path = path + '/' + name + '_best.pt'\r\n",
    "model.load_state_dict(torch.load(model_path))\r\n",
    "model = model.to(device)"
   ],
   "outputs": [],
   "metadata": {}
  },
  {
   "cell_type": "code",
   "execution_count": 14,
   "source": [
    "data = hold_dataset[1]\r\n",
    "sampler = GraphSAINTNodeSampler(data, batch_size=batch_size, num_steps=num_steps, num_workers=2)"
   ],
   "outputs": [],
   "metadata": {}
  },
  {
   "cell_type": "code",
   "execution_count": 15,
   "source": [
    "data"
   ],
   "outputs": [
    {
     "output_type": "execute_result",
     "data": {
      "text/plain": [
       "Data(edge_attr=[243951, 2], edge_index=[2, 243951], x=[699, 131072], y=[699, 4])"
      ]
     },
     "metadata": {},
     "execution_count": 15
    }
   ],
   "metadata": {}
  },
  {
   "cell_type": "code",
   "execution_count": null,
   "source": [
    "for subdata in sampler:\r\n",
    "    subdata = subdata.to(device)\r\n",
    "    out = model(subdata.x, subdata.edge_index, subdata.edge_attr)\r\n",
    "    loss = F.binary_cross_entropy(input=out, target=subdata.y.float(), weight=torch.Tensor(class_weights))\r\n",
    "    print(loss)\r\n",
    "    break"
   ],
   "outputs": [],
   "metadata": {}
  },
  {
   "cell_type": "code",
   "execution_count": 16,
   "source": [
    "with torch.no_grad():\r\n",
    "    model.eval()\r\n",
    "    ys = []\r\n",
    "    outs = []\r\n",
    "    for subdata in sampler:\r\n",
    "        subdata = subdata.to(device)\r\n",
    "        outs.append(model(subdata.x, subdata.edge_index, subdata.edge_attr).cpu())\r\n",
    "        ys.append(subdata.y.cpu())\r\n",
    "    outs = torch.cat(outs)\r\n",
    "    ys = torch.cat(ys)\r\n",
    "    f1 = xview2_f1_score(ys, outs)"
   ],
   "outputs": [],
   "metadata": {}
  },
  {
   "cell_type": "code",
   "execution_count": 27,
   "source": [
    "from metrics import parse_ordinal_output\r\n",
    "unique, counts = torch.unique(parse_ordinal_output(ys), return_counts=True)\r\n",
    "print(unique)\r\n",
    "print(counts)"
   ],
   "outputs": [
    {
     "output_type": "stream",
     "name": "stdout",
     "text": [
      "tensor([0, 2])\n",
      "tensor([1012,    1])\n"
     ]
    }
   ],
   "metadata": {}
  },
  {
   "cell_type": "code",
   "execution_count": 29,
   "source": [
    "unique, counts = torch.unique(outs.argmax(dim=1), return_counts=True)\r\n",
    "print(unique)\r\n",
    "print(counts)"
   ],
   "outputs": [
    {
     "output_type": "stream",
     "name": "stdout",
     "text": [
      "tensor([0])\n",
      "tensor([1013])\n"
     ]
    }
   ],
   "metadata": {}
  },
  {
   "cell_type": "code",
   "execution_count": 19,
   "source": [
    "f1"
   ],
   "outputs": [
    {
     "output_type": "execute_result",
     "data": {
      "text/plain": [
       "1.999997999015862e-06"
      ]
     },
     "metadata": {},
     "execution_count": 19
    }
   ],
   "metadata": {}
  },
  {
   "cell_type": "code",
   "execution_count": 31,
   "source": [
    "from sklearn.metrics import f1_score\r\n",
    "y_true = outs.argmax(dim=1)\r\n",
    "y_pred = parse_ordinal_output(ys)\r\n",
    "f1_classes = f1_score(y_true, y_pred, average=None)\r\n",
    "print(f1_classes)"
   ],
   "outputs": [
    {
     "output_type": "stream",
     "name": "stdout",
     "text": [
      "[0.99950617 0.        ]\n"
     ]
    }
   ],
   "metadata": {}
  },
  {
   "cell_type": "code",
   "execution_count": 33,
   "source": [
    "epsilon = 1e-6\r\n",
    "len(f1_classes) / sum((f1+epsilon)**-1 for f1 in f1_classes)"
   ],
   "outputs": [
    {
     "output_type": "execute_result",
     "data": {
      "text/plain": [
       "1.999997999015862e-06"
      ]
     },
     "metadata": {},
     "execution_count": 33
    }
   ],
   "metadata": {}
  },
  {
   "cell_type": "code",
   "execution_count": 36,
   "source": [
    "f1_score(y_true, y_pred, average='macro')"
   ],
   "outputs": [
    {
     "output_type": "execute_result",
     "data": {
      "text/plain": [
       "0.4997530864197531"
      ]
     },
     "metadata": {},
     "execution_count": 36
    }
   ],
   "metadata": {}
  },
  {
   "cell_type": "markdown",
   "source": [
    "---"
   ],
   "metadata": {}
  }
 ],
 "metadata": {
  "interpreter": {
   "hash": "95d70da30fd22c72e34c5b2686d9425669d156b01d561237a148d8f19599268b"
  },
  "kernelspec": {
   "name": "python3",
   "display_name": "Python 3.8.10 64-bit"
  },
  "language_info": {
   "codemirror_mode": {
    "name": "ipython",
    "version": 3
   },
   "file_extension": ".py",
   "mimetype": "text/x-python",
   "name": "python",
   "nbconvert_exporter": "python",
   "pygments_lexer": "ipython3",
   "version": "3.8.10"
  }
 },
 "nbformat": 4,
 "nbformat_minor": 4
}