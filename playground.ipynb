{
 "cells": [
  {
   "cell_type": "markdown",
   "source": [
    "# Data Visualization"
   ],
   "metadata": {}
  },
  {
   "cell_type": "code",
   "execution_count": null,
   "source": [
    "import pandas as pd\r\n",
    "from pathlib import Path\r\n",
    "\r\n",
    "xbd_path = 'datasets/xbd'\r\n",
    "subsets = ('/train_bldgs/', '/hold_bldgs/', '/test_bldgs/', '/tier3_bldgs/')\r\n",
    "disaster_folders = os.listdir(xbd_path + subsets[0])\r\n",
    "\r\n",
    "i_subset = 0\r\n",
    "i_disaster = 5\r\n",
    "\r\n",
    "print(list(Path(xbd_path + subsets[i_subset] + disaster_folders[i_disaster]).glob('*.csv*'))[0])\r\n",
    "labels = pd.read_csv(list(Path(xbd_path + subsets[i_subset] + disaster_folders[i_disaster]).glob('*.csv*'))[0])\r\n",
    "labels.columns = ['name', 'xcoords', 'ycoords', 'long', 'lat', 'class']\r\n",
    "zone = lambda row: '_'.join(row['name'].split('_', 2)[:2])\r\n",
    "labels['zone'] = labels.apply(zone, axis=1)\r\n",
    "labels['zone'].value_counts()\r\n",
    "#labels['zone'].value_counts()[labels['zone'].value_counts()==1].index.tolist()"
   ],
   "outputs": [],
   "metadata": {}
  },
  {
   "cell_type": "code",
   "execution_count": null,
   "source": [
    "from visualization import plot_on_image\r\n",
    "\r\n",
    "plot_on_image(labels, subsets[i_subset], 'mexico-earthquake_00000098')"
   ],
   "outputs": [],
   "metadata": {}
  },
  {
   "cell_type": "code",
   "execution_count": null,
   "source": [
    "from visualization import plot_on_map\r\n",
    "\r\n",
    "plot_on_map(labels, mapbox=False)"
   ],
   "outputs": [],
   "metadata": {}
  },
  {
   "cell_type": "code",
   "execution_count": null,
   "source": [
    "import matplotlib.pyplot as plt\r\n",
    "from visualization import CmapString\r\n",
    "\r\n",
    "cmap = CmapString(palette='viridis', domain=labels['zone'].values)\r\n",
    "\r\n",
    "plt.figure(figsize=(12,8))\r\n",
    "for _, row in labels.iterrows():\r\n",
    "    plt.scatter(row['xcoords'], row['ycoords'], label=row['zone'], color=cmap.color(row['zone']))\r\n",
    "plt.axis('off')\r\n",
    "plt.show()"
   ],
   "outputs": [],
   "metadata": {}
  },
  {
   "cell_type": "markdown",
   "source": [
    "## Polygon Visualization"
   ],
   "metadata": {}
  },
  {
   "cell_type": "code",
   "execution_count": null,
   "source": [
    "from visualization import plot_image\r\n",
    "\r\n",
    "plot_image(\"D:/thesis/datasets/xbd/train/labels/mexico-earthquake_00000098_post_disaster.json\")"
   ],
   "outputs": [],
   "metadata": {}
  },
  {
   "cell_type": "markdown",
   "source": [
    "---\r\n",
    "\r\n",
    "# Image Reshaping"
   ],
   "metadata": {}
  },
  {
   "cell_type": "code",
   "execution_count": null,
   "source": [
    "from PIL import Image\r\n",
    "from torchvision.transforms import ToTensor\r\n",
    "\r\n",
    "tr = ToTensor()\r\n",
    "\r\n",
    "image_pre = Image.open(\"D:/thesis/datasets/socal-fire_00000012_pre_disaster_2.png\").resize((128,128))\r\n",
    "image_post = Image.open(\"D:/thesis/datasets/socal-fire_00000124_post_disaster_4.png\").resize((128,128))"
   ],
   "outputs": [],
   "metadata": {}
  },
  {
   "cell_type": "code",
   "execution_count": null,
   "source": [
    "import torch\r\n",
    "\r\n",
    "image_pre = tr(image_pre)\r\n",
    "image_post = tr(image_post)\r\n",
    "images = torch.cat((image_pre, image_post),0)"
   ],
   "outputs": [],
   "metadata": {}
  },
  {
   "cell_type": "code",
   "execution_count": null,
   "source": [
    "imgs = images.flatten().unsqueeze(dim=0)"
   ],
   "outputs": [],
   "metadata": {}
  },
  {
   "cell_type": "code",
   "execution_count": null,
   "source": [
    "newimgs = imgs.reshape((-1, 6, 128, 128))"
   ],
   "outputs": [],
   "metadata": {}
  },
  {
   "cell_type": "code",
   "execution_count": null,
   "source": [
    "import matplotlib.pyplot as plt\r\n",
    "\r\n",
    "plt.imshow(newimgs[0,:3,:,:].permute(1,2,0))\r\n",
    "plt.show()"
   ],
   "outputs": [],
   "metadata": {}
  },
  {
   "cell_type": "code",
   "execution_count": null,
   "source": [
    "plt.imshow(newimgs[0,3:,:,:].permute(1,2,0))\r\n",
    "plt.show()"
   ],
   "outputs": [],
   "metadata": {}
  },
  {
   "cell_type": "markdown",
   "source": [
    "---\n",
    "\n",
    "# Graph Generation"
   ],
   "metadata": {}
  },
  {
   "cell_type": "code",
   "execution_count": null,
   "source": [
    "import os\r\n",
    "from pathlib import Path\r\n",
    "import json\r\n",
    "import pandas as pd\r\n",
    "\r\n",
    "path = 'datasets/xbd/train_bldgs/'\r\n",
    "disaster_folders = os.listdir(path)\r\n",
    "disaster = 'socal-fire'\r\n",
    "\r\n",
    "labels = pd.read_csv(list(Path(path + disaster).glob('*.csv*'))[0], index_col=0)\r\n",
    "labels.drop(columns=['long','lat'], inplace=True)\r\n",
    "zone = lambda row: '_'.join(row.name.split('_', 2)[:2])\r\n",
    "labels['zone'] = labels.apply(zone, axis=1)\r\n",
    "\r\n",
    "processed_files = []\r\n",
    "zones = labels['zone'].value_counts()[labels['zone'].value_counts()>1].index.tolist()\r\n",
    "for zone in zones:\r\n",
    "     if not ((labels[labels['zone'] == zone]['class'] == 'un-classified').all() or \\\r\n",
    "            (labels[labels['zone'] == zone]['class'] != 'un-classified').sum() == 1):\r\n",
    "        processed_files.append(f'{zone}.pt')\r\n",
    "\r\n",
    "len(processed_files)"
   ],
   "outputs": [],
   "metadata": {}
  },
  {
   "cell_type": "code",
   "execution_count": null,
   "source": [
    "for zone in [zones[0]]:\r\n",
    "    if (labels[labels['zone'] == zone]['class'] == 'un-classified').all() or \\\r\n",
    "    (labels[labels['zone'] == zone]['class'] != 'un-classified').sum() == 1:\r\n",
    "        continue\r\n",
    "    print(f'Building {zone}...')\r\n",
    "    list_pre_images = list(map(str, Path(path + disaster).glob(f'{zone}_pre_disaster*')))\r\n",
    "    list_post_images = list(map(str, Path(path + disaster).glob(f'{zone}_post_disaster*')))\r\n",
    "    coords = []\r\n",
    "\r\n",
    "    for pre_image_file, post_image_file in zip(list_pre_images, list_post_images):\r\n",
    "        \r\n",
    "        annot = labels.loc[os.path.split(post_image_file)[1],'class']\r\n",
    "        if annot == 'un-classified':\r\n",
    "            continue\r\n",
    "        coords.append((labels.loc[os.path.split(post_image_file)[1],'xcoord'],\r\n",
    "                        labels.loc[os.path.split(post_image_file)[1],'ycoord']))"
   ],
   "outputs": [],
   "metadata": {}
  },
  {
   "cell_type": "markdown",
   "source": [
    "---\r\n",
    "\r\n",
    "# Graph Connectivity"
   ],
   "metadata": {}
  },
  {
   "cell_type": "code",
   "execution_count": null,
   "source": [
    "import torch\r\n",
    "import networkx as nx\r\n",
    "from torch_geometric.utils import to_networkx\r\n",
    "\r\n",
    "data = torch.load('datasets/socal-fire_00000908.pt')\r\n",
    "data.pos = torch.tensor(coords)\r\n",
    "datax = to_networkx(data)\r\n",
    "pos = dict(enumerate(data.pos.numpy()))\r\n",
    "pos = {node: (x,-y) for (node, (x,y)) in pos.items()}\r\n",
    "nx.draw_networkx(datax, pos=pos, arrows=False, with_labels=False, node_size=20, node_color='red')"
   ],
   "outputs": [],
   "metadata": {}
  },
  {
   "cell_type": "code",
   "execution_count": null,
   "source": [
    "from visualization import plot_on_image\r\n",
    "plot_on_image(labels, 'train', 'socal-fire_00000908')"
   ],
   "outputs": [],
   "metadata": {}
  },
  {
   "cell_type": "code",
   "execution_count": null,
   "source": [
    "from torch_geometric.transforms import Compose, Delaunay, FaceToEdge\r\n",
    "trans = Compose([Delaunay(), FaceToEdge()])\r\n",
    "datad = trans(data)\r\n",
    "datad"
   ],
   "outputs": [],
   "metadata": {}
  },
  {
   "cell_type": "code",
   "execution_count": null,
   "source": [
    "datadx = to_networkx(datad)\r\n",
    "nx.draw_networkx(datadx, pos=pos, arrows=False, with_labels=False, node_size=20, node_color='red')"
   ],
   "outputs": [],
   "metadata": {}
  },
  {
   "cell_type": "markdown",
   "source": [
    "---"
   ],
   "metadata": {}
  },
  {
   "cell_type": "code",
   "execution_count": null,
   "source": [
    "from model import SiameseEncoder\r\n",
    "\r\n",
    "enc = SiameseEncoder(diff=False)"
   ],
   "outputs": [],
   "metadata": {}
  },
  {
   "cell_type": "code",
   "execution_count": null,
   "source": [
    "enc.get_output_shape()"
   ],
   "outputs": [],
   "metadata": {}
  },
  {
   "cell_type": "code",
   "execution_count": null,
   "source": [
    "import torch\r\n",
    "\r\n",
    "data = torch.load('datasets/socal-fire_00001135.pt')\r\n",
    "data"
   ],
   "outputs": [],
   "metadata": {}
  }
 ],
 "metadata": {
  "interpreter": {
   "hash": "95d70da30fd22c72e34c5b2686d9425669d156b01d561237a148d8f19599268b"
  },
  "kernelspec": {
   "name": "python3",
   "display_name": "Python 3.8.11 64-bit"
  },
  "language_info": {
   "name": "python",
   "version": "3.8.11",
   "mimetype": "text/x-python",
   "codemirror_mode": {
    "name": "ipython",
    "version": 3
   },
   "pygments_lexer": "ipython3",
   "nbconvert_exporter": "python",
   "file_extension": ".py"
  }
 },
 "nbformat": 4,
 "nbformat_minor": 4
}